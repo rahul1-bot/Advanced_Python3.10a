{
 "metadata": {
  "language_info": {
   "codemirror_mode": {
    "name": "ipython",
    "version": 3
   },
   "file_extension": ".py",
   "mimetype": "text/x-python",
   "name": "python",
   "nbconvert_exporter": "python",
   "pygments_lexer": "ipython3",
   "version": "3.9.0-final"
  },
  "orig_nbformat": 2,
  "kernelspec": {
   "name": "python3",
   "display_name": "Python 3",
   "language": "python"
  }
 },
 "nbformat": 4,
 "nbformat_minor": 2,
 "cells": [
  {
   "source": [
    "\n",
    "# Python Sequences"
   ],
   "cell_type": "markdown",
   "metadata": {}
  },
  {
   "cell_type": "code",
   "execution_count": 3,
   "metadata": {},
   "outputs": [
    {
     "output_type": "stream",
     "name": "stdout",
     "text": [
      "['a', 'hello']\n"
     ]
    }
   ],
   "source": [
    "names = [\"a\", \"b\", \"C\", \"D\"]\n",
    "del names[1:] \n",
    "names.append(\"hello\")\n",
    "print(names)"
   ]
  },
  {
   "source": [
    "del, append(obj), extend(iterable), [::], index(<obj>), clear(), insert(i, x), pop(i), remove(obj), reverse(), copy()|"
   ],
   "cell_type": "markdown",
   "metadata": {}
  },
  {
   "source": [
    "for any sequence `s`. range of indexes is given by\n",
    "range(0, len(s))\n",
    "first_index: 0\n",
    "last_index: len(s) - 1 "
   ],
   "cell_type": "markdown",
   "metadata": {}
  },
  {
   "cell_type": "code",
   "execution_count": 48,
   "metadata": {},
   "outputs": [],
   "source": [
    "def generator() -> str:\n",
    "    \n",
    "    yield \"hello\"\n",
    "    \n",
    "    yield \"byeee\"\n",
    "    \n",
    "    "
   ]
  },
  {
   "cell_type": "code",
   "execution_count": 49,
   "metadata": {},
   "outputs": [
    {
     "output_type": "stream",
     "name": "stdout",
     "text": [
      "hello\nbyeee\n"
     ]
    }
   ],
   "source": [
    "g = generator()\n",
    "while True:\n",
    "    try:\n",
    "        print(g.__next__())\n",
    "    except: break"
   ]
  },
  {
   "cell_type": "code",
   "execution_count": 53,
   "metadata": {},
   "outputs": [],
   "source": [
    "def factorial(n: int) -> int:\n",
    "    val = 1\n",
    "    for i in range(1, n+1):\n",
    "        yield val * i"
   ]
  },
  {
   "cell_type": "code",
   "execution_count": 54,
   "metadata": {},
   "outputs": [
    {
     "output_type": "stream",
     "name": "stdout",
     "text": [
      "1\n2\n3\n4\n5\n"
     ]
    }
   ],
   "source": [
    "f_gen = factorial(5)\n",
    "while True:\n",
    "    try:\n",
    "        print(f_gen.__next__())\n",
    "    except StopIteration: \n",
    "        break\n"
   ]
  },
  {
   "cell_type": "code",
   "execution_count": null,
   "metadata": {},
   "outputs": [],
   "source": []
  }
 ]
}