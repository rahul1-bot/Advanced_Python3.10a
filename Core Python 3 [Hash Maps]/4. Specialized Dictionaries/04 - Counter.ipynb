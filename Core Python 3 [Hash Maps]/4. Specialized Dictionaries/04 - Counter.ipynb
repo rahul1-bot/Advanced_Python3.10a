{
 "cells": [
  {
   "cell_type": "markdown",
   "metadata": {},
   "source": [
    "### Counter"
   ]
  },
  {
   "cell_type": "markdown",
   "metadata": {},
   "source": [
    "The `Counter` dictionary is one that specializes for helping with, you guessed it, counters!\n",
    "\n",
    "Actually we used a `defaultdict` earlier to do something similar:"
   ]
  },
  {
   "cell_type": "code",
   "execution_count": 1,
   "metadata": {},
   "outputs": [],
   "source": [
    "from collections import defaultdict, Counter"
   ]
  },
  {
   "cell_type": "markdown",
   "metadata": {},
   "source": [
    "Let's say we want to count the frequency of each character in a string:"
   ]
  },
  {
   "cell_type": "code",
   "execution_count": 2,
   "metadata": {},
   "outputs": [],
   "source": [
    "sentence = 'the quick brown fox jumps over the lazy dog'"
   ]
  },
  {
   "cell_type": "code",
   "execution_count": 3,
   "metadata": {},
   "outputs": [],
   "source": [
    "counter = defaultdict(int)"
   ]
  },
  {
   "cell_type": "code",
   "execution_count": 4,
   "metadata": {},
   "outputs": [],
   "source": [
    "for c in sentence:\n",
    "    counter[c] += 1"
   ]
  },
  {
   "cell_type": "code",
   "execution_count": 5,
   "metadata": {},
   "outputs": [
    {
     "data": {
      "text/plain": [
       "defaultdict(int,\n",
       "            {'t': 2,\n",
       "             'h': 2,\n",
       "             'e': 3,\n",
       "             ' ': 8,\n",
       "             'q': 1,\n",
       "             'u': 2,\n",
       "             'i': 1,\n",
       "             'c': 1,\n",
       "             'k': 1,\n",
       "             'b': 1,\n",
       "             'r': 2,\n",
       "             'o': 4,\n",
       "             'w': 1,\n",
       "             'n': 1,\n",
       "             'f': 1,\n",
       "             'x': 1,\n",
       "             'j': 1,\n",
       "             'm': 1,\n",
       "             'p': 1,\n",
       "             's': 1,\n",
       "             'v': 1,\n",
       "             'l': 1,\n",
       "             'a': 1,\n",
       "             'z': 1,\n",
       "             'y': 1,\n",
       "             'd': 1,\n",
       "             'g': 1})"
      ]
     },
     "execution_count": 5,
     "metadata": {},
     "output_type": "execute_result"
    }
   ],
   "source": [
    "counter"
   ]
  },
  {
   "cell_type": "markdown",
   "metadata": {},
   "source": [
    "We can do the same thing using a `Counter` - unlike the `defaultdict` we don't specify a default factory - it's always zero (it's a counter after all):"
   ]
  },
  {
   "cell_type": "code",
   "execution_count": 6,
   "metadata": {},
   "outputs": [],
   "source": [
    "counter = Counter()\n",
    "for c in sentence:\n",
    "    counter[c] += 1"
   ]
  },
  {
   "cell_type": "code",
   "execution_count": 7,
   "metadata": {},
   "outputs": [
    {
     "data": {
      "text/plain": [
       "Counter({'t': 2,\n",
       "         'h': 2,\n",
       "         'e': 3,\n",
       "         ' ': 8,\n",
       "         'q': 1,\n",
       "         'u': 2,\n",
       "         'i': 1,\n",
       "         'c': 1,\n",
       "         'k': 1,\n",
       "         'b': 1,\n",
       "         'r': 2,\n",
       "         'o': 4,\n",
       "         'w': 1,\n",
       "         'n': 1,\n",
       "         'f': 1,\n",
       "         'x': 1,\n",
       "         'j': 1,\n",
       "         'm': 1,\n",
       "         'p': 1,\n",
       "         's': 1,\n",
       "         'v': 1,\n",
       "         'l': 1,\n",
       "         'a': 1,\n",
       "         'z': 1,\n",
       "         'y': 1,\n",
       "         'd': 1,\n",
       "         'g': 1})"
      ]
     },
     "execution_count": 7,
     "metadata": {},
     "output_type": "execute_result"
    }
   ],
   "source": [
    "counter"
   ]
  },
  {
   "cell_type": "markdown",
   "metadata": {},
   "source": [
    "OK, so if that's all there was to `Counter` it would be pretty odd to have a data structure different than `OrderedDict`.\n",
    "\n",
    "But `Counter` has a slew of additional methods which make sense in the context of counters:\n",
    "\n",
    "1. Iterate through all the elements of counters, but repeat the elements as many times as their frequency\n",
    "2. Find the `n` most common (by frequency) elements\n",
    "3. Decrement the counters based on another `Counter` (or iterable)\n",
    "4. Increment the counters based on another `Counter` (or iterable)\n",
    "5. Specialized constructor for additional flexibility\n",
    "\n",
    "If you are familiar with multisets, then this is essentially a data structure that can be used for multisets."
   ]
  },
  {
   "cell_type": "markdown",
   "metadata": {},
   "source": [
    "#### Constructor"
   ]
  },
  {
   "cell_type": "markdown",
   "metadata": {},
   "source": [
    "It is so common to create a frequency distribution of elements in an iterable, that this is supported automatically:"
   ]
  },
  {
   "cell_type": "code",
   "execution_count": 8,
   "metadata": {},
   "outputs": [
    {
     "data": {
      "text/plain": [
       "Counter({'a': 4,\n",
       "         'b': 2,\n",
       "         'l': 2,\n",
       "         'e': 4,\n",
       "         ' ': 6,\n",
       "         'w': 2,\n",
       "         's': 2,\n",
       "         'I': 2,\n",
       "         'r': 1})"
      ]
     },
     "execution_count": 8,
     "metadata": {},
     "output_type": "execute_result"
    }
   ],
   "source": [
    "c1 = Counter('able was I ere I saw elba')\n",
    "c1"
   ]
  },
  {
   "cell_type": "markdown",
   "metadata": {},
   "source": [
    "Of course this works for iterables in general, not just strings:"
   ]
  },
  {
   "cell_type": "code",
   "execution_count": 9,
   "metadata": {},
   "outputs": [],
   "source": [
    "import random"
   ]
  },
  {
   "cell_type": "code",
   "execution_count": 10,
   "metadata": {},
   "outputs": [],
   "source": [
    "random.seed(0)"
   ]
  },
  {
   "cell_type": "code",
   "execution_count": 11,
   "metadata": {},
   "outputs": [],
   "source": [
    "my_list = [random.randint(0, 10) for _ in range(1_000)]"
   ]
  },
  {
   "cell_type": "code",
   "execution_count": 12,
   "metadata": {},
   "outputs": [],
   "source": [
    "c2 = Counter(my_list)"
   ]
  },
  {
   "cell_type": "code",
   "execution_count": 13,
   "metadata": {},
   "outputs": [
    {
     "data": {
      "text/plain": [
       "Counter({6: 95,\n",
       "         0: 97,\n",
       "         4: 91,\n",
       "         8: 76,\n",
       "         7: 94,\n",
       "         5: 89,\n",
       "         9: 85,\n",
       "         3: 80,\n",
       "         2: 88,\n",
       "         1: 107,\n",
       "         10: 98})"
      ]
     },
     "execution_count": 13,
     "metadata": {},
     "output_type": "execute_result"
    }
   ],
   "source": [
    "c2"
   ]
  },
  {
   "cell_type": "markdown",
   "metadata": {},
   "source": [
    "We can also initialize a `Counter` object by passing in keyword arguments, or even a dictionary:"
   ]
  },
  {
   "cell_type": "code",
   "execution_count": 14,
   "metadata": {},
   "outputs": [
    {
     "data": {
      "text/plain": [
       "Counter({'a': 1, 'b': 10})"
      ]
     },
     "execution_count": 14,
     "metadata": {},
     "output_type": "execute_result"
    }
   ],
   "source": [
    "c2 = Counter(a=1, b=10)\n",
    "c2"
   ]
  },
  {
   "cell_type": "code",
   "execution_count": 15,
   "metadata": {},
   "outputs": [
    {
     "data": {
      "text/plain": [
       "Counter({'a': 1, 'b': 10})"
      ]
     },
     "execution_count": 15,
     "metadata": {},
     "output_type": "execute_result"
    }
   ],
   "source": [
    "c3 = Counter({'a': 1, 'b': 10})\n",
    "c3"
   ]
  },
  {
   "cell_type": "markdown",
   "metadata": {},
   "source": [
    "Technically we can store values other than integers in a `Counter` object - it's possible but of limited use since the default is still `0` irrespective of what other values are contained in the object."
   ]
  },
  {
   "cell_type": "markdown",
   "metadata": {},
   "source": [
    "#### Finding the n most Common Elements"
   ]
  },
  {
   "cell_type": "markdown",
   "metadata": {},
   "source": [
    "Let's find the `n` most common words (by frequency) in a paragraph of text. Words are considered delimited by white space or punctuation marks such as `.`, `,`, `!`, etc - basically anything except a character or a digit.\n",
    "This is actually quite difficult to do, so we'll use a close enough approximation that will cover most cases just fine, using a regular expression:"
   ]
  },
  {
   "cell_type": "code",
   "execution_count": 16,
   "metadata": {},
   "outputs": [],
   "source": [
    "import re"
   ]
  },
  {
   "cell_type": "code",
   "execution_count": 17,
   "metadata": {},
   "outputs": [],
   "source": [
    "sentence = '''\n",
    "his module implements pseudo-random number generators for various distributions.\n",
    "\n",
    "For integers, there is uniform selection from a range. For sequences, there is uniform selection of a random element, a function to generate a random permutation of a list in-place, and a function for random sampling without replacement.\n",
    "\n",
    "On the real line, there are functions to compute uniform, normal (Gaussian), lognormal, negative exponential, gamma, and beta distributions. For generating distributions of angles, the von Mises distribution is available.\n",
    "\n",
    "Almost all module functions depend on the basic function random(), which generates a random float uniformly in the semi-open range [0.0, 1.0). Python uses the Mersenne Twister as the core generator. It produces 53-bit precision floats and has a period of 2**19937-1. The underlying implementation in C is both fast and threadsafe. The Mersenne Twister is one of the most extensively tested random number generators in existence. However, being completely deterministic, it is not suitable for all purposes, and is completely unsuitable for cryptographic purposes.'''"
   ]
  },
  {
   "cell_type": "code",
   "execution_count": 18,
   "metadata": {},
   "outputs": [],
   "source": [
    "words = re.split('\\W', sentence)"
   ]
  },
  {
   "cell_type": "code",
   "execution_count": 19,
   "metadata": {},
   "outputs": [
    {
     "data": {
      "text/plain": [
       "['',\n",
       " 'his',\n",
       " 'module',\n",
       " 'implements',\n",
       " 'pseudo',\n",
       " 'random',\n",
       " 'number',\n",
       " 'generators',\n",
       " 'for',\n",
       " 'various',\n",
       " 'distributions',\n",
       " '',\n",
       " '',\n",
       " 'For',\n",
       " 'integers',\n",
       " '',\n",
       " 'there',\n",
       " 'is',\n",
       " 'uniform',\n",
       " 'selection',\n",
       " 'from',\n",
       " 'a',\n",
       " 'range',\n",
       " '',\n",
       " 'For',\n",
       " 'sequences',\n",
       " '',\n",
       " 'there',\n",
       " 'is',\n",
       " 'uniform',\n",
       " 'selection',\n",
       " 'of',\n",
       " 'a',\n",
       " 'random',\n",
       " 'element',\n",
       " '',\n",
       " 'a',\n",
       " 'function',\n",
       " 'to',\n",
       " 'generate',\n",
       " 'a',\n",
       " 'random',\n",
       " 'permutation',\n",
       " 'of',\n",
       " 'a',\n",
       " 'list',\n",
       " 'in',\n",
       " 'place',\n",
       " '',\n",
       " 'and',\n",
       " 'a',\n",
       " 'function',\n",
       " 'for',\n",
       " 'random',\n",
       " 'sampling',\n",
       " 'without',\n",
       " 'replacement',\n",
       " '',\n",
       " '',\n",
       " 'On',\n",
       " 'the',\n",
       " 'real',\n",
       " 'line',\n",
       " '',\n",
       " 'there',\n",
       " 'are',\n",
       " 'functions',\n",
       " 'to',\n",
       " 'compute',\n",
       " 'uniform',\n",
       " '',\n",
       " 'normal',\n",
       " '',\n",
       " 'Gaussian',\n",
       " '',\n",
       " '',\n",
       " 'lognormal',\n",
       " '',\n",
       " 'negative',\n",
       " 'exponential',\n",
       " '',\n",
       " 'gamma',\n",
       " '',\n",
       " 'and',\n",
       " 'beta',\n",
       " 'distributions',\n",
       " '',\n",
       " 'For',\n",
       " 'generating',\n",
       " 'distributions',\n",
       " 'of',\n",
       " 'angles',\n",
       " '',\n",
       " 'the',\n",
       " 'von',\n",
       " 'Mises',\n",
       " 'distribution',\n",
       " 'is',\n",
       " 'available',\n",
       " '',\n",
       " '',\n",
       " 'Almost',\n",
       " 'all',\n",
       " 'module',\n",
       " 'functions',\n",
       " 'depend',\n",
       " 'on',\n",
       " 'the',\n",
       " 'basic',\n",
       " 'function',\n",
       " 'random',\n",
       " '',\n",
       " '',\n",
       " '',\n",
       " 'which',\n",
       " 'generates',\n",
       " 'a',\n",
       " 'random',\n",
       " 'float',\n",
       " 'uniformly',\n",
       " 'in',\n",
       " 'the',\n",
       " 'semi',\n",
       " 'open',\n",
       " 'range',\n",
       " '',\n",
       " '0',\n",
       " '0',\n",
       " '',\n",
       " '1',\n",
       " '0',\n",
       " '',\n",
       " '',\n",
       " 'Python',\n",
       " 'uses',\n",
       " 'the',\n",
       " 'Mersenne',\n",
       " 'Twister',\n",
       " 'as',\n",
       " 'the',\n",
       " 'core',\n",
       " 'generator',\n",
       " '',\n",
       " 'It',\n",
       " 'produces',\n",
       " '53',\n",
       " 'bit',\n",
       " 'precision',\n",
       " 'floats',\n",
       " 'and',\n",
       " 'has',\n",
       " 'a',\n",
       " 'period',\n",
       " 'of',\n",
       " '2',\n",
       " '',\n",
       " '19937',\n",
       " '1',\n",
       " '',\n",
       " 'The',\n",
       " 'underlying',\n",
       " 'implementation',\n",
       " 'in',\n",
       " 'C',\n",
       " 'is',\n",
       " 'both',\n",
       " 'fast',\n",
       " 'and',\n",
       " 'threadsafe',\n",
       " '',\n",
       " 'The',\n",
       " 'Mersenne',\n",
       " 'Twister',\n",
       " 'is',\n",
       " 'one',\n",
       " 'of',\n",
       " 'the',\n",
       " 'most',\n",
       " 'extensively',\n",
       " 'tested',\n",
       " 'random',\n",
       " 'number',\n",
       " 'generators',\n",
       " 'in',\n",
       " 'existence',\n",
       " '',\n",
       " 'However',\n",
       " '',\n",
       " 'being',\n",
       " 'completely',\n",
       " 'deterministic',\n",
       " '',\n",
       " 'it',\n",
       " 'is',\n",
       " 'not',\n",
       " 'suitable',\n",
       " 'for',\n",
       " 'all',\n",
       " 'purposes',\n",
       " '',\n",
       " 'and',\n",
       " 'is',\n",
       " 'completely',\n",
       " 'unsuitable',\n",
       " 'for',\n",
       " 'cryptographic',\n",
       " 'purposes',\n",
       " '']"
      ]
     },
     "execution_count": 19,
     "metadata": {},
     "output_type": "execute_result"
    }
   ],
   "source": [
    "words"
   ]
  },
  {
   "cell_type": "markdown",
   "metadata": {},
   "source": [
    "But what are the frequencies of each word, and what are the 5 most frequent words?"
   ]
  },
  {
   "cell_type": "code",
   "execution_count": 20,
   "metadata": {},
   "outputs": [],
   "source": [
    "word_count = Counter(words)"
   ]
  },
  {
   "cell_type": "code",
   "execution_count": 21,
   "metadata": {},
   "outputs": [
    {
     "data": {
      "text/plain": [
       "Counter({'': 38,\n",
       "         'his': 1,\n",
       "         'module': 2,\n",
       "         'implements': 1,\n",
       "         'pseudo': 1,\n",
       "         'random': 7,\n",
       "         'number': 2,\n",
       "         'generators': 2,\n",
       "         'for': 4,\n",
       "         'various': 1,\n",
       "         'distributions': 3,\n",
       "         'For': 3,\n",
       "         'integers': 1,\n",
       "         'there': 3,\n",
       "         'is': 7,\n",
       "         'uniform': 3,\n",
       "         'selection': 2,\n",
       "         'from': 1,\n",
       "         'a': 8,\n",
       "         'range': 2,\n",
       "         'sequences': 1,\n",
       "         'of': 5,\n",
       "         'element': 1,\n",
       "         'function': 3,\n",
       "         'to': 2,\n",
       "         'generate': 1,\n",
       "         'permutation': 1,\n",
       "         'list': 1,\n",
       "         'in': 4,\n",
       "         'place': 1,\n",
       "         'and': 5,\n",
       "         'sampling': 1,\n",
       "         'without': 1,\n",
       "         'replacement': 1,\n",
       "         'On': 1,\n",
       "         'the': 7,\n",
       "         'real': 1,\n",
       "         'line': 1,\n",
       "         'are': 1,\n",
       "         'functions': 2,\n",
       "         'compute': 1,\n",
       "         'normal': 1,\n",
       "         'Gaussian': 1,\n",
       "         'lognormal': 1,\n",
       "         'negative': 1,\n",
       "         'exponential': 1,\n",
       "         'gamma': 1,\n",
       "         'beta': 1,\n",
       "         'generating': 1,\n",
       "         'angles': 1,\n",
       "         'von': 1,\n",
       "         'Mises': 1,\n",
       "         'distribution': 1,\n",
       "         'available': 1,\n",
       "         'Almost': 1,\n",
       "         'all': 2,\n",
       "         'depend': 1,\n",
       "         'on': 1,\n",
       "         'basic': 1,\n",
       "         'which': 1,\n",
       "         'generates': 1,\n",
       "         'float': 1,\n",
       "         'uniformly': 1,\n",
       "         'semi': 1,\n",
       "         'open': 1,\n",
       "         '0': 3,\n",
       "         '1': 2,\n",
       "         'Python': 1,\n",
       "         'uses': 1,\n",
       "         'Mersenne': 2,\n",
       "         'Twister': 2,\n",
       "         'as': 1,\n",
       "         'core': 1,\n",
       "         'generator': 1,\n",
       "         'It': 1,\n",
       "         'produces': 1,\n",
       "         '53': 1,\n",
       "         'bit': 1,\n",
       "         'precision': 1,\n",
       "         'floats': 1,\n",
       "         'has': 1,\n",
       "         'period': 1,\n",
       "         '2': 1,\n",
       "         '19937': 1,\n",
       "         'The': 2,\n",
       "         'underlying': 1,\n",
       "         'implementation': 1,\n",
       "         'C': 1,\n",
       "         'both': 1,\n",
       "         'fast': 1,\n",
       "         'threadsafe': 1,\n",
       "         'one': 1,\n",
       "         'most': 1,\n",
       "         'extensively': 1,\n",
       "         'tested': 1,\n",
       "         'existence': 1,\n",
       "         'However': 1,\n",
       "         'being': 1,\n",
       "         'completely': 2,\n",
       "         'deterministic': 1,\n",
       "         'it': 1,\n",
       "         'not': 1,\n",
       "         'suitable': 1,\n",
       "         'purposes': 2,\n",
       "         'unsuitable': 1,\n",
       "         'cryptographic': 1})"
      ]
     },
     "execution_count": 21,
     "metadata": {},
     "output_type": "execute_result"
    }
   ],
   "source": [
    "word_count"
   ]
  },
  {
   "cell_type": "code",
   "execution_count": 22,
   "metadata": {},
   "outputs": [
    {
     "data": {
      "text/plain": [
       "[('', 38), ('a', 8), ('random', 7), ('is', 7), ('the', 7)]"
      ]
     },
     "execution_count": 22,
     "metadata": {},
     "output_type": "execute_result"
    }
   ],
   "source": [
    "word_count.most_common(5)"
   ]
  },
  {
   "cell_type": "markdown",
   "metadata": {},
   "source": [
    "#### Using Repeated Iteration"
   ]
  },
  {
   "cell_type": "code",
   "execution_count": 23,
   "metadata": {},
   "outputs": [
    {
     "data": {
      "text/plain": [
       "Counter({'a': 2, 'b': 2})"
      ]
     },
     "execution_count": 23,
     "metadata": {},
     "output_type": "execute_result"
    }
   ],
   "source": [
    "c1 = Counter('abba')\n",
    "c1"
   ]
  },
  {
   "cell_type": "code",
   "execution_count": 24,
   "metadata": {},
   "outputs": [
    {
     "name": "stdout",
     "output_type": "stream",
     "text": [
      "a\n",
      "b\n"
     ]
    }
   ],
   "source": [
    "for c in c1:\n",
    "    print(c)"
   ]
  },
  {
   "cell_type": "markdown",
   "metadata": {},
   "source": [
    "However, we can have an iteration that repeats the counter keys as many times as the indicated frequency:"
   ]
  },
  {
   "cell_type": "code",
   "execution_count": 25,
   "metadata": {},
   "outputs": [
    {
     "name": "stdout",
     "output_type": "stream",
     "text": [
      "a\n",
      "a\n",
      "b\n",
      "b\n"
     ]
    }
   ],
   "source": [
    "for c in c1.elements():\n",
    "    print(c)"
   ]
  },
  {
   "cell_type": "markdown",
   "metadata": {},
   "source": [
    "What's interesting about this functionality is that we can turn this around and use it as a way to create an iterable that has repeating elements.\n",
    "\n",
    "Suppose we want to to iterate through a list of (integer) numbers that are each repeated as many times as the number itself.\n",
    "\n",
    "For example 1 should repeat once, 2 should repeat twice, and so on.\n",
    "\n",
    "This is actually not that easy to do!\n",
    "\n",
    "Here's one possible way to do it:"
   ]
  },
  {
   "cell_type": "code",
   "execution_count": 26,
   "metadata": {},
   "outputs": [
    {
     "name": "stdout",
     "output_type": "stream",
     "text": [
      "[1, 2, 2, 3, 3, 3, 4, 4, 4, 4, 5, 5, 5, 5, 5, 6, 6, 6, 6, 6, 6, 7, 7, 7, 7, 7, 7, 7, 8, 8, 8, 8, 8, 8, 8, 8, 9, 9, 9, 9, 9, 9, 9, 9, 9, 10, 10, 10, 10, 10, 10, 10, 10, 10, 10]\n"
     ]
    }
   ],
   "source": [
    "l = []\n",
    "for i in range(1, 11):\n",
    "    for _ in range(i):\n",
    "        l.append(i)\n",
    "print(l)"
   ]
  },
  {
   "cell_type": "markdown",
   "metadata": {},
   "source": [
    "But we could use a `Counter` object as well:"
   ]
  },
  {
   "cell_type": "code",
   "execution_count": 27,
   "metadata": {},
   "outputs": [],
   "source": [
    "c1 = Counter()\n",
    "for i in range(1, 11):\n",
    "    c1[i] = i"
   ]
  },
  {
   "cell_type": "code",
   "execution_count": 28,
   "metadata": {},
   "outputs": [
    {
     "data": {
      "text/plain": [
       "Counter({1: 1, 2: 2, 3: 3, 4: 4, 5: 5, 6: 6, 7: 7, 8: 8, 9: 9, 10: 10})"
      ]
     },
     "execution_count": 28,
     "metadata": {},
     "output_type": "execute_result"
    }
   ],
   "source": [
    "c1"
   ]
  },
  {
   "cell_type": "code",
   "execution_count": 29,
   "metadata": {},
   "outputs": [
    {
     "name": "stdout",
     "output_type": "stream",
     "text": [
      "<itertools.chain object at 0x1047aa518>\n"
     ]
    }
   ],
   "source": [
    "print(c1.elements())"
   ]
  },
  {
   "cell_type": "markdown",
   "metadata": {},
   "source": [
    "So you'll notice that we have a `chain` object here. That's one big advantage to using the `Counter` object - the repeated iterable does not actually exist as list like our previous implementation - this is a lazy iterable, so this is far more memory efficient.\n",
    "\n",
    "And we can iterate through that `chain` quite easily:"
   ]
  },
  {
   "cell_type": "code",
   "execution_count": 30,
   "metadata": {},
   "outputs": [
    {
     "name": "stdout",
     "output_type": "stream",
     "text": [
      "1, 2, 2, 3, 3, 3, 4, 4, 4, 4, 5, 5, 5, 5, 5, 6, 6, 6, 6, 6, 6, 7, 7, 7, 7, 7, 7, 7, 8, 8, 8, 8, 8, 8, 8, 8, 9, 9, 9, 9, 9, 9, 9, 9, 9, 10, 10, 10, 10, 10, 10, 10, 10, 10, 10, "
     ]
    }
   ],
   "source": [
    "for i in c1.elements():\n",
    "    print(i, end=', ')"
   ]
  },
  {
   "cell_type": "markdown",
   "metadata": {},
   "source": [
    "Just for fun, how could we reproduce this functionality using a plain dictionary?"
   ]
  },
  {
   "cell_type": "code",
   "execution_count": 31,
   "metadata": {},
   "outputs": [],
   "source": [
    "class RepeatIterable:\n",
    "    def __init__(self, **kwargs):\n",
    "        self.d = kwargs\n",
    "        \n",
    "    def __setitem__(self, key, value):\n",
    "        self.d[key] = value\n",
    "        \n",
    "    def __getitem__(self, key):\n",
    "        self.d[key] = self.d.get(key, 0)\n",
    "        return self.d[key]"
   ]
  },
  {
   "cell_type": "code",
   "execution_count": 32,
   "metadata": {},
   "outputs": [],
   "source": [
    "r = RepeatIterable(x=10, y=20)"
   ]
  },
  {
   "cell_type": "code",
   "execution_count": 33,
   "metadata": {},
   "outputs": [
    {
     "data": {
      "text/plain": [
       "{'x': 10, 'y': 20}"
      ]
     },
     "execution_count": 33,
     "metadata": {},
     "output_type": "execute_result"
    }
   ],
   "source": [
    "r.d"
   ]
  },
  {
   "cell_type": "code",
   "execution_count": 34,
   "metadata": {},
   "outputs": [],
   "source": [
    "r['a'] = 100"
   ]
  },
  {
   "cell_type": "code",
   "execution_count": 35,
   "metadata": {},
   "outputs": [
    {
     "data": {
      "text/plain": [
       "100"
      ]
     },
     "execution_count": 35,
     "metadata": {},
     "output_type": "execute_result"
    }
   ],
   "source": [
    "r['a']"
   ]
  },
  {
   "cell_type": "code",
   "execution_count": 36,
   "metadata": {},
   "outputs": [
    {
     "data": {
      "text/plain": [
       "0"
      ]
     },
     "execution_count": 36,
     "metadata": {},
     "output_type": "execute_result"
    }
   ],
   "source": [
    "r['b']"
   ]
  },
  {
   "cell_type": "code",
   "execution_count": 37,
   "metadata": {},
   "outputs": [
    {
     "data": {
      "text/plain": [
       "{'x': 10, 'y': 20, 'a': 100, 'b': 0}"
      ]
     },
     "execution_count": 37,
     "metadata": {},
     "output_type": "execute_result"
    }
   ],
   "source": [
    "r.d"
   ]
  },
  {
   "cell_type": "markdown",
   "metadata": {},
   "source": [
    "Now we have to implement that `elements` iterator:"
   ]
  },
  {
   "cell_type": "code",
   "execution_count": 38,
   "metadata": {},
   "outputs": [],
   "source": [
    "class RepeatIterable:\n",
    "    def __init__(self, **kwargs):\n",
    "        self.d = kwargs\n",
    "        \n",
    "    def __setitem__(self, key, value):\n",
    "        self.d[key] = value\n",
    "        \n",
    "    def __getitem__(self, key):\n",
    "        self.d[key] = self.d.get(key, 0)\n",
    "        return self.d[key]\n",
    "    \n",
    "    def elements(self):\n",
    "        for k, frequency in self.d.items():\n",
    "            for i in range(frequency):\n",
    "                yield k"
   ]
  },
  {
   "cell_type": "code",
   "execution_count": 39,
   "metadata": {},
   "outputs": [],
   "source": [
    "r = RepeatIterable(a=2, b=3, c=1)"
   ]
  },
  {
   "cell_type": "code",
   "execution_count": 40,
   "metadata": {},
   "outputs": [
    {
     "name": "stdout",
     "output_type": "stream",
     "text": [
      "a, a, b, b, b, c, "
     ]
    }
   ],
   "source": [
    "for e in r.elements():\n",
    "    print(e, end=', ')"
   ]
  },
  {
   "cell_type": "markdown",
   "metadata": {},
   "source": [
    "#### Updating from another Iterable or Counter"
   ]
  },
  {
   "cell_type": "markdown",
   "metadata": {},
   "source": [
    "Lastly let's see how we can update a `Counter` object using another `Counter` object. \n",
    "\n",
    "When both objects have the same key, we have a choice - do we add the count of one to the count of the other, or do we subtract them?\n",
    "\n",
    "We can do either, by using the `update` (additive) or `subtract` methods."
   ]
  },
  {
   "cell_type": "code",
   "execution_count": 41,
   "metadata": {},
   "outputs": [
    {
     "name": "stdout",
     "output_type": "stream",
     "text": [
      "Counter({'c': 5, 'b': 3, 'd': 3, 'a': 1})\n"
     ]
    }
   ],
   "source": [
    "c1 = Counter(a=1, b=2, c=3)\n",
    "c2 = Counter(b=1, c=2, d=3)\n",
    "\n",
    "c1.update(c2)\n",
    "print(c1)"
   ]
  },
  {
   "cell_type": "markdown",
   "metadata": {},
   "source": [
    "On the other hand we can subtract instead of add counters:"
   ]
  },
  {
   "cell_type": "code",
   "execution_count": 42,
   "metadata": {},
   "outputs": [
    {
     "name": "stdout",
     "output_type": "stream",
     "text": [
      "Counter({'a': 1, 'b': 1, 'c': 1, 'd': -3})\n"
     ]
    }
   ],
   "source": [
    "c1 = Counter(a=1, b=2, c=3)\n",
    "c2 = Counter(b=1, c=2, d=3)\n",
    "\n",
    "c1.subtract(c2)\n",
    "print(c1)"
   ]
  },
  {
   "cell_type": "markdown",
   "metadata": {},
   "source": [
    "Notice the key `d` - since `Counters` default missing keys to `0`, when `d: 3` in `c2` was subtracted from `c1`, the counter for `d` was defaulted to `0`."
   ]
  },
  {
   "cell_type": "markdown",
   "metadata": {},
   "source": [
    "Just as the constructor for a `Counter` can take different arguments, so too can the `update` and `subtract` methods."
   ]
  },
  {
   "cell_type": "code",
   "execution_count": 43,
   "metadata": {},
   "outputs": [
    {
     "name": "stdout",
     "output_type": "stream",
     "text": [
      "Counter({'a': 2, 'b': 2, 'c': 2, 'd': 2, 'e': 2})\n",
      "Counter({'a': 3, 'b': 3, 'c': 3, 'd': 3, 'e': 3, 'f': 1})\n"
     ]
    }
   ],
   "source": [
    "c1 = Counter('aabbccddee')\n",
    "print(c1)\n",
    "c1.update('abcdef')\n",
    "print(c1)"
   ]
  },
  {
   "cell_type": "markdown",
   "metadata": {},
   "source": [
    "#### Mathematical Operations"
   ]
  },
  {
   "cell_type": "markdown",
   "metadata": {},
   "source": [
    "These `Counter` objects also support several other mathematical operations when both operands are `Counter` objects. In all these cases the result is a new `Counter` object.\n",
    "\n",
    "* `+`: same as `update`, but returns a new `Counter` object instead of an in-place update.\n",
    "* `-`: subtracts one counter from another, but discards zero and negative values\n",
    "* `&`: keeps the **minimum** of the key values\n",
    "* `|`: keeps the **maximum** of the key values"
   ]
  },
  {
   "cell_type": "code",
   "execution_count": 44,
   "metadata": {},
   "outputs": [
    {
     "data": {
      "text/plain": [
       "Counter({'a': 3, 'b': 3, 'c': 3})"
      ]
     },
     "execution_count": 44,
     "metadata": {},
     "output_type": "execute_result"
    }
   ],
   "source": [
    "c1 = Counter('aabbcc')\n",
    "c2 = Counter('abc')\n",
    "c1 + c2"
   ]
  },
  {
   "cell_type": "code",
   "execution_count": 45,
   "metadata": {},
   "outputs": [
    {
     "data": {
      "text/plain": [
       "Counter({'a': 1, 'b': 1, 'c': 1})"
      ]
     },
     "execution_count": 45,
     "metadata": {},
     "output_type": "execute_result"
    }
   ],
   "source": [
    "c1 - c2"
   ]
  },
  {
   "cell_type": "code",
   "execution_count": 46,
   "metadata": {},
   "outputs": [
    {
     "data": {
      "text/plain": [
       "Counter({'a': 1, 'b': 1})"
      ]
     },
     "execution_count": 46,
     "metadata": {},
     "output_type": "execute_result"
    }
   ],
   "source": [
    "c1 = Counter(a=5, b=1)\n",
    "c2 = Counter(a=1, b=10)\n",
    "\n",
    "c1 & c2"
   ]
  },
  {
   "cell_type": "code",
   "execution_count": 47,
   "metadata": {},
   "outputs": [
    {
     "data": {
      "text/plain": [
       "Counter({'a': 5, 'b': 10})"
      ]
     },
     "execution_count": 47,
     "metadata": {},
     "output_type": "execute_result"
    }
   ],
   "source": [
    "c1 | c2"
   ]
  },
  {
   "cell_type": "markdown",
   "metadata": {},
   "source": [
    "The **unary** `+` can also be used to remove any non-positive count from the Counter:"
   ]
  },
  {
   "cell_type": "code",
   "execution_count": 48,
   "metadata": {},
   "outputs": [
    {
     "data": {
      "text/plain": [
       "Counter({'a': 10})"
      ]
     },
     "execution_count": 48,
     "metadata": {},
     "output_type": "execute_result"
    }
   ],
   "source": [
    "c1 = Counter(a=10, b=-10)\n",
    "+c1"
   ]
  },
  {
   "cell_type": "markdown",
   "metadata": {},
   "source": [
    "The **unary** `-` changes the sign of each counter, and removes any non-positive result:"
   ]
  },
  {
   "cell_type": "code",
   "execution_count": 49,
   "metadata": {},
   "outputs": [
    {
     "data": {
      "text/plain": [
       "Counter({'b': 10})"
      ]
     },
     "execution_count": 49,
     "metadata": {},
     "output_type": "execute_result"
    }
   ],
   "source": [
    "-c1"
   ]
  },
  {
   "cell_type": "markdown",
   "metadata": {},
   "source": [
    "##### Example"
   ]
  },
  {
   "cell_type": "markdown",
   "metadata": {},
   "source": [
    "Let's assume you are working for a company that produces different kinds of widgets.\n",
    "You are asked to identify the top 3 best selling widgets.\n",
    "\n",
    "You have two separate data sources - one data source can give you a history of all widget orders (widget name, quantity), while another data source can give you a history of widget refunds (widget name, quantity refunded).\n",
    "\n",
    "From these two data sources, you need to determine the top selling widgets (taking refinds into account of course)."
   ]
  },
  {
   "cell_type": "markdown",
   "metadata": {},
   "source": [
    "Let's simulate both of these lists:"
   ]
  },
  {
   "cell_type": "code",
   "execution_count": 50,
   "metadata": {},
   "outputs": [],
   "source": [
    "import random\n",
    "random.seed(0)\n",
    "\n",
    "widgets = ['battery', 'charger', 'cable', 'case', 'keyboard', 'mouse']\n",
    "\n",
    "orders = [(random.choice(widgets), random.randint(1, 5)) for _ in range(100)]\n",
    "refunds = [(random.choice(widgets), random.randint(1, 3)) for _ in range(20)]"
   ]
  },
  {
   "cell_type": "code",
   "execution_count": 51,
   "metadata": {},
   "outputs": [
    {
     "data": {
      "text/plain": [
       "[('case', 4),\n",
       " ('battery', 3),\n",
       " ('keyboard', 4),\n",
       " ('case', 3),\n",
       " ('case', 3),\n",
       " ('keyboard', 2),\n",
       " ('keyboard', 2),\n",
       " ('cable', 2),\n",
       " ('battery', 5),\n",
       " ('cable', 5),\n",
       " ('mouse', 5),\n",
       " ('charger', 3),\n",
       " ('battery', 1),\n",
       " ('mouse', 3),\n",
       " ('case', 5),\n",
       " ('battery', 3),\n",
       " ('case', 3),\n",
       " ('keyboard', 2),\n",
       " ('keyboard', 4),\n",
       " ('case', 5),\n",
       " ('cable', 1),\n",
       " ('keyboard', 1),\n",
       " ('battery', 4),\n",
       " ('mouse', 1),\n",
       " ('keyboard', 4),\n",
       " ('cable', 2),\n",
       " ('mouse', 3),\n",
       " ('mouse', 1),\n",
       " ('charger', 5),\n",
       " ('charger', 2),\n",
       " ('charger', 5),\n",
       " ('case', 1),\n",
       " ('battery', 3),\n",
       " ('keyboard', 4),\n",
       " ('battery', 3),\n",
       " ('keyboard', 3),\n",
       " ('mouse', 1),\n",
       " ('keyboard', 3),\n",
       " ('keyboard', 2),\n",
       " ('keyboard', 5),\n",
       " ('keyboard', 3),\n",
       " ('case', 1),\n",
       " ('keyboard', 4),\n",
       " ('cable', 5),\n",
       " ('charger', 3),\n",
       " ('charger', 2),\n",
       " ('charger', 1),\n",
       " ('keyboard', 3),\n",
       " ('case', 1),\n",
       " ('battery', 2),\n",
       " ('charger', 1),\n",
       " ('battery', 5),\n",
       " ('mouse', 4),\n",
       " ('mouse', 5),\n",
       " ('cable', 5),\n",
       " ('charger', 2),\n",
       " ('mouse', 5),\n",
       " ('case', 5),\n",
       " ('cable', 4),\n",
       " ('case', 3),\n",
       " ('battery', 3),\n",
       " ('keyboard', 1),\n",
       " ('case', 5),\n",
       " ('mouse', 3),\n",
       " ('charger', 2),\n",
       " ('battery', 3),\n",
       " ('battery', 2),\n",
       " ('cable', 2),\n",
       " ('cable', 4),\n",
       " ('battery', 1),\n",
       " ('charger', 2),\n",
       " ('battery', 5),\n",
       " ('mouse', 5),\n",
       " ('keyboard', 1),\n",
       " ('battery', 1),\n",
       " ('mouse', 2),\n",
       " ('keyboard', 5),\n",
       " ('battery', 4),\n",
       " ('battery', 3),\n",
       " ('battery', 1),\n",
       " ('keyboard', 1),\n",
       " ('charger', 2),\n",
       " ('mouse', 1),\n",
       " ('case', 2),\n",
       " ('mouse', 1),\n",
       " ('mouse', 1),\n",
       " ('keyboard', 4),\n",
       " ('keyboard', 1),\n",
       " ('cable', 1),\n",
       " ('charger', 1),\n",
       " ('mouse', 3),\n",
       " ('cable', 4),\n",
       " ('charger', 1),\n",
       " ('keyboard', 4),\n",
       " ('battery', 5),\n",
       " ('battery', 4),\n",
       " ('charger', 3),\n",
       " ('cable', 4),\n",
       " ('keyboard', 2),\n",
       " ('mouse', 2)]"
      ]
     },
     "execution_count": 51,
     "metadata": {},
     "output_type": "execute_result"
    }
   ],
   "source": [
    "orders"
   ]
  },
  {
   "cell_type": "code",
   "execution_count": 52,
   "metadata": {},
   "outputs": [
    {
     "data": {
      "text/plain": [
       "[('battery', 3),\n",
       " ('charger', 1),\n",
       " ('cable', 3),\n",
       " ('cable', 1),\n",
       " ('keyboard', 2),\n",
       " ('mouse', 1),\n",
       " ('battery', 2),\n",
       " ('mouse', 2),\n",
       " ('keyboard', 3),\n",
       " ('cable', 3),\n",
       " ('cable', 2),\n",
       " ('mouse', 2),\n",
       " ('charger', 3),\n",
       " ('mouse', 1),\n",
       " ('case', 3),\n",
       " ('battery', 2),\n",
       " ('mouse', 1),\n",
       " ('keyboard', 2),\n",
       " ('charger', 1),\n",
       " ('case', 2)]"
      ]
     },
     "execution_count": 52,
     "metadata": {},
     "output_type": "execute_result"
    }
   ],
   "source": [
    "refunds"
   ]
  },
  {
   "cell_type": "markdown",
   "metadata": {},
   "source": [
    "Let's first load these up into counter objects.\n",
    "\n",
    "To do this we're going to iterate through the various lists and update our counters:"
   ]
  },
  {
   "cell_type": "code",
   "execution_count": 53,
   "metadata": {},
   "outputs": [],
   "source": [
    "sold_counter = Counter()\n",
    "refund_counter = Counter()\n",
    "\n",
    "for order in orders:\n",
    "    sold_counter[order[0]] += order[1]\n",
    "\n",
    "for refund in refunds:\n",
    "    refund_counter[refund[0]] += refund[1]"
   ]
  },
  {
   "cell_type": "code",
   "execution_count": 54,
   "metadata": {},
   "outputs": [
    {
     "data": {
      "text/plain": [
       "Counter({'case': 41,\n",
       "         'battery': 61,\n",
       "         'keyboard': 65,\n",
       "         'cable': 39,\n",
       "         'mouse': 46,\n",
       "         'charger': 35})"
      ]
     },
     "execution_count": 54,
     "metadata": {},
     "output_type": "execute_result"
    }
   ],
   "source": [
    "sold_counter"
   ]
  },
  {
   "cell_type": "code",
   "execution_count": 55,
   "metadata": {},
   "outputs": [
    {
     "data": {
      "text/plain": [
       "Counter({'battery': 7,\n",
       "         'charger': 5,\n",
       "         'cable': 9,\n",
       "         'keyboard': 7,\n",
       "         'mouse': 7,\n",
       "         'case': 5})"
      ]
     },
     "execution_count": 55,
     "metadata": {},
     "output_type": "execute_result"
    }
   ],
   "source": [
    "refund_counter"
   ]
  },
  {
   "cell_type": "code",
   "execution_count": 56,
   "metadata": {},
   "outputs": [],
   "source": [
    "net_counter = sold_counter - refund_counter"
   ]
  },
  {
   "cell_type": "code",
   "execution_count": 57,
   "metadata": {},
   "outputs": [
    {
     "data": {
      "text/plain": [
       "Counter({'case': 36,\n",
       "         'battery': 54,\n",
       "         'keyboard': 58,\n",
       "         'cable': 30,\n",
       "         'mouse': 39,\n",
       "         'charger': 30})"
      ]
     },
     "execution_count": 57,
     "metadata": {},
     "output_type": "execute_result"
    }
   ],
   "source": [
    "net_counter"
   ]
  },
  {
   "cell_type": "code",
   "execution_count": 58,
   "metadata": {},
   "outputs": [
    {
     "data": {
      "text/plain": [
       "[('keyboard', 58), ('battery', 54), ('mouse', 39)]"
      ]
     },
     "execution_count": 58,
     "metadata": {},
     "output_type": "execute_result"
    }
   ],
   "source": [
    "net_counter.most_common(3)"
   ]
  },
  {
   "cell_type": "markdown",
   "metadata": {},
   "source": [
    "We could actually do this a little differently, not using loops to populate our initial counters.\n",
    "\n",
    "Recall the `repeat()` function in `itertools`:"
   ]
  },
  {
   "cell_type": "code",
   "execution_count": 59,
   "metadata": {},
   "outputs": [],
   "source": [
    "from itertools import repeat"
   ]
  },
  {
   "cell_type": "code",
   "execution_count": 60,
   "metadata": {},
   "outputs": [
    {
     "data": {
      "text/plain": [
       "['battery', 'battery', 'battery', 'battery', 'battery']"
      ]
     },
     "execution_count": 60,
     "metadata": {},
     "output_type": "execute_result"
    }
   ],
   "source": [
    "list(repeat('battery', 5))"
   ]
  },
  {
   "cell_type": "code",
   "execution_count": 61,
   "metadata": {},
   "outputs": [
    {
     "data": {
      "text/plain": [
       "('case', 4)"
      ]
     },
     "execution_count": 61,
     "metadata": {},
     "output_type": "execute_result"
    }
   ],
   "source": [
    "orders[0]"
   ]
  },
  {
   "cell_type": "code",
   "execution_count": 62,
   "metadata": {},
   "outputs": [
    {
     "data": {
      "text/plain": [
       "['case', 'case', 'case', 'case']"
      ]
     },
     "execution_count": 62,
     "metadata": {},
     "output_type": "execute_result"
    }
   ],
   "source": [
    "list(repeat(*orders[0]))"
   ]
  },
  {
   "cell_type": "markdown",
   "metadata": {},
   "source": [
    "So we could use the `repeat()` method to essentially repeat each widget for each item of `orders`. We need to chain this up for each element of `orders` - this will give us a single iterable that we can then use in the constructor for a `Counter` object. We can do this using a generator expression for example:"
   ]
  },
  {
   "cell_type": "code",
   "execution_count": 63,
   "metadata": {},
   "outputs": [],
   "source": [
    "from itertools import chain"
   ]
  },
  {
   "cell_type": "code",
   "execution_count": 64,
   "metadata": {},
   "outputs": [
    {
     "data": {
      "text/plain": [
       "['case',\n",
       " 'case',\n",
       " 'case',\n",
       " 'case',\n",
       " 'battery',\n",
       " 'battery',\n",
       " 'battery',\n",
       " 'keyboard',\n",
       " 'keyboard',\n",
       " 'keyboard',\n",
       " 'keyboard',\n",
       " 'case',\n",
       " 'case',\n",
       " 'case',\n",
       " 'case',\n",
       " 'case',\n",
       " 'case',\n",
       " 'keyboard',\n",
       " 'keyboard',\n",
       " 'keyboard',\n",
       " 'keyboard',\n",
       " 'cable',\n",
       " 'cable',\n",
       " 'battery',\n",
       " 'battery',\n",
       " 'battery',\n",
       " 'battery',\n",
       " 'battery',\n",
       " 'cable',\n",
       " 'cable',\n",
       " 'cable',\n",
       " 'cable',\n",
       " 'cable',\n",
       " 'mouse',\n",
       " 'mouse',\n",
       " 'mouse',\n",
       " 'mouse',\n",
       " 'mouse',\n",
       " 'charger',\n",
       " 'charger',\n",
       " 'charger',\n",
       " 'battery',\n",
       " 'mouse',\n",
       " 'mouse',\n",
       " 'mouse',\n",
       " 'case',\n",
       " 'case',\n",
       " 'case',\n",
       " 'case',\n",
       " 'case',\n",
       " 'battery',\n",
       " 'battery',\n",
       " 'battery',\n",
       " 'case',\n",
       " 'case',\n",
       " 'case',\n",
       " 'keyboard',\n",
       " 'keyboard',\n",
       " 'keyboard',\n",
       " 'keyboard',\n",
       " 'keyboard',\n",
       " 'keyboard',\n",
       " 'case',\n",
       " 'case',\n",
       " 'case',\n",
       " 'case',\n",
       " 'case',\n",
       " 'cable',\n",
       " 'keyboard',\n",
       " 'battery',\n",
       " 'battery',\n",
       " 'battery',\n",
       " 'battery',\n",
       " 'mouse',\n",
       " 'keyboard',\n",
       " 'keyboard',\n",
       " 'keyboard',\n",
       " 'keyboard',\n",
       " 'cable',\n",
       " 'cable',\n",
       " 'mouse',\n",
       " 'mouse',\n",
       " 'mouse',\n",
       " 'mouse',\n",
       " 'charger',\n",
       " 'charger',\n",
       " 'charger',\n",
       " 'charger',\n",
       " 'charger',\n",
       " 'charger',\n",
       " 'charger',\n",
       " 'charger',\n",
       " 'charger',\n",
       " 'charger',\n",
       " 'charger',\n",
       " 'charger',\n",
       " 'case',\n",
       " 'battery',\n",
       " 'battery',\n",
       " 'battery',\n",
       " 'keyboard',\n",
       " 'keyboard',\n",
       " 'keyboard',\n",
       " 'keyboard',\n",
       " 'battery',\n",
       " 'battery',\n",
       " 'battery',\n",
       " 'keyboard',\n",
       " 'keyboard',\n",
       " 'keyboard',\n",
       " 'mouse',\n",
       " 'keyboard',\n",
       " 'keyboard',\n",
       " 'keyboard',\n",
       " 'keyboard',\n",
       " 'keyboard',\n",
       " 'keyboard',\n",
       " 'keyboard',\n",
       " 'keyboard',\n",
       " 'keyboard',\n",
       " 'keyboard',\n",
       " 'keyboard',\n",
       " 'keyboard',\n",
       " 'keyboard',\n",
       " 'case',\n",
       " 'keyboard',\n",
       " 'keyboard',\n",
       " 'keyboard',\n",
       " 'keyboard',\n",
       " 'cable',\n",
       " 'cable',\n",
       " 'cable',\n",
       " 'cable',\n",
       " 'cable',\n",
       " 'charger',\n",
       " 'charger',\n",
       " 'charger',\n",
       " 'charger',\n",
       " 'charger',\n",
       " 'charger',\n",
       " 'keyboard',\n",
       " 'keyboard',\n",
       " 'keyboard',\n",
       " 'case',\n",
       " 'battery',\n",
       " 'battery',\n",
       " 'charger',\n",
       " 'battery',\n",
       " 'battery',\n",
       " 'battery',\n",
       " 'battery',\n",
       " 'battery',\n",
       " 'mouse',\n",
       " 'mouse',\n",
       " 'mouse',\n",
       " 'mouse',\n",
       " 'mouse',\n",
       " 'mouse',\n",
       " 'mouse',\n",
       " 'mouse',\n",
       " 'mouse',\n",
       " 'cable',\n",
       " 'cable',\n",
       " 'cable',\n",
       " 'cable',\n",
       " 'cable',\n",
       " 'charger',\n",
       " 'charger',\n",
       " 'mouse',\n",
       " 'mouse',\n",
       " 'mouse',\n",
       " 'mouse',\n",
       " 'mouse',\n",
       " 'case',\n",
       " 'case',\n",
       " 'case',\n",
       " 'case',\n",
       " 'case',\n",
       " 'cable',\n",
       " 'cable',\n",
       " 'cable',\n",
       " 'cable',\n",
       " 'case',\n",
       " 'case',\n",
       " 'case',\n",
       " 'battery',\n",
       " 'battery',\n",
       " 'battery',\n",
       " 'keyboard',\n",
       " 'case',\n",
       " 'case',\n",
       " 'case',\n",
       " 'case',\n",
       " 'case',\n",
       " 'mouse',\n",
       " 'mouse',\n",
       " 'mouse',\n",
       " 'charger',\n",
       " 'charger',\n",
       " 'battery',\n",
       " 'battery',\n",
       " 'battery',\n",
       " 'battery',\n",
       " 'battery',\n",
       " 'cable',\n",
       " 'cable',\n",
       " 'cable',\n",
       " 'cable',\n",
       " 'cable',\n",
       " 'cable',\n",
       " 'battery',\n",
       " 'charger',\n",
       " 'charger',\n",
       " 'battery',\n",
       " 'battery',\n",
       " 'battery',\n",
       " 'battery',\n",
       " 'battery',\n",
       " 'mouse',\n",
       " 'mouse',\n",
       " 'mouse',\n",
       " 'mouse',\n",
       " 'mouse',\n",
       " 'keyboard',\n",
       " 'battery',\n",
       " 'mouse',\n",
       " 'mouse',\n",
       " 'keyboard',\n",
       " 'keyboard',\n",
       " 'keyboard',\n",
       " 'keyboard',\n",
       " 'keyboard',\n",
       " 'battery',\n",
       " 'battery',\n",
       " 'battery',\n",
       " 'battery',\n",
       " 'battery',\n",
       " 'battery',\n",
       " 'battery',\n",
       " 'battery',\n",
       " 'keyboard',\n",
       " 'charger',\n",
       " 'charger',\n",
       " 'mouse',\n",
       " 'case',\n",
       " 'case',\n",
       " 'mouse',\n",
       " 'mouse',\n",
       " 'keyboard',\n",
       " 'keyboard',\n",
       " 'keyboard',\n",
       " 'keyboard',\n",
       " 'keyboard',\n",
       " 'cable',\n",
       " 'charger',\n",
       " 'mouse',\n",
       " 'mouse',\n",
       " 'mouse',\n",
       " 'cable',\n",
       " 'cable',\n",
       " 'cable',\n",
       " 'cable',\n",
       " 'charger',\n",
       " 'keyboard',\n",
       " 'keyboard',\n",
       " 'keyboard',\n",
       " 'keyboard',\n",
       " 'battery',\n",
       " 'battery',\n",
       " 'battery',\n",
       " 'battery',\n",
       " 'battery',\n",
       " 'battery',\n",
       " 'battery',\n",
       " 'battery',\n",
       " 'battery',\n",
       " 'charger',\n",
       " 'charger',\n",
       " 'charger',\n",
       " 'cable',\n",
       " 'cable',\n",
       " 'cable',\n",
       " 'cable',\n",
       " 'keyboard',\n",
       " 'keyboard',\n",
       " 'mouse',\n",
       " 'mouse']"
      ]
     },
     "execution_count": 64,
     "metadata": {},
     "output_type": "execute_result"
    }
   ],
   "source": [
    "list(chain.from_iterable(repeat(*order) for order in orders))"
   ]
  },
  {
   "cell_type": "code",
   "execution_count": 65,
   "metadata": {},
   "outputs": [],
   "source": [
    "order_counter = Counter(chain.from_iterable(repeat(*order) for order in orders))"
   ]
  },
  {
   "cell_type": "code",
   "execution_count": 66,
   "metadata": {},
   "outputs": [
    {
     "data": {
      "text/plain": [
       "Counter({'case': 41,\n",
       "         'battery': 61,\n",
       "         'keyboard': 65,\n",
       "         'cable': 39,\n",
       "         'mouse': 46,\n",
       "         'charger': 35})"
      ]
     },
     "execution_count": 66,
     "metadata": {},
     "output_type": "execute_result"
    }
   ],
   "source": [
    "order_counter"
   ]
  },
  {
   "cell_type": "raw",
   "metadata": {},
   "source": [
    "#### Alternate Solution not using Counter"
   ]
  },
  {
   "cell_type": "markdown",
   "metadata": {},
   "source": [
    "What if we don't want to use a `Counter` object.\n",
    "We can still do it (relatively easily) as follows:"
   ]
  },
  {
   "cell_type": "code",
   "execution_count": 67,
   "metadata": {},
   "outputs": [
    {
     "data": {
      "text/plain": [
       "[('keyboard', 58), ('battery', 54), ('mouse', 39)]"
      ]
     },
     "execution_count": 67,
     "metadata": {},
     "output_type": "execute_result"
    }
   ],
   "source": [
    "net_sales = {}\n",
    "for order in orders:\n",
    "    key = order[0]\n",
    "    cnt = order[1]\n",
    "    net_sales[key] = net_sales.get(key, 0) + cnt\n",
    "    \n",
    "for refund in refunds:\n",
    "    key = refund[0]\n",
    "    cnt = refund[1]\n",
    "    net_sales[key] = net_sales.get(key, 0) - cnt\n",
    "\n",
    "# eliminate non-positive values (to mimic what - does for Counters)\n",
    "net_sales = {k: v for k, v in net_sales.items() if v > 0}\n",
    "\n",
    "# we now have to sort the dictionary\n",
    "# this means sorting the keys based on the values\n",
    "sorted_net_sales = sorted(net_sales.items(), key=lambda t: t[1], reverse=True)\n",
    "\n",
    "# Top three\n",
    "sorted_net_sales[:3]"
   ]
  }
 ],
 "metadata": {
  "kernelspec": {
   "display_name": "Python 3",
   "language": "python",
   "name": "python3"
  },
  "language_info": {
   "codemirror_mode": {
    "name": "ipython",
    "version": 3
   },
   "file_extension": ".py",
   "mimetype": "text/x-python",
   "name": "python",
   "nbconvert_exporter": "python",
   "pygments_lexer": "ipython3",
   "version": "3.6.7"
  }
 },
 "nbformat": 4,
 "nbformat_minor": 2
}
