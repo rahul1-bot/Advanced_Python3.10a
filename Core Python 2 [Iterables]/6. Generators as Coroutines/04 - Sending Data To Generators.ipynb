{
 "cells": [
  {
   "cell_type": "markdown",
   "metadata": {},
   "source": [
    "### Sending data to Generators"
   ]
  },
  {
   "cell_type": "markdown",
   "metadata": {},
   "source": [
    "With PEP 342, generators were enhanced to allow not just sending data out (yielding), but also receiving data.\n",
    "\n",
    "The basic idea is that when a generator is **suspended** after a yield statement, why not allow sending it some data when we resume its execution, exactly at the point where it resumes.\n",
    "\n",
    "In other words, immediately after the `yield` statement.\n",
    "\n",
    "And not on the next line of code, but actually in the same line as the `yield` - we should now think of the `yield` keyword, not just as a statement, but as an expression that also *receives* data - and we can assign that received value to a variable using an assignment. We can send data to the suspended generator (and resume running it) by using the `send()` **method** of the generator (instead of just using the `__next__` method (or, same thing, `next()`).\n",
    "\n",
    "**Note:**\n",
    "The **same** `yield` keyword is actually used to do both - but make no mistake, these are very different usages of the same keyword.\n",
    "\n",
    "The key difference is that `yield` is actually an expression, not a simple statement - and of course we can assign expressions to variables.\n",
    "\n",
    "Let's take a look at a simple example to illustrate how this works:"
   ]
  },
  {
   "cell_type": "code",
   "execution_count": 25,
   "metadata": {
    "collapsed": true
   },
   "outputs": [],
   "source": [
    "def echo():\n",
    "    while True:\n",
    "        received = yield\n",
    "        print('You said:', received)"
   ]
  },
  {
   "cell_type": "code",
   "execution_count": 26,
   "metadata": {
    "collapsed": true
   },
   "outputs": [],
   "source": [
    "e = echo()"
   ]
  },
  {
   "cell_type": "markdown",
   "metadata": {},
   "source": [
    "We now have a generator object, but what is it's state?"
   ]
  },
  {
   "cell_type": "code",
   "execution_count": 27,
   "metadata": {},
   "outputs": [
    {
     "data": {
      "text/plain": [
       "'GEN_CREATED'"
      ]
     },
     "execution_count": 27,
     "metadata": {},
     "output_type": "execute_result"
    }
   ],
   "source": [
    "from inspect import getgeneratorstate\n",
    "\n",
    "getgeneratorstate(e)"
   ]
  },
  {
   "cell_type": "markdown",
   "metadata": {},
   "source": [
    "Right, it is created, but not suspended - in order for it to receive data it should be run up to the `yield` expression.\n",
    "\n",
    "Remember that in assignments, the right hand side is evaluated **first**, and the result of the expression is assigned to the left hand variable.\n",
    "\n",
    "So, if we call `next` on the generator it will start running.\n",
    "Once it hits the line\n",
    "```\n",
    "received = yield\n",
    "```\n",
    "it will first evaluate the right hand side - at which time it will yield and therefore become suspended!"
   ]
  },
  {
   "cell_type": "code",
   "execution_count": 28,
   "metadata": {
    "collapsed": true
   },
   "outputs": [],
   "source": [
    "next(e)"
   ]
  },
  {
   "cell_type": "code",
   "execution_count": 29,
   "metadata": {},
   "outputs": [
    {
     "data": {
      "text/plain": [
       "'GEN_SUSPENDED'"
      ]
     },
     "execution_count": 29,
     "metadata": {},
     "output_type": "execute_result"
    }
   ],
   "source": [
    "getgeneratorstate(e)"
   ]
  },
  {
   "cell_type": "markdown",
   "metadata": {},
   "source": [
    "Now that it is waiting to resume, we can send it data, and the generator will received that data as if it were the right hand side of the assignment:"
   ]
  },
  {
   "cell_type": "code",
   "execution_count": 30,
   "metadata": {},
   "outputs": [
    {
     "name": "stdout",
     "output_type": "stream",
     "text": [
      "You said: python\n"
     ]
    }
   ],
   "source": [
    "e.send('python')"
   ]
  },
  {
   "cell_type": "markdown",
   "metadata": {},
   "source": [
    "And now the generator continued running until it hit a `yield` again - which it does since we have our yield inside an infinite loop:"
   ]
  },
  {
   "cell_type": "code",
   "execution_count": 31,
   "metadata": {},
   "outputs": [
    {
     "name": "stdout",
     "output_type": "stream",
     "text": [
      "You said: I said\n"
     ]
    }
   ],
   "source": [
    "e.send('I said')"
   ]
  },
  {
   "cell_type": "markdown",
   "metadata": {},
   "source": [
    "So, the `send` method essentially resume the generator just as the `__next__` does - but it also sends in some data that we can capture if we want to, inside the generator.\n",
    "\n",
    "What happens if we do call `next()` or `__next__` instead of `send()`?\n",
    "\n",
    "The same as if we had sent the `None` value:"
   ]
  },
  {
   "cell_type": "code",
   "execution_count": 32,
   "metadata": {},
   "outputs": [
    {
     "name": "stdout",
     "output_type": "stream",
     "text": [
      "You said: None\n"
     ]
    }
   ],
   "source": [
    "next(e)"
   ]
  },
  {
   "cell_type": "code",
   "execution_count": 33,
   "metadata": {},
   "outputs": [
    {
     "name": "stdout",
     "output_type": "stream",
     "text": [
      "You said: None\n"
     ]
    }
   ],
   "source": [
    "e.send(None)"
   ]
  },
  {
   "cell_type": "markdown",
   "metadata": {},
   "source": [
    "See, same thing..."
   ]
  },
  {
   "cell_type": "markdown",
   "metadata": {},
   "source": [
    "You might be asking whether we could have used `send` with all the generators we had written so far - sure!\n",
    "The `yield` keyword is an expression, and you don't have to assign the result of an expression to a variable:"
   ]
  },
  {
   "cell_type": "code",
   "execution_count": 35,
   "metadata": {},
   "outputs": [
    {
     "data": {
      "text/plain": [
       "True"
      ]
     },
     "execution_count": 35,
     "metadata": {},
     "output_type": "execute_result"
    }
   ],
   "source": [
    "10 < 100"
   ]
  },
  {
   "cell_type": "markdown",
   "metadata": {},
   "source": [
    "That was an expression, and it was perfectly fine not to assign it to a variable. We can, but we don't have to.\n",
    "\n",
    "So, in fact the following also works just fine:"
   ]
  },
  {
   "cell_type": "code",
   "execution_count": 36,
   "metadata": {
    "collapsed": true
   },
   "outputs": [],
   "source": [
    "def squares(n):\n",
    "    for i in range(n):\n",
    "        yield i**2"
   ]
  },
  {
   "cell_type": "code",
   "execution_count": 40,
   "metadata": {
    "collapsed": true
   },
   "outputs": [],
   "source": [
    "sq = squares(5)"
   ]
  },
  {
   "cell_type": "code",
   "execution_count": 41,
   "metadata": {},
   "outputs": [
    {
     "data": {
      "text/plain": [
       "0"
      ]
     },
     "execution_count": 41,
     "metadata": {},
     "output_type": "execute_result"
    }
   ],
   "source": [
    "next(sq)"
   ]
  },
  {
   "cell_type": "code",
   "execution_count": 42,
   "metadata": {},
   "outputs": [
    {
     "data": {
      "text/plain": [
       "1"
      ]
     },
     "execution_count": 42,
     "metadata": {},
     "output_type": "execute_result"
    }
   ],
   "source": [
    "sq.send(100)"
   ]
  },
  {
   "cell_type": "code",
   "execution_count": 43,
   "metadata": {},
   "outputs": [
    {
     "data": {
      "text/plain": [
       "4"
      ]
     },
     "execution_count": 43,
     "metadata": {},
     "output_type": "execute_result"
    }
   ],
   "source": [
    "sq.send(100)"
   ]
  },
  {
   "cell_type": "markdown",
   "metadata": {},
   "source": [
    "Now, the only thing is that we cannot change a generator from `created` to `suspended` using the `send()` function - we **have** to call `next` first.\n",
    "\n",
    "In other words this will not work:"
   ]
  },
  {
   "cell_type": "code",
   "execution_count": 44,
   "metadata": {
    "collapsed": true
   },
   "outputs": [],
   "source": [
    "e = echo()"
   ]
  },
  {
   "cell_type": "code",
   "execution_count": 45,
   "metadata": {},
   "outputs": [
    {
     "ename": "TypeError",
     "evalue": "can't send non-None value to a just-started generator",
     "output_type": "error",
     "traceback": [
      "\u001b[1;31m---------------------------------------------------------------------------\u001b[0m",
      "\u001b[1;31mTypeError\u001b[0m                                 Traceback (most recent call last)",
      "\u001b[1;32m<ipython-input-45-19b91d521796>\u001b[0m in \u001b[0;36m<module>\u001b[1;34m()\u001b[0m\n\u001b[1;32m----> 1\u001b[1;33m \u001b[0me\u001b[0m\u001b[1;33m.\u001b[0m\u001b[0msend\u001b[0m\u001b[1;33m(\u001b[0m\u001b[1;34m'hello'\u001b[0m\u001b[1;33m)\u001b[0m\u001b[1;33m\u001b[0m\u001b[0m\n\u001b[0m",
      "\u001b[1;31mTypeError\u001b[0m: can't send non-None value to a just-started generator"
     ]
    }
   ],
   "source": [
    "e.send('hello')"
   ]
  },
  {
   "cell_type": "markdown",
   "metadata": {},
   "source": [
    "We need to **start** or **prime** the generator first, using, `next` which will run the code until the `yield` expression is encountered."
   ]
  },
  {
   "cell_type": "code",
   "execution_count": 46,
   "metadata": {
    "collapsed": true
   },
   "outputs": [],
   "source": [
    "next(e)"
   ]
  },
  {
   "cell_type": "code",
   "execution_count": 47,
   "metadata": {},
   "outputs": [
    {
     "name": "stdout",
     "output_type": "stream",
     "text": [
      "You said: hello\n"
     ]
    }
   ],
   "source": [
    "e.send('hello')"
   ]
  },
  {
   "cell_type": "markdown",
   "metadata": {},
   "source": [
    "At this point we can see that generators can be used to both send and receive data.\n",
    "\n",
    "You might be asking yourself whether it is possible to do both **at the same time** - i.e. use ` yield` to both yield data and receive data (upon resumption). The answer is yes, but it's kind of mind bending, and unless you actually need to do so, resist the temptation to do it - it can be extremely confusing:"
   ]
  },
  {
   "cell_type": "code",
   "execution_count": 56,
   "metadata": {
    "collapsed": true
   },
   "outputs": [],
   "source": [
    "def squares(n):\n",
    "    for i in range(n):\n",
    "        received = yield i ** 2\n",
    "        print('received:', received)"
   ]
  },
  {
   "cell_type": "code",
   "execution_count": 57,
   "metadata": {
    "collapsed": true
   },
   "outputs": [],
   "source": [
    "sq = squares(5)"
   ]
  },
  {
   "cell_type": "code",
   "execution_count": 58,
   "metadata": {},
   "outputs": [
    {
     "data": {
      "text/plain": [
       "0"
      ]
     },
     "execution_count": 58,
     "metadata": {},
     "output_type": "execute_result"
    }
   ],
   "source": [
    "next(sq)"
   ]
  },
  {
   "cell_type": "code",
   "execution_count": 59,
   "metadata": {},
   "outputs": [
    {
     "name": "stdout",
     "output_type": "stream",
     "text": [
      "received: hello\n",
      "yielded: 1\n"
     ]
    }
   ],
   "source": [
    "yielded = sq.send('hello')\n",
    "print('yielded:', yielded)"
   ]
  },
  {
   "cell_type": "code",
   "execution_count": 60,
   "metadata": {},
   "outputs": [
    {
     "name": "stdout",
     "output_type": "stream",
     "text": [
      "received: hello\n",
      "yielded: 4\n"
     ]
    }
   ],
   "source": [
    "yielded = sq.send('hello')\n",
    "print('yielded:', yielded)"
   ]
  },
  {
   "cell_type": "markdown",
   "metadata": {},
   "source": [
    "Of course, once the generator no longer `yields`, but `returns` we'll get the same `StopIteration` exception:"
   ]
  },
  {
   "cell_type": "code",
   "execution_count": 69,
   "metadata": {
    "collapsed": true
   },
   "outputs": [],
   "source": [
    "def echo(max_times):\n",
    "    for i in range(max_times):\n",
    "        received = yield\n",
    "        print('You said:', received)\n",
    "    print(\"that's all, folks!\")"
   ]
  },
  {
   "cell_type": "code",
   "execution_count": 70,
   "metadata": {
    "collapsed": true
   },
   "outputs": [],
   "source": [
    "e = echo(3)\n",
    "next(e)"
   ]
  },
  {
   "cell_type": "code",
   "execution_count": 71,
   "metadata": {},
   "outputs": [
    {
     "name": "stdout",
     "output_type": "stream",
     "text": [
      "You said: python\n",
      "You said: is\n"
     ]
    }
   ],
   "source": [
    "e.send('python')\n",
    "e.send('is')"
   ]
  },
  {
   "cell_type": "markdown",
   "metadata": {},
   "source": [
    "The next `send` is going to resume the generator, it will print what we send it, and continue running - but this time the loop is done, so it will print our final `that's all, folks`, and the function will return (`None`) and hence cause a `StopIteration` exception to be raised:"
   ]
  },
  {
   "cell_type": "code",
   "execution_count": 72,
   "metadata": {},
   "outputs": [
    {
     "name": "stdout",
     "output_type": "stream",
     "text": [
      "You said: awesome\n",
      "that's all, folks!\n"
     ]
    },
    {
     "ename": "StopIteration",
     "evalue": "",
     "output_type": "error",
     "traceback": [
      "\u001b[1;31m---------------------------------------------------------------------------\u001b[0m",
      "\u001b[1;31mStopIteration\u001b[0m                             Traceback (most recent call last)",
      "\u001b[1;32m<ipython-input-72-040ee40a6778>\u001b[0m in \u001b[0;36m<module>\u001b[1;34m()\u001b[0m\n\u001b[1;32m----> 1\u001b[1;33m \u001b[0me\u001b[0m\u001b[1;33m.\u001b[0m\u001b[0msend\u001b[0m\u001b[1;33m(\u001b[0m\u001b[1;34m'awesome'\u001b[0m\u001b[1;33m)\u001b[0m\u001b[1;33m\u001b[0m\u001b[0m\n\u001b[0m",
      "\u001b[1;31mStopIteration\u001b[0m: "
     ]
    }
   ],
   "source": [
    "e.send('awesome')"
   ]
  },
  {
   "cell_type": "markdown",
   "metadata": {},
   "source": [
    "So, when we deal with generators and the `yield` expression, we need to distinguish between two different uses:\n",
    "* one way produces data for iteration\n",
    "* the other way consumes data\n",
    "\n",
    "To avoid confusion, try not to mix the two concepts together unless you have to. Try to keep them separate, i.e., either use:\n",
    "```\n",
    "yield <expression>\n",
    "```\n",
    "or \n",
    "```\n",
    "variable = yield\n",
    "```\n",
    "but not both at the same time such as:\n",
    "```\n",
    "variable = yield <expression>\n",
    "```"
   ]
  },
  {
   "cell_type": "markdown",
   "metadata": {},
   "source": [
    "There are cases where using the combination is definitely useful.\n",
    "\n",
    "Consider this example where we want a generator/coroutine that maintains (and yields) a running average of values we send it.\n",
    "\n",
    "Let's first see how we would do it without using a coroutine - instead we'll use a closure so we can maintain the state (`total` and `count`):"
   ]
  },
  {
   "cell_type": "code",
   "execution_count": 1,
   "metadata": {
    "collapsed": true
   },
   "outputs": [],
   "source": [
    "def averager():\n",
    "    total = 0\n",
    "    count = 0\n",
    "    def inner(value):\n",
    "        nonlocal total\n",
    "        nonlocal count\n",
    "        total += value\n",
    "        count += 1\n",
    "        return total / count\n",
    "    return inner\n",
    "\n",
    "def running_averages(iterable):\n",
    "    avg = averager()\n",
    "    for value in iterable:\n",
    "        running_average = avg(value)\n",
    "        print(running_average)"
   ]
  },
  {
   "cell_type": "code",
   "execution_count": 2,
   "metadata": {},
   "outputs": [
    {
     "name": "stdout",
     "output_type": "stream",
     "text": [
      "1.0\n",
      "1.5\n",
      "2.0\n",
      "2.5\n"
     ]
    }
   ],
   "source": [
    "running_averages([1, 2, 3, 4])"
   ]
  },
  {
   "cell_type": "markdown",
   "metadata": {},
   "source": [
    "And now the same, but using a coroutine:"
   ]
  },
  {
   "cell_type": "code",
   "execution_count": 5,
   "metadata": {
    "collapsed": true
   },
   "outputs": [],
   "source": [
    "def running_averager():\n",
    "    total = 0\n",
    "    count = 0\n",
    "    running_average = None\n",
    "    while True:\n",
    "        value = yield running_average\n",
    "        total += value\n",
    "        count += 1\n",
    "        running_average = total / count"
   ]
  },
  {
   "cell_type": "code",
   "execution_count": 6,
   "metadata": {
    "collapsed": true
   },
   "outputs": [],
   "source": [
    "def running_averages(iterable):\n",
    "    averager = running_averager()\n",
    "    next(averager)  # prime generator\n",
    "    for value in iterable:\n",
    "        running_average = averager.send(value)\n",
    "        print(running_average)"
   ]
  },
  {
   "cell_type": "code",
   "execution_count": 7,
   "metadata": {},
   "outputs": [
    {
     "name": "stdout",
     "output_type": "stream",
     "text": [
      "1.0\n",
      "1.5\n",
      "2.0\n",
      "2.5\n"
     ]
    }
   ],
   "source": [
    "running_averages([1, 2, 3, 4])"
   ]
  },
  {
   "cell_type": "markdown",
   "metadata": {},
   "source": [
    "As you can see it was useful to use `yield` to both send in the new value, and in the subsequent yield to receive the new average."
   ]
  }
 ],
 "metadata": {
  "kernelspec": {
   "display_name": "Python 3",
   "language": "python",
   "name": "python3"
  },
  "language_info": {
   "codemirror_mode": {
    "name": "ipython",
    "version": 3
   },
   "file_extension": ".py",
   "mimetype": "text/x-python",
   "name": "python",
   "nbconvert_exporter": "python",
   "pygments_lexer": "ipython3",
   "version": "3.6.2"
  }
 },
 "nbformat": 4,
 "nbformat_minor": 2
}
