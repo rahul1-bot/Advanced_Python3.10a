{
 "cells": [
  {
   "cell_type": "markdown",
   "metadata": {},
   "source": [
    "#### Import Variants and Misconceptions"
   ]
  },
  {
   "cell_type": "markdown",
   "metadata": {},
   "source": [
    "I would like to briefly discuss the various import variants such as:\n",
    "\n",
    "* `import math`\n",
    "* `from math import sqrt, abs`\n",
    "* `from math import *`\n",
    "* `import math as r_math`\n",
    "* `from math import sqrt as r_sqrt`"
   ]
  },
  {
   "cell_type": "markdown",
   "metadata": {},
   "source": [
    "##### import math"
   ]
  },
  {
   "cell_type": "markdown",
   "metadata": {},
   "source": [
    "* loads the entire module (`math`) in memory if it's not already there\n",
    "* adds a reference to it in `sys.modules` with a key of `math`\n",
    "* adds a symbol of the same name (`math`) in our current namespace referencing the `math` object"
   ]
  },
  {
   "cell_type": "markdown",
   "metadata": {},
   "source": [
    "##### import math as r_math"
   ]
  },
  {
   "cell_type": "markdown",
   "metadata": {},
   "source": [
    "* loads the entire module (`math`) in memory if it's not already there\n",
    "* adds a reference to it in `sys.modules` with a key of `math`\n",
    "* adds the symbol `r_math` to our current namespace referencing the `math` object"
   ]
  },
  {
   "cell_type": "markdown",
   "metadata": {},
   "source": [
    "##### from math import sqrt"
   ]
  },
  {
   "cell_type": "markdown",
   "metadata": {},
   "source": [
    "* loads the entire module (`math`) in memory if it's not already there\n",
    "* adds a reference to it in `sys.modules` with a key of `math`\n",
    "* adds the symbol `sqrt` to our current namespace referencing the `math.sqrt` function\n",
    "* it **does not** add the symbol `math` to our current namespace"
   ]
  },
  {
   "cell_type": "markdown",
   "metadata": {},
   "source": [
    "##### from math import sqrt as r_sqrt"
   ]
  },
  {
   "cell_type": "markdown",
   "metadata": {},
   "source": [
    "* loads the entire module (`math`) in memory if it's not already there\n",
    "* adds a reference to it in `sys.modules` with a key of `math`\n",
    "* adds the symbol `r_sqrt` to our current namespace referencing the `math.sqrt` function\n",
    "* it **does not** add the symbol `math` to our current namespace"
   ]
  },
  {
   "cell_type": "markdown",
   "metadata": {},
   "source": [
    "##### from math import *"
   ]
  },
  {
   "cell_type": "markdown",
   "metadata": {},
   "source": [
    "* loads the entire module (`math`) in memory if it's not already there\n",
    "* adds a reference to it in `sys.modules` with a key of `math`\n",
    "* adds symbols for all exported symbols in the `math` module directly to our name space (we'll see how what is exported from a module/package can be controlled using underscores or `__all__` later)\n",
    "* it **does not** add the symbol `math` to our current namespace"
   ]
  },
  {
   "cell_type": "markdown",
   "metadata": {},
   "source": [
    "As you can see, in **every** instance, the module is imported and a reference to it is added to `sys.modules`. The variants really have to do with what is injected into our current **namespace**: the module name, an alias to it, just the specified symbols from the module, or all the exported symbols from the module."
   ]
  },
  {
   "cell_type": "markdown",
   "metadata": {},
   "source": [
    "#### Misconceptions"
   ]
  },
  {
   "cell_type": "markdown",
   "metadata": {},
   "source": [
    "This leads to the first misconception:"
   ]
  },
  {
   "cell_type": "markdown",
   "metadata": {},
   "source": [
    "\"You should use\n",
    "\n",
    "`from math import sqrt, abs`\n",
    "\n",
    "rather than \n",
    "\n",
    "`import math`\n",
    "\n",
    "because that way you only import what you need and you're not having Python load the entire module?\""
   ]
  },
  {
   "cell_type": "markdown",
   "metadata": {},
   "source": [
    "For `math` that's just not true. In fact for any *simple* module.\n",
    "\n",
    "For *packages* that have subpackages, that may or may not be true - we'll see that later."
   ]
  },
  {
   "cell_type": "markdown",
   "metadata": {},
   "source": [
    "Let's actually test this out.\n",
    "\n",
    "We have to be a little careful, because Jupyter imports a ton of modules and packages:"
   ]
  },
  {
   "cell_type": "code",
   "execution_count": 1,
   "metadata": {},
   "outputs": [
    {
     "name": "stdout",
     "output_type": "stream",
     "text": [
      "IPython\n",
      "IPython.core\n",
      "IPython.core.alias\n",
      "IPython.core.application\n",
      "IPython.core.autocall\n",
      "IPython.core.builtin_trap\n",
      "IPython.core.compilerop\n",
      "IPython.core.completer\n",
      "IPython.core.completerlib\n",
      "IPython.core.crashhandler\n",
      "IPython.core.debugger\n",
      "IPython.core.display\n",
      "IPython.core.display_trap\n",
      "IPython.core.displayhook\n",
      "IPython.core.displaypub\n",
      "IPython.core.error\n",
      "IPython.core.events\n",
      "IPython.core.excolors\n",
      "IPython.core.extensions\n",
      "IPython.core.formatters\n",
      "IPython.core.getipython\n",
      "IPython.core.history\n",
      "IPython.core.hooks\n",
      "IPython.core.inputsplitter\n",
      "IPython.core.inputtransformer\n",
      "IPython.core.interactiveshell\n",
      "IPython.core.latex_symbols\n",
      "IPython.core.logger\n",
      "IPython.core.macro\n",
      "IPython.core.magic\n",
      "IPython.core.magic_arguments\n",
      "IPython.core.magics\n",
      "IPython.core.magics.auto\n",
      "IPython.core.magics.basic\n",
      "IPython.core.magics.code\n",
      "IPython.core.magics.config\n",
      "IPython.core.magics.display\n",
      "IPython.core.magics.execution\n",
      "IPython.core.magics.extension\n",
      "IPython.core.magics.history\n",
      "IPython.core.magics.logging\n",
      "IPython.core.magics.namespace\n",
      "IPython.core.magics.osm\n",
      "IPython.core.magics.pylab\n",
      "IPython.core.magics.script\n",
      "IPython.core.oinspect\n",
      "IPython.core.page\n",
      "IPython.core.payload\n",
      "IPython.core.payloadpage\n",
      "IPython.core.prefilter\n",
      "IPython.core.profiledir\n",
      "IPython.core.pylabtools\n",
      "IPython.core.release\n",
      "IPython.core.shadowns\n",
      "IPython.core.shellapp\n",
      "IPython.core.splitinput\n",
      "IPython.core.ultratb\n",
      "IPython.core.usage\n",
      "IPython.display\n",
      "IPython.extensions\n",
      "IPython.extensions.storemagic\n",
      "IPython.lib\n",
      "IPython.lib.backgroundjobs\n",
      "IPython.lib.clipboard\n",
      "IPython.lib.deepreload\n",
      "IPython.lib.display\n",
      "IPython.lib.pretty\n",
      "IPython.lib.security\n",
      "IPython.paths\n",
      "IPython.terminal\n",
      "IPython.terminal.debugger\n",
      "IPython.terminal.embed\n",
      "IPython.terminal.interactiveshell\n",
      "IPython.terminal.ipapp\n",
      "IPython.terminal.magics\n",
      "IPython.terminal.prompts\n",
      "IPython.terminal.pt_inputhooks\n",
      "IPython.terminal.ptutils\n",
      "IPython.terminal.shortcuts\n",
      "IPython.testing\n",
      "IPython.testing.skipdoctest\n",
      "IPython.utils\n",
      "IPython.utils.PyColorize\n",
      "IPython.utils._process_common\n",
      "IPython.utils._process_win32\n",
      "IPython.utils._sysinfo\n",
      "IPython.utils._tokenize_py3\n",
      "IPython.utils.capture\n",
      "IPython.utils.colorable\n",
      "IPython.utils.coloransi\n",
      "IPython.utils.contexts\n",
      "IPython.utils.data\n",
      "IPython.utils.decorators\n",
      "IPython.utils.dir2\n",
      "IPython.utils.encoding\n",
      "IPython.utils.frame\n",
      "IPython.utils.generics\n",
      "IPython.utils.importstring\n",
      "IPython.utils.io\n",
      "IPython.utils.ipstruct\n",
      "IPython.utils.module_paths\n",
      "IPython.utils.openpy\n",
      "IPython.utils.path\n",
      "IPython.utils.process\n",
      "IPython.utils.py3compat\n",
      "IPython.utils.sentinel\n",
      "IPython.utils.signatures\n",
      "IPython.utils.strdispatch\n",
      "IPython.utils.sysinfo\n",
      "IPython.utils.syspathcontext\n",
      "IPython.utils.tempdir\n",
      "IPython.utils.terminal\n",
      "IPython.utils.text\n",
      "IPython.utils.timing\n",
      "IPython.utils.tokenize2\n",
      "IPython.utils.tokenutil\n",
      "IPython.utils.ulinecache\n",
      "IPython.utils.wildcard\n",
      "__future__\n",
      "__main__\n",
      "__mp_main__\n",
      "_ast\n",
      "_bisect\n",
      "_blake2\n",
      "_bootlocale\n",
      "_bz2\n",
      "_codecs\n",
      "_collections\n",
      "_collections_abc\n",
      "_compat_pickle\n",
      "_compression\n",
      "_ctypes\n",
      "_cython_0_25_1\n",
      "_datetime\n",
      "_frozen_importlib\n",
      "_frozen_importlib_external\n",
      "_functools\n",
      "_hashlib\n",
      "_heapq\n",
      "_imp\n",
      "_io\n",
      "_json\n",
      "_locale\n",
      "_lsprof\n",
      "_lzma\n",
      "_multiprocessing\n",
      "_opcode\n",
      "_operator\n",
      "_pickle\n",
      "_random\n",
      "_sha3\n",
      "_signal\n",
      "_sitebuiltins\n",
      "_socket\n",
      "_sqlite3\n",
      "_sre\n",
      "_stat\n",
      "_string\n",
      "_strptime\n",
      "_struct\n",
      "_thread\n",
      "_warnings\n",
      "_weakref\n",
      "_weakrefset\n",
      "_win32sysloader\n",
      "_winapi\n",
      "abc\n",
      "argparse\n",
      "array\n",
      "ast\n",
      "atexit\n",
      "base64\n",
      "bdb\n",
      "binascii\n",
      "bisect\n",
      "builtins\n",
      "bz2\n",
      "cProfile\n",
      "calendar\n",
      "cmd\n",
      "code\n",
      "codecs\n",
      "codeop\n",
      "collections\n",
      "collections.abc\n",
      "colorama\n",
      "colorama.ansi\n",
      "colorama.ansitowin32\n",
      "colorama.initialise\n",
      "colorama.win32\n",
      "colorama.winterm\n",
      "concurrent\n",
      "concurrent.futures\n",
      "concurrent.futures._base\n",
      "concurrent.futures.process\n",
      "concurrent.futures.thread\n",
      "contextlib\n",
      "copy\n",
      "copyreg\n",
      "ctypes\n",
      "ctypes._endian\n",
      "ctypes.util\n",
      "ctypes.wintypes\n",
      "datetime\n",
      "dateutil\n",
      "dateutil._common\n",
      "dateutil.parser\n",
      "dateutil.relativedelta\n",
      "dateutil.tz\n",
      "dateutil.tz._common\n",
      "dateutil.tz.tz\n",
      "dateutil.tz.win\n",
      "decorator\n",
      "dis\n",
      "email\n",
      "email._parseaddr\n",
      "email._policybase\n",
      "email.base64mime\n",
      "email.charset\n",
      "email.encoders\n",
      "email.errors\n",
      "email.feedparser\n",
      "email.header\n",
      "email.parser\n",
      "email.quoprimime\n",
      "email.utils\n",
      "encodings\n",
      "encodings.aliases\n",
      "encodings.cp1252\n",
      "encodings.cp437\n",
      "encodings.latin_1\n",
      "encodings.utf_8\n",
      "enum\n",
      "errno\n",
      "faulthandler\n",
      "fnmatch\n",
      "functools\n",
      "gc\n",
      "genericpath\n",
      "getopt\n",
      "getpass\n",
      "gettext\n",
      "glob\n",
      "hashlib\n",
      "heapq\n",
      "hmac\n",
      "html\n",
      "html.entities\n",
      "imp\n",
      "importlib\n",
      "importlib._bootstrap\n",
      "importlib._bootstrap_external\n",
      "importlib.abc\n",
      "importlib.machinery\n",
      "importlib.util\n",
      "inspect\n",
      "io\n",
      "ipykernel\n",
      "ipykernel._version\n",
      "ipykernel.codeutil\n",
      "ipykernel.comm\n",
      "ipykernel.comm.comm\n",
      "ipykernel.comm.manager\n",
      "ipykernel.connect\n",
      "ipykernel.datapub\n",
      "ipykernel.displayhook\n",
      "ipykernel.heartbeat\n",
      "ipykernel.iostream\n",
      "ipykernel.ipkernel\n",
      "ipykernel.jsonutil\n",
      "ipykernel.kernelapp\n",
      "ipykernel.kernelbase\n",
      "ipykernel.parentpoller\n",
      "ipykernel.pickleutil\n",
      "ipykernel.serialize\n",
      "ipykernel.zmqshell\n",
      "ipython_genutils\n",
      "ipython_genutils._version\n",
      "ipython_genutils.encoding\n",
      "ipython_genutils.importstring\n",
      "ipython_genutils.path\n",
      "ipython_genutils.py3compat\n",
      "ipython_genutils.text\n",
      "ipywidgets\n",
      "ipywidgets._version\n",
      "ipywidgets.widgets\n",
      "ipywidgets.widgets.domwidget\n",
      "ipywidgets.widgets.interaction\n",
      "ipywidgets.widgets.trait_types\n",
      "ipywidgets.widgets.valuewidget\n",
      "ipywidgets.widgets.widget\n",
      "ipywidgets.widgets.widget_bool\n",
      "ipywidgets.widgets.widget_box\n",
      "ipywidgets.widgets.widget_button\n",
      "ipywidgets.widgets.widget_color\n",
      "ipywidgets.widgets.widget_controller\n",
      "ipywidgets.widgets.widget_core\n",
      "ipywidgets.widgets.widget_date\n",
      "ipywidgets.widgets.widget_float\n",
      "ipywidgets.widgets.widget_image\n",
      "ipywidgets.widgets.widget_int\n",
      "ipywidgets.widgets.widget_layout\n",
      "ipywidgets.widgets.widget_link\n",
      "ipywidgets.widgets.widget_output\n",
      "ipywidgets.widgets.widget_selection\n",
      "ipywidgets.widgets.widget_selectioncontainer\n",
      "ipywidgets.widgets.widget_string\n",
      "ipywidgets.widgets.widget_style\n",
      "itertools\n",
      "json\n",
      "json.decoder\n",
      "json.encoder\n",
      "json.scanner\n",
      "jupyter_client\n",
      "jupyter_client._version\n",
      "jupyter_client.adapter\n",
      "jupyter_client.blocking\n",
      "jupyter_client.blocking.channels\n",
      "jupyter_client.blocking.client\n",
      "jupyter_client.channels\n",
      "jupyter_client.channelsabc\n",
      "jupyter_client.client\n",
      "jupyter_client.clientabc\n",
      "jupyter_client.connect\n",
      "jupyter_client.jsonutil\n",
      "jupyter_client.kernelspec\n",
      "jupyter_client.launcher\n",
      "jupyter_client.localinterfaces\n",
      "jupyter_client.manager\n",
      "jupyter_client.managerabc\n",
      "jupyter_client.multikernelmanager\n",
      "jupyter_client.session\n",
      "jupyter_core\n",
      "jupyter_core.paths\n",
      "jupyter_core.version\n",
      "keyword\n",
      "linecache\n",
      "locale\n",
      "logging\n",
      "logging.handlers\n",
      "lzma\n",
      "marshal\n",
      "math\n",
      "mimetypes\n",
      "msvcrt\n",
      "multiprocessing\n",
      "multiprocessing.connection\n",
      "multiprocessing.context\n",
      "multiprocessing.process\n",
      "multiprocessing.reduction\n",
      "multiprocessing.util\n",
      "nt\n",
      "ntpath\n",
      "numbers\n",
      "opcode\n",
      "operator\n",
      "optparse\n",
      "os\n",
      "os.path\n",
      "pathlib\n",
      "pdb\n",
      "pickle\n",
      "pickleshare\n",
      "pkg_resources\n",
      "pkg_resources._vendor\n",
      "pkg_resources._vendor.packaging.__about__\n",
      "pkg_resources._vendor.six\n",
      "pkg_resources._vendor.six.moves\n",
      "pkg_resources.extern\n",
      "pkg_resources.extern.appdirs\n",
      "pkg_resources.extern.packaging\n",
      "pkg_resources.extern.packaging._compat\n",
      "pkg_resources.extern.packaging._structures\n",
      "pkg_resources.extern.packaging.markers\n",
      "pkg_resources.extern.packaging.requirements\n",
      "pkg_resources.extern.packaging.specifiers\n",
      "pkg_resources.extern.packaging.version\n",
      "pkg_resources.extern.pyparsing\n",
      "pkg_resources.extern.six\n",
      "pkg_resources.extern.six.moves\n",
      "pkg_resources.extern.six.moves.urllib\n",
      "pkgutil\n",
      "platform\n",
      "plistlib\n",
      "posixpath\n",
      "pprint\n",
      "profile\n",
      "prompt_toolkit\n",
      "prompt_toolkit.application\n",
      "prompt_toolkit.auto_suggest\n",
      "prompt_toolkit.buffer\n",
      "prompt_toolkit.buffer_mapping\n",
      "prompt_toolkit.cache\n",
      "prompt_toolkit.clipboard\n",
      "prompt_toolkit.clipboard.base\n",
      "prompt_toolkit.clipboard.in_memory\n",
      "prompt_toolkit.completion\n",
      "prompt_toolkit.document\n",
      "prompt_toolkit.enums\n",
      "prompt_toolkit.eventloop\n",
      "prompt_toolkit.eventloop.base\n",
      "prompt_toolkit.eventloop.callbacks\n",
      "prompt_toolkit.filters\n",
      "prompt_toolkit.filters.base\n",
      "prompt_toolkit.filters.cli\n",
      "prompt_toolkit.filters.types\n",
      "prompt_toolkit.filters.utils\n",
      "prompt_toolkit.history\n",
      "prompt_toolkit.input\n",
      "prompt_toolkit.interface\n",
      "prompt_toolkit.key_binding\n",
      "prompt_toolkit.key_binding.bindings\n",
      "prompt_toolkit.key_binding.bindings.basic\n",
      "prompt_toolkit.key_binding.bindings.completion\n",
      "prompt_toolkit.key_binding.bindings.emacs\n",
      "prompt_toolkit.key_binding.bindings.named_commands\n",
      "prompt_toolkit.key_binding.bindings.scroll\n",
      "prompt_toolkit.key_binding.bindings.vi\n",
      "prompt_toolkit.key_binding.defaults\n",
      "prompt_toolkit.key_binding.digraphs\n",
      "prompt_toolkit.key_binding.input_processor\n",
      "prompt_toolkit.key_binding.manager\n",
      "prompt_toolkit.key_binding.registry\n",
      "prompt_toolkit.key_binding.vi_state\n",
      "prompt_toolkit.keys\n",
      "prompt_toolkit.layout\n",
      "prompt_toolkit.layout.containers\n",
      "prompt_toolkit.layout.controls\n",
      "prompt_toolkit.layout.dimension\n",
      "prompt_toolkit.layout.lexers\n",
      "prompt_toolkit.layout.margins\n",
      "prompt_toolkit.layout.menus\n",
      "prompt_toolkit.layout.mouse_handlers\n",
      "prompt_toolkit.layout.processors\n",
      "prompt_toolkit.layout.prompt\n",
      "prompt_toolkit.layout.screen\n",
      "prompt_toolkit.layout.toolbars\n",
      "prompt_toolkit.layout.utils\n",
      "prompt_toolkit.mouse_events\n",
      "prompt_toolkit.output\n",
      "prompt_toolkit.reactive\n",
      "prompt_toolkit.renderer\n",
      "prompt_toolkit.search_state\n",
      "prompt_toolkit.selection\n",
      "prompt_toolkit.shortcuts\n",
      "prompt_toolkit.styles\n",
      "prompt_toolkit.styles.base\n",
      "prompt_toolkit.styles.defaults\n",
      "prompt_toolkit.styles.from_dict\n",
      "prompt_toolkit.styles.from_pygments\n",
      "prompt_toolkit.styles.utils\n",
      "prompt_toolkit.terminal\n",
      "prompt_toolkit.terminal.conemu_output\n",
      "prompt_toolkit.terminal.vt100_output\n",
      "prompt_toolkit.terminal.win32_input\n",
      "prompt_toolkit.terminal.win32_output\n",
      "prompt_toolkit.token\n",
      "prompt_toolkit.utils\n",
      "prompt_toolkit.validation\n",
      "prompt_toolkit.win32_types\n",
      "pstats\n",
      "pydoc\n",
      "pyexpat\n",
      "pyexpat.errors\n",
      "pyexpat.model\n",
      "pygments\n",
      "pygments.filter\n",
      "pygments.filters\n",
      "pygments.formatter\n",
      "pygments.formatters\n",
      "pygments.formatters._mapping\n",
      "pygments.formatters.html\n",
      "pygments.lexer\n",
      "pygments.lexers\n",
      "pygments.lexers._mapping\n",
      "pygments.lexers.python\n",
      "pygments.modeline\n",
      "pygments.plugin\n",
      "pygments.regexopt\n",
      "pygments.style\n",
      "pygments.styles\n",
      "pygments.styles.default\n",
      "pygments.token\n",
      "pygments.unistring\n",
      "pygments.util\n",
      "pythoncom\n",
      "pywintypes\n",
      "queue\n",
      "quopri\n",
      "random\n",
      "re\n",
      "reprlib\n",
      "runpy\n",
      "select\n",
      "selectors\n",
      "shlex\n",
      "shutil\n",
      "signal\n",
      "simplegeneric\n",
      "site\n",
      "six\n",
      "six.moves\n",
      "socket\n",
      "sqlite3\n",
      "sqlite3.dbapi2\n",
      "sre_compile\n",
      "sre_constants\n",
      "sre_parse\n",
      "stat\n",
      "storemagic\n",
      "string\n",
      "struct\n",
      "subprocess\n",
      "sys\n",
      "sysconfig\n",
      "tempfile\n",
      "textwrap\n",
      "threading\n",
      "time\n",
      "timeit\n",
      "token\n",
      "tokenize\n",
      "tornado\n",
      "tornado.concurrent\n",
      "tornado.escape\n",
      "tornado.ioloop\n",
      "tornado.log\n",
      "tornado.platform\n",
      "tornado.platform.auto\n",
      "tornado.platform.common\n",
      "tornado.platform.interface\n",
      "tornado.platform.windows\n",
      "tornado.speedups\n",
      "tornado.stack_context\n",
      "tornado.util\n",
      "traceback\n",
      "traitlets\n",
      "traitlets._version\n",
      "traitlets.config\n",
      "traitlets.config.application\n",
      "traitlets.config.configurable\n",
      "traitlets.config.loader\n",
      "traitlets.log\n",
      "traitlets.traitlets\n",
      "traitlets.utils\n",
      "traitlets.utils.bunch\n",
      "traitlets.utils.getargspec\n",
      "traitlets.utils.importstring\n",
      "traitlets.utils.sentinel\n",
      "types\n",
      "typing\n",
      "typing.io\n",
      "typing.re\n",
      "unicodedata\n",
      "urllib\n",
      "urllib.parse\n",
      "uuid\n",
      "warnings\n",
      "wcwidth\n",
      "wcwidth.table_wide\n",
      "wcwidth.table_zero\n",
      "wcwidth.wcwidth\n",
      "weakref\n",
      "win32api\n",
      "win32com\n",
      "win32com.gen_py\n",
      "win32com.shell\n",
      "winreg\n",
      "xml\n",
      "xml.parsers\n",
      "xml.parsers.expat\n",
      "xml.parsers.expat.errors\n",
      "xml.parsers.expat.model\n",
      "zipfile\n",
      "zipimport\n",
      "zlib\n",
      "zmq\n",
      "zmq.backend\n",
      "zmq.backend.cython\n",
      "zmq.backend.cython._device\n",
      "zmq.backend.cython._poll\n",
      "zmq.backend.cython._version\n",
      "zmq.backend.cython.constants\n",
      "zmq.backend.cython.context\n",
      "zmq.backend.cython.error\n",
      "zmq.backend.cython.message\n",
      "zmq.backend.cython.socket\n",
      "zmq.backend.cython.utils\n",
      "zmq.backend.select\n",
      "zmq.error\n",
      "zmq.eventloop\n",
      "zmq.eventloop.ioloop\n",
      "zmq.eventloop.zmqstream\n",
      "zmq.libzmq\n",
      "zmq.sugar\n",
      "zmq.sugar.attrsettr\n",
      "zmq.sugar.constants\n",
      "zmq.sugar.context\n",
      "zmq.sugar.frame\n",
      "zmq.sugar.poll\n",
      "zmq.sugar.socket\n",
      "zmq.sugar.stopwatch\n",
      "zmq.sugar.tracker\n",
      "zmq.sugar.version\n",
      "zmq.utils\n",
      "zmq.utils.constant_names\n",
      "zmq.utils.jsonapi\n",
      "zmq.utils.strtypes\n"
     ]
    }
   ],
   "source": [
    "import sys\n",
    "for key in sorted(sys.modules.keys()):\n",
    "    print(key)"
   ]
  },
  {
   "cell_type": "markdown",
   "metadata": {},
   "source": [
    "so they're already loaded and in the `sys.modules` dictionary.\n",
    "\n",
    "\n",
    "Fortunately `cmath` is not one of them, so we'll use that one."
   ]
  },
  {
   "cell_type": "code",
   "execution_count": 2,
   "metadata": {},
   "outputs": [
    {
     "data": {
      "text/plain": [
       "False"
      ]
     },
     "execution_count": 2,
     "metadata": {},
     "output_type": "execute_result"
    }
   ],
   "source": [
    "'cmath' in sys.modules"
   ]
  },
  {
   "cell_type": "markdown",
   "metadata": {},
   "source": [
    "Let's go ahead and just import a single symbol from `cmath`, the `exp` function:"
   ]
  },
  {
   "cell_type": "code",
   "execution_count": 3,
   "metadata": {
    "collapsed": true
   },
   "outputs": [],
   "source": [
    "from cmath import exp"
   ]
  },
  {
   "cell_type": "markdown",
   "metadata": {},
   "source": [
    "Now let's see if `cmath` and `exp` are in our module (global) namespace:"
   ]
  },
  {
   "cell_type": "code",
   "execution_count": 4,
   "metadata": {},
   "outputs": [
    {
     "data": {
      "text/plain": [
       "False"
      ]
     },
     "execution_count": 4,
     "metadata": {},
     "output_type": "execute_result"
    }
   ],
   "source": [
    "'cmath' in globals()"
   ]
  },
  {
   "cell_type": "code",
   "execution_count": 5,
   "metadata": {},
   "outputs": [
    {
     "data": {
      "text/plain": [
       "True"
      ]
     },
     "execution_count": 5,
     "metadata": {},
     "output_type": "execute_result"
    }
   ],
   "source": [
    "'exp' in globals()"
   ]
  },
  {
   "cell_type": "markdown",
   "metadata": {},
   "source": [
    "OK, so basically what that import did was create a symbol for `exp` in our namespace, but not for `cmath`.\n",
    "\n",
    "Does this mean that `cmath` was only \"partially\" loaded?"
   ]
  },
  {
   "cell_type": "markdown",
   "metadata": {},
   "source": [
    "How can Python \"partially\" load a (simple) module? How would it even know what to load up? Sure, maybe it could do some fancy kind of introspection and determine all the dependencies the symbols we are importing require. But it does not.\n",
    "\n",
    "It simply imports the entire module (using the techniques we have been covering in the last few videos)\n",
    "\n",
    "If we really want to partially load something, we would use a package, which, while still a `module` type, can be composed of several sub-packages. More on that later."
   ]
  },
  {
   "cell_type": "markdown",
   "metadata": {},
   "source": [
    "In, fact let's look at it in `sys.modules`:"
   ]
  },
  {
   "cell_type": "code",
   "execution_count": 6,
   "metadata": {},
   "outputs": [
    {
     "data": {
      "text/plain": [
       "<module 'cmath' (built-in)>"
      ]
     },
     "execution_count": 6,
     "metadata": {},
     "output_type": "execute_result"
    }
   ],
   "source": [
    "sys.modules['cmath']"
   ]
  },
  {
   "cell_type": "markdown",
   "metadata": {},
   "source": [
    "Yep, it's there...\n",
    "\n",
    "We can even get a handle to the `cmath` module:"
   ]
  },
  {
   "cell_type": "code",
   "execution_count": 7,
   "metadata": {
    "collapsed": true
   },
   "outputs": [],
   "source": [
    "cmath = sys.modules['cmath']"
   ]
  },
  {
   "cell_type": "code",
   "execution_count": 8,
   "metadata": {},
   "outputs": [
    {
     "data": {
      "text/plain": [
       "<module 'cmath' (built-in)>"
      ]
     },
     "execution_count": 8,
     "metadata": {},
     "output_type": "execute_result"
    }
   ],
   "source": [
    "cmath"
   ]
  },
  {
   "cell_type": "markdown",
   "metadata": {},
   "source": [
    "And now we can use `cmath` just as if we had done \n",
    "\n",
    "`import cmath`\n",
    "\n",
    "But you'll note that in this case we did not import the module, we did `from cmath import exp` only."
   ]
  },
  {
   "cell_type": "markdown",
   "metadata": {},
   "source": [
    "So we can use `exp` directly because of how we imported that specific symbol:"
   ]
  },
  {
   "cell_type": "code",
   "execution_count": 9,
   "metadata": {},
   "outputs": [
    {
     "data": {
      "text/plain": [
       "(-7.315110094901103+1.0427436562359045j)"
      ]
     },
     "execution_count": 9,
     "metadata": {},
     "output_type": "execute_result"
    }
   ],
   "source": [
    "exp(2+3j)"
   ]
  },
  {
   "cell_type": "markdown",
   "metadata": {},
   "source": [
    "But we can also use the `cmath` module directly now that we retrieved it from `sys.modules`:"
   ]
  },
  {
   "cell_type": "code",
   "execution_count": 10,
   "metadata": {},
   "outputs": [
    {
     "data": {
      "text/plain": [
       "(1.09868411346781+0.45508986056222733j)"
      ]
     },
     "execution_count": 10,
     "metadata": {},
     "output_type": "execute_result"
    }
   ],
   "source": [
    "cmath.sqrt(1+1j)"
   ]
  },
  {
   "cell_type": "markdown",
   "metadata": {},
   "source": [
    "So, the **entire** `cmath` module was loaded when we ran `from cmath import exp`, not just a portion of it!"
   ]
  },
  {
   "cell_type": "markdown",
   "metadata": {},
   "source": [
    "The only thing that happened is that Python put `cmath` in `sys.modules`, but **did not** add a `cmath` symbol to our module namespace, and **only added** the function `exp` to our namespace."
   ]
  },
  {
   "cell_type": "markdown",
   "metadata": {},
   "source": [
    "What about doing something like this:\n",
    "\n",
    "`from cmath import *`"
   ]
  },
  {
   "cell_type": "markdown",
   "metadata": {},
   "source": [
    "This is often frowned upon, and sometimes for good reason - but this is not a universal truth either.\n",
    "\n",
    "Let's see why, in our current context, it's maybe not such a good thing.\n",
    "\n",
    "First let's see what our global namespace looks like:"
   ]
  },
  {
   "cell_type": "code",
   "execution_count": 11,
   "metadata": {},
   "outputs": [
    {
     "data": {
      "text/plain": [
       "{'In': ['',\n",
       "  'import sys\\nfor key in sorted(sys.modules.keys()):\\n    print(key)',\n",
       "  \"'cmath' in sys.modules\",\n",
       "  'from cmath import exp',\n",
       "  \"'cmath' in globals()\",\n",
       "  \"'exp' in globals()\",\n",
       "  \"sys.modules['cmath']\",\n",
       "  \"cmath = sys.modules['cmath']\",\n",
       "  'cmath',\n",
       "  'exp(2+3j)',\n",
       "  'cmath.sqrt(1+1j)',\n",
       "  'globals()'],\n",
       " 'Out': {2: False,\n",
       "  4: False,\n",
       "  5: True,\n",
       "  6: <module 'cmath' (built-in)>,\n",
       "  8: <module 'cmath' (built-in)>,\n",
       "  9: (-7.315110094901103+1.0427436562359045j),\n",
       "  10: (1.09868411346781+0.45508986056222733j)},\n",
       " '_': (1.09868411346781+0.45508986056222733j),\n",
       " '_10': (1.09868411346781+0.45508986056222733j),\n",
       " '_2': False,\n",
       " '_4': False,\n",
       " '_5': True,\n",
       " '_6': <module 'cmath' (built-in)>,\n",
       " '_8': <module 'cmath' (built-in)>,\n",
       " '_9': (-7.315110094901103+1.0427436562359045j),\n",
       " '__': (-7.315110094901103+1.0427436562359045j),\n",
       " '___': <module 'cmath' (built-in)>,\n",
       " '__builtin__': <module 'builtins' (built-in)>,\n",
       " '__builtins__': <module 'builtins' (built-in)>,\n",
       " '__doc__': 'Automatically created module for IPython interactive environment',\n",
       " '__loader__': None,\n",
       " '__name__': '__main__',\n",
       " '__package__': None,\n",
       " '__spec__': None,\n",
       " '_dh': ['d:\\\\fbapt\\\\Dropbox\\\\Python Deep Dive\\\\Section 09 - Modules, Packages and Namespaces\\\\05 - Import Variants and Misconceptions'],\n",
       " '_i': 'cmath.sqrt(1+1j)',\n",
       " '_i1': 'import sys\\nfor key in sorted(sys.modules.keys()):\\n    print(key)',\n",
       " '_i10': 'cmath.sqrt(1+1j)',\n",
       " '_i11': 'globals()',\n",
       " '_i2': \"'cmath' in sys.modules\",\n",
       " '_i3': 'from cmath import exp',\n",
       " '_i4': \"'cmath' in globals()\",\n",
       " '_i5': \"'exp' in globals()\",\n",
       " '_i6': \"sys.modules['cmath']\",\n",
       " '_i7': \"cmath = sys.modules['cmath']\",\n",
       " '_i8': 'cmath',\n",
       " '_i9': 'exp(2+3j)',\n",
       " '_ih': ['',\n",
       "  'import sys\\nfor key in sorted(sys.modules.keys()):\\n    print(key)',\n",
       "  \"'cmath' in sys.modules\",\n",
       "  'from cmath import exp',\n",
       "  \"'cmath' in globals()\",\n",
       "  \"'exp' in globals()\",\n",
       "  \"sys.modules['cmath']\",\n",
       "  \"cmath = sys.modules['cmath']\",\n",
       "  'cmath',\n",
       "  'exp(2+3j)',\n",
       "  'cmath.sqrt(1+1j)',\n",
       "  'globals()'],\n",
       " '_ii': 'exp(2+3j)',\n",
       " '_iii': 'cmath',\n",
       " '_oh': {2: False,\n",
       "  4: False,\n",
       "  5: True,\n",
       "  6: <module 'cmath' (built-in)>,\n",
       "  8: <module 'cmath' (built-in)>,\n",
       "  9: (-7.315110094901103+1.0427436562359045j),\n",
       "  10: (1.09868411346781+0.45508986056222733j)},\n",
       " '_sh': <module 'IPython.core.shadowns' from 'D:\\\\Users\\\\fbapt\\\\Anaconda3\\\\lib\\\\site-packages\\\\IPython\\\\core\\\\shadowns.py'>,\n",
       " 'cmath': <module 'cmath' (built-in)>,\n",
       " 'exit': <IPython.core.autocall.ZMQExitAutocall at 0x1b7b61ecb00>,\n",
       " 'exp': <function cmath.exp>,\n",
       " 'get_ipython': <bound method InteractiveShell.get_ipython of <ipykernel.zmqshell.ZMQInteractiveShell object at 0x000001B7B61A84A8>>,\n",
       " 'key': 'zmq.utils.strtypes',\n",
       " 'quit': <IPython.core.autocall.ZMQExitAutocall at 0x1b7b61ecb00>,\n",
       " 'sys': <module 'sys' (built-in)>}"
      ]
     },
     "execution_count": 11,
     "metadata": {},
     "output_type": "execute_result"
    }
   ],
   "source": [
    "globals()"
   ]
  },
  {
   "cell_type": "markdown",
   "metadata": {},
   "source": [
    "Now let's do that import:"
   ]
  },
  {
   "cell_type": "code",
   "execution_count": 12,
   "metadata": {
    "collapsed": true
   },
   "outputs": [],
   "source": [
    "from cmath import *"
   ]
  },
  {
   "cell_type": "markdown",
   "metadata": {},
   "source": [
    "And let's see our namespace now:"
   ]
  },
  {
   "cell_type": "code",
   "execution_count": 13,
   "metadata": {},
   "outputs": [
    {
     "data": {
      "text/plain": [
       "{'In': ['',\n",
       "  'import sys\\nfor key in sorted(sys.modules.keys()):\\n    print(key)',\n",
       "  \"'cmath' in sys.modules\",\n",
       "  'from cmath import exp',\n",
       "  \"'cmath' in globals()\",\n",
       "  \"'exp' in globals()\",\n",
       "  \"sys.modules['cmath']\",\n",
       "  \"cmath = sys.modules['cmath']\",\n",
       "  'cmath',\n",
       "  'exp(2+3j)',\n",
       "  'cmath.sqrt(1+1j)',\n",
       "  'globals()',\n",
       "  'from cmath import *',\n",
       "  'globals()'],\n",
       " 'Out': {2: False,\n",
       "  4: False,\n",
       "  5: True,\n",
       "  6: <module 'cmath' (built-in)>,\n",
       "  8: <module 'cmath' (built-in)>,\n",
       "  9: (-7.315110094901103+1.0427436562359045j),\n",
       "  10: (1.09868411346781+0.45508986056222733j),\n",
       "  11: {...}},\n",
       " '_': {...},\n",
       " '_10': (1.09868411346781+0.45508986056222733j),\n",
       " '_11': {...},\n",
       " '_2': False,\n",
       " '_4': False,\n",
       " '_5': True,\n",
       " '_6': <module 'cmath' (built-in)>,\n",
       " '_8': <module 'cmath' (built-in)>,\n",
       " '_9': (-7.315110094901103+1.0427436562359045j),\n",
       " '__': (1.09868411346781+0.45508986056222733j),\n",
       " '___': (-7.315110094901103+1.0427436562359045j),\n",
       " '__builtin__': <module 'builtins' (built-in)>,\n",
       " '__builtins__': <module 'builtins' (built-in)>,\n",
       " '__doc__': 'Automatically created module for IPython interactive environment',\n",
       " '__loader__': None,\n",
       " '__name__': '__main__',\n",
       " '__package__': None,\n",
       " '__spec__': None,\n",
       " '_dh': ['d:\\\\fbapt\\\\Dropbox\\\\Python Deep Dive\\\\Section 09 - Modules, Packages and Namespaces\\\\05 - Import Variants and Misconceptions'],\n",
       " '_i': 'from cmath import *',\n",
       " '_i1': 'import sys\\nfor key in sorted(sys.modules.keys()):\\n    print(key)',\n",
       " '_i10': 'cmath.sqrt(1+1j)',\n",
       " '_i11': 'globals()',\n",
       " '_i12': 'from cmath import *',\n",
       " '_i13': 'globals()',\n",
       " '_i2': \"'cmath' in sys.modules\",\n",
       " '_i3': 'from cmath import exp',\n",
       " '_i4': \"'cmath' in globals()\",\n",
       " '_i5': \"'exp' in globals()\",\n",
       " '_i6': \"sys.modules['cmath']\",\n",
       " '_i7': \"cmath = sys.modules['cmath']\",\n",
       " '_i8': 'cmath',\n",
       " '_i9': 'exp(2+3j)',\n",
       " '_ih': ['',\n",
       "  'import sys\\nfor key in sorted(sys.modules.keys()):\\n    print(key)',\n",
       "  \"'cmath' in sys.modules\",\n",
       "  'from cmath import exp',\n",
       "  \"'cmath' in globals()\",\n",
       "  \"'exp' in globals()\",\n",
       "  \"sys.modules['cmath']\",\n",
       "  \"cmath = sys.modules['cmath']\",\n",
       "  'cmath',\n",
       "  'exp(2+3j)',\n",
       "  'cmath.sqrt(1+1j)',\n",
       "  'globals()',\n",
       "  'from cmath import *',\n",
       "  'globals()'],\n",
       " '_ii': 'globals()',\n",
       " '_iii': 'cmath.sqrt(1+1j)',\n",
       " '_oh': {2: False,\n",
       "  4: False,\n",
       "  5: True,\n",
       "  6: <module 'cmath' (built-in)>,\n",
       "  8: <module 'cmath' (built-in)>,\n",
       "  9: (-7.315110094901103+1.0427436562359045j),\n",
       "  10: (1.09868411346781+0.45508986056222733j),\n",
       "  11: {...}},\n",
       " '_sh': <module 'IPython.core.shadowns' from 'D:\\\\Users\\\\fbapt\\\\Anaconda3\\\\lib\\\\site-packages\\\\IPython\\\\core\\\\shadowns.py'>,\n",
       " 'acos': <function cmath.acos>,\n",
       " 'acosh': <function cmath.acosh>,\n",
       " 'asin': <function cmath.asin>,\n",
       " 'asinh': <function cmath.asinh>,\n",
       " 'atan': <function cmath.atan>,\n",
       " 'atanh': <function cmath.atanh>,\n",
       " 'cmath': <module 'cmath' (built-in)>,\n",
       " 'cos': <function cmath.cos>,\n",
       " 'cosh': <function cmath.cosh>,\n",
       " 'e': 2.718281828459045,\n",
       " 'exit': <IPython.core.autocall.ZMQExitAutocall at 0x1b7b61ecb00>,\n",
       " 'exp': <function cmath.exp>,\n",
       " 'get_ipython': <bound method InteractiveShell.get_ipython of <ipykernel.zmqshell.ZMQInteractiveShell object at 0x000001B7B61A84A8>>,\n",
       " 'inf': inf,\n",
       " 'infj': infj,\n",
       " 'isclose': <function cmath.isclose>,\n",
       " 'isfinite': <function cmath.isfinite>,\n",
       " 'isinf': <function cmath.isinf>,\n",
       " 'isnan': <function cmath.isnan>,\n",
       " 'key': 'zmq.utils.strtypes',\n",
       " 'log': <function cmath.log>,\n",
       " 'log10': <function cmath.log10>,\n",
       " 'nan': nan,\n",
       " 'nanj': nanj,\n",
       " 'phase': <function cmath.phase>,\n",
       " 'pi': 3.141592653589793,\n",
       " 'polar': <function cmath.polar>,\n",
       " 'quit': <IPython.core.autocall.ZMQExitAutocall at 0x1b7b61ecb00>,\n",
       " 'rect': <function cmath.rect>,\n",
       " 'sin': <function cmath.sin>,\n",
       " 'sinh': <function cmath.sinh>,\n",
       " 'sqrt': <function cmath.sqrt>,\n",
       " 'sys': <module 'sys' (built-in)>,\n",
       " 'tan': <function cmath.tan>,\n",
       " 'tanh': <function cmath.tanh>,\n",
       " 'tau': 6.283185307179586}"
      ]
     },
     "execution_count": 13,
     "metadata": {},
     "output_type": "execute_result"
    }
   ],
   "source": [
    "globals()"
   ]
  },
  {
   "cell_type": "markdown",
   "metadata": {},
   "source": [
    "Some people say the namespace was \"polluted\". In a way I guess that's true, but it does mean I can now access **all** attributes in `cmath` without prefixing them with `cmath` all the time: "
   ]
  },
  {
   "cell_type": "code",
   "execution_count": 14,
   "metadata": {},
   "outputs": [
    {
     "data": {
      "text/plain": [
       "(1.5537739740300374+0.6435942529055826j)"
      ]
     },
     "execution_count": 14,
     "metadata": {},
     "output_type": "execute_result"
    }
   ],
   "source": [
    "sqrt(2+2j)"
   ]
  },
  {
   "cell_type": "code",
   "execution_count": 15,
   "metadata": {},
   "outputs": [
    {
     "data": {
      "text/plain": [
       "3.141592653589793"
      ]
     },
     "execution_count": 15,
     "metadata": {},
     "output_type": "execute_result"
    }
   ],
   "source": [
    "pi"
   ]
  },
  {
   "cell_type": "code",
   "execution_count": 16,
   "metadata": {},
   "outputs": [
    {
     "data": {
      "text/plain": [
       "(9.15449914691143+4.168906959966565j)"
      ]
     },
     "execution_count": 16,
     "metadata": {},
     "output_type": "execute_result"
    }
   ],
   "source": [
    "sin(2-3j)"
   ]
  },
  {
   "cell_type": "markdown",
   "metadata": {},
   "source": [
    "In and of itself, there's nothing wrong with that...\n",
    "\n",
    "But a couple of issues:"
   ]
  },
  {
   "cell_type": "markdown",
   "metadata": {},
   "source": [
    "The first one is that when I call `sin` just like that, someone reading my code does not immediately know where that function came from. Was it a function I implemented in my module? some other custom module? the `cmath` module? the `math` module?"
   ]
  },
  {
   "cell_type": "markdown",
   "metadata": {},
   "source": [
    "The second one is that you can run into serious problems if you also need to import the `math` module:"
   ]
  },
  {
   "cell_type": "markdown",
   "metadata": {},
   "source": [
    "Currently the `sqrt` symbol is the `cmath.sqrt` function:"
   ]
  },
  {
   "cell_type": "code",
   "execution_count": 17,
   "metadata": {},
   "outputs": [
    {
     "data": {
      "text/plain": [
       "<function cmath.sqrt>"
      ]
     },
     "execution_count": 17,
     "metadata": {},
     "output_type": "execute_result"
    }
   ],
   "source": [
    "sqrt"
   ]
  },
  {
   "cell_type": "code",
   "execution_count": 18,
   "metadata": {
    "collapsed": true
   },
   "outputs": [],
   "source": [
    "from math import *"
   ]
  },
  {
   "cell_type": "markdown",
   "metadata": {},
   "source": [
    "What just happened to the `sqrt` function that was in our namespace?"
   ]
  },
  {
   "cell_type": "code",
   "execution_count": 19,
   "metadata": {},
   "outputs": [
    {
     "data": {
      "text/plain": [
       "<function math.sqrt>"
      ]
     },
     "execution_count": 19,
     "metadata": {},
     "output_type": "execute_result"
    }
   ],
   "source": [
    "sqrt"
   ]
  },
  {
   "cell_type": "markdown",
   "metadata": {},
   "source": [
    "As you can see, the symbol `sqrt` in our namespace no longer refers to the `sqrt` function in `cmath` but rather to the one in `math`.\n",
    "\n",
    "It just got replaced by the `sqrt` function in the `math` module because it has the same name (`sqrt`)."
   ]
  },
  {
   "cell_type": "markdown",
   "metadata": {},
   "source": [
    "This is one of the reasons why `from ... import *` is sometimes frowned upon.\n",
    "\n",
    "But the same problem can happen if you use a `from` import this way:"
   ]
  },
  {
   "cell_type": "code",
   "execution_count": 20,
   "metadata": {
    "collapsed": true
   },
   "outputs": [],
   "source": [
    "from cmath import sqrt\n",
    "from math import sqrt"
   ]
  },
  {
   "cell_type": "markdown",
   "metadata": {},
   "source": [
    "Same thing happened here, the `math.sqrt` function just clobbered the `cmath.sqrt` function.\n",
    "\n",
    "One option here is to use:"
   ]
  },
  {
   "cell_type": "code",
   "execution_count": 21,
   "metadata": {
    "collapsed": true
   },
   "outputs": [],
   "source": [
    "import cmath\n",
    "import math"
   ]
  },
  {
   "cell_type": "code",
   "execution_count": 22,
   "metadata": {},
   "outputs": [
    {
     "data": {
      "text/plain": [
       "1.4142135623730951"
      ]
     },
     "execution_count": 22,
     "metadata": {},
     "output_type": "execute_result"
    }
   ],
   "source": [
    "math.sqrt(2)"
   ]
  },
  {
   "cell_type": "code",
   "execution_count": 23,
   "metadata": {},
   "outputs": [
    {
     "data": {
      "text/plain": [
       "(1.5537739740300374+0.6435942529055826j)"
      ]
     },
     "execution_count": 23,
     "metadata": {},
     "output_type": "execute_result"
    }
   ],
   "source": [
    "cmath.sqrt(2+2j)"
   ]
  },
  {
   "cell_type": "markdown",
   "metadata": {},
   "source": [
    "But Python also allows us to alias our imports using the `as` keyword.\n",
    "\n",
    "We can alias either the entire module, or just the symbols being imported from the module:"
   ]
  },
  {
   "cell_type": "code",
   "execution_count": 24,
   "metadata": {
    "collapsed": true
   },
   "outputs": [],
   "source": [
    "import math as r_math\n",
    "import cmath as c_math"
   ]
  },
  {
   "cell_type": "code",
   "execution_count": 25,
   "metadata": {},
   "outputs": [
    {
     "data": {
      "text/plain": [
       "<module 'math' (built-in)>"
      ]
     },
     "execution_count": 25,
     "metadata": {},
     "output_type": "execute_result"
    }
   ],
   "source": [
    "r_math"
   ]
  },
  {
   "cell_type": "code",
   "execution_count": 26,
   "metadata": {},
   "outputs": [
    {
     "data": {
      "text/plain": [
       "<module 'cmath' (built-in)>"
      ]
     },
     "execution_count": 26,
     "metadata": {},
     "output_type": "execute_result"
    }
   ],
   "source": [
    "c_math"
   ]
  },
  {
   "cell_type": "code",
   "execution_count": 27,
   "metadata": {},
   "outputs": [
    {
     "data": {
      "text/plain": [
       "1.4142135623730951"
      ]
     },
     "execution_count": 27,
     "metadata": {},
     "output_type": "execute_result"
    }
   ],
   "source": [
    "r_math.sqrt(2)"
   ]
  },
  {
   "cell_type": "code",
   "execution_count": 28,
   "metadata": {},
   "outputs": [
    {
     "data": {
      "text/plain": [
       "(1.4142135623730951+0j)"
      ]
     },
     "execution_count": 28,
     "metadata": {},
     "output_type": "execute_result"
    }
   ],
   "source": [
    "c_math.sqrt(2)"
   ]
  },
  {
   "cell_type": "markdown",
   "metadata": {},
   "source": [
    "By the way, this is the **exact** same result as doing:"
   ]
  },
  {
   "cell_type": "code",
   "execution_count": 29,
   "metadata": {
    "collapsed": true
   },
   "outputs": [],
   "source": [
    "import importlib"
   ]
  },
  {
   "cell_type": "code",
   "execution_count": 30,
   "metadata": {
    "collapsed": true
   },
   "outputs": [],
   "source": [
    "r_math = importlib.import_module('math')\n",
    "c_math = importlib.import_module('cmath')"
   ]
  },
  {
   "cell_type": "code",
   "execution_count": 31,
   "metadata": {},
   "outputs": [
    {
     "data": {
      "text/plain": [
       "<module 'math' (built-in)>"
      ]
     },
     "execution_count": 31,
     "metadata": {},
     "output_type": "execute_result"
    }
   ],
   "source": [
    "r_math"
   ]
  },
  {
   "cell_type": "code",
   "execution_count": 32,
   "metadata": {},
   "outputs": [
    {
     "data": {
      "text/plain": [
       "<module 'cmath' (built-in)>"
      ]
     },
     "execution_count": 32,
     "metadata": {},
     "output_type": "execute_result"
    }
   ],
   "source": [
    "c_math"
   ]
  },
  {
   "cell_type": "markdown",
   "metadata": {},
   "source": [
    "We can also alias symbols from the imported module:"
   ]
  },
  {
   "cell_type": "code",
   "execution_count": 33,
   "metadata": {
    "collapsed": true
   },
   "outputs": [],
   "source": [
    "from math import sqrt as r_sqrt\n",
    "from cmath import sqrt as c_sqrt"
   ]
  },
  {
   "cell_type": "code",
   "execution_count": 34,
   "metadata": {},
   "outputs": [
    {
     "data": {
      "text/plain": [
       "<function math.sqrt>"
      ]
     },
     "execution_count": 34,
     "metadata": {},
     "output_type": "execute_result"
    }
   ],
   "source": [
    "r_sqrt"
   ]
  },
  {
   "cell_type": "code",
   "execution_count": 35,
   "metadata": {},
   "outputs": [
    {
     "data": {
      "text/plain": [
       "<function cmath.sqrt>"
      ]
     },
     "execution_count": 35,
     "metadata": {},
     "output_type": "execute_result"
    }
   ],
   "source": [
    "c_sqrt"
   ]
  },
  {
   "cell_type": "markdown",
   "metadata": {},
   "source": [
    "Again, we can reproduce this using the following:"
   ]
  },
  {
   "cell_type": "code",
   "execution_count": 36,
   "metadata": {
    "collapsed": true
   },
   "outputs": [],
   "source": [
    "r_sqrt = importlib.import_module('math').sqrt\n",
    "c_sqrt = importlib.import_module('cmath').sqrt"
   ]
  },
  {
   "cell_type": "code",
   "execution_count": 37,
   "metadata": {},
   "outputs": [
    {
     "data": {
      "text/plain": [
       "<function math.sqrt>"
      ]
     },
     "execution_count": 37,
     "metadata": {},
     "output_type": "execute_result"
    }
   ],
   "source": [
    "r_sqrt"
   ]
  },
  {
   "cell_type": "code",
   "execution_count": 38,
   "metadata": {},
   "outputs": [
    {
     "data": {
      "text/plain": [
       "<function cmath.sqrt>"
      ]
     },
     "execution_count": 38,
     "metadata": {},
     "output_type": "execute_result"
    }
   ],
   "source": [
    "c_sqrt"
   ]
  },
  {
   "cell_type": "markdown",
   "metadata": {},
   "source": [
    "At the end of the day, the module is always loaded and cached (`sys.modules`), these different variants of the `import` statement merely determine what symbols are added to our module (global) namespace. That's it.\n",
    "\n",
    "It's a little different for packages as we'll see later."
   ]
  },
  {
   "cell_type": "markdown",
   "metadata": {},
   "source": [
    "#### Efficiency"
   ]
  },
  {
   "cell_type": "markdown",
   "metadata": {},
   "source": [
    "The final thing we need to look at is often mentioned in various blog posts and online discussions.\n",
    "\n",
    "`import variant #1` is more \"efficient\" than `import variant #2`\n",
    "\n",
    "Maybe so, but realistically by how much?\n",
    "\n",
    "Or even how the following is terribly wrong because it re-imports the `math` module **every** time `my_func` is called:"
   ]
  },
  {
   "cell_type": "code",
   "execution_count": 39,
   "metadata": {
    "collapsed": true
   },
   "outputs": [],
   "source": [
    "def my_func(a):\n",
    "    import math\n",
    "    return math.sqrt(a)"
   ]
  },
  {
   "cell_type": "markdown",
   "metadata": {},
   "source": [
    "From a readability standpoint, yes, that is **not** a good idea. Much better to put all your imports at the top of the module once in a location where any reader can easily see all your module dependencies.\n",
    "\n",
    "But as far as reloading the module, you should now understand that's absolutely not true. Instead, it has to do a dictionary lookup in the `sys.modules` dictionary, not reload the entire module after the first load has occurred!\n",
    "\n",
    "Dictionary lookups are blazingly fast in Python - so, yes, there is some overhead, but not as much as you may think."
   ]
  },
  {
   "cell_type": "markdown",
   "metadata": {},
   "source": [
    "So, let's write some timing code to test these things and see how they compare.\n",
    "\n",
    "We shoudl consider both relative speed differences as well as absilute speed differences.\n",
    "\n",
    "If you try to optimize your code and end up reducing that code's speed by 50% that sounds good. But what if the original code ran in `1`s. Now it runs in `0.5`s. How long does the total program run? Down from `30`s to `29.5`s? Things are relative..."
   ]
  },
  {
   "cell_type": "code",
   "execution_count": 40,
   "metadata": {
    "collapsed": true
   },
   "outputs": [],
   "source": [
    "from time import perf_counter"
   ]
  },
  {
   "cell_type": "markdown",
   "metadata": {},
   "source": [
    "Yes, I'm using a `from` import - for readability and typing reasons. How many other modules are out there where I run the risk of clobbering `perf_counter`? I can't think of one. Certainly not in any imports I'm going to be using here. It's such a unique name, I feel pretty safe!"
   ]
  },
  {
   "cell_type": "markdown",
   "metadata": {},
   "source": [
    "I'm also going to write a small utility function that compares two timings to each other:"
   ]
  },
  {
   "cell_type": "code",
   "execution_count": 41,
   "metadata": {
    "collapsed": true
   },
   "outputs": [],
   "source": [
    "from collections import namedtuple\n",
    "\n",
    "Timings = namedtuple('Timings', 'timing_1 timing_2 abs_diff rel_diff_perc')\n",
    "def compare_timings(timing1, timing2):\n",
    "    rel_diff = (timing2 - timing1)/timing1 * 100\n",
    "    \n",
    "    timings = Timings(round(timing1, 1),\n",
    "                     round(timing2, 1),\n",
    "                     round(timing2 - timing1, 2),\n",
    "                     round(rel_diff, 2))\n",
    "    return timings"
   ]
  },
  {
   "cell_type": "markdown",
   "metadata": {},
   "source": [
    "##### Timing using fully qualified `module.symbol` "
   ]
  },
  {
   "cell_type": "code",
   "execution_count": 42,
   "metadata": {
    "collapsed": true
   },
   "outputs": [],
   "source": [
    "test_repeats = 10_000_000"
   ]
  },
  {
   "cell_type": "code",
   "execution_count": 43,
   "metadata": {},
   "outputs": [
    {
     "name": "stdout",
     "output_type": "stream",
     "text": [
      "Elapsed: 2.057656398357829\n"
     ]
    }
   ],
   "source": [
    "import math\n",
    "\n",
    "start = perf_counter()\n",
    "for _ in range(test_repeats):\n",
    "    math.sqrt(2)\n",
    "end = perf_counter()\n",
    "elapsed_fully_qualified = end - start\n",
    "print(f'Elapsed: {elapsed_fully_qualified}')"
   ]
  },
  {
   "cell_type": "markdown",
   "metadata": {},
   "source": [
    "##### Timing using a directly imported symbol name:"
   ]
  },
  {
   "cell_type": "code",
   "execution_count": 44,
   "metadata": {},
   "outputs": [
    {
     "name": "stdout",
     "output_type": "stream",
     "text": [
      "Elapsed: 1.603430354697538\n"
     ]
    }
   ],
   "source": [
    "from math import sqrt\n",
    "\n",
    "start = perf_counter()\n",
    "for _ in range(test_repeats):\n",
    "    sqrt(2)\n",
    "end = perf_counter()\n",
    "elapsed_direct_symbol = end - start\n",
    "print(f'Elapsed: {elapsed_direct_symbol}')"
   ]
  },
  {
   "cell_type": "markdown",
   "metadata": {},
   "source": [
    "Let's see the relative and absolute time differences:"
   ]
  },
  {
   "cell_type": "code",
   "execution_count": 45,
   "metadata": {},
   "outputs": [
    {
     "data": {
      "text/plain": [
       "Timings(timing_1=2.1, timing_2=1.6, abs_diff=-0.45, rel_diff_perc=-22.07)"
      ]
     },
     "execution_count": 45,
     "metadata": {},
     "output_type": "execute_result"
    }
   ],
   "source": [
    "compare_timings(elapsed_fully_qualified, elapsed_direct_symbol)"
   ]
  },
  {
   "cell_type": "markdown",
   "metadata": {},
   "source": [
    "Definitely faster - but in absolute terms I really did not save a whole lot - over `10,000,000` iterations!"
   ]
  },
  {
   "cell_type": "markdown",
   "metadata": {},
   "source": [
    "##### Timing using a function (fully qualified symbol)"
   ]
  },
  {
   "cell_type": "code",
   "execution_count": 46,
   "metadata": {},
   "outputs": [
    {
     "name": "stdout",
     "output_type": "stream",
     "text": [
      "Elapsed: 3.2668947610088703\n"
     ]
    }
   ],
   "source": [
    "import math\n",
    "\n",
    "def func():\n",
    "    math.sqrt(2)\n",
    "    \n",
    "start = perf_counter()\n",
    "for _ in range(test_repeats):\n",
    "    func()\n",
    "end = perf_counter()\n",
    "elapsed_func_fully_qualified = end - start\n",
    "print(f'Elapsed: {elapsed_func_fully_qualified}') "
   ]
  },
  {
   "cell_type": "code",
   "execution_count": 47,
   "metadata": {},
   "outputs": [
    {
     "data": {
      "text/plain": [
       "Timings(timing_1=2.1, timing_2=3.3, abs_diff=1.21, rel_diff_perc=58.77)"
      ]
     },
     "execution_count": 47,
     "metadata": {},
     "output_type": "execute_result"
    }
   ],
   "source": [
    "compare_timings(elapsed_fully_qualified, elapsed_func_fully_qualified)"
   ]
  },
  {
   "cell_type": "markdown",
   "metadata": {},
   "source": [
    "That was slower because of the function call overhead, but not by much in absolute terms considering I called `func()` `10,000,000` times!"
   ]
  },
  {
   "cell_type": "markdown",
   "metadata": {},
   "source": [
    "##### Timing using a function (direct symbol)"
   ]
  },
  {
   "cell_type": "code",
   "execution_count": 48,
   "metadata": {
    "scrolled": true
   },
   "outputs": [
    {
     "name": "stdout",
     "output_type": "stream",
     "text": [
      "Elapsed: 2.80123663975316\n"
     ]
    }
   ],
   "source": [
    "from math import sqrt\n",
    "\n",
    "def func():\n",
    "    sqrt(2)\n",
    "    \n",
    "start = perf_counter()\n",
    "for _ in range(test_repeats):\n",
    "    func()\n",
    "end = perf_counter()\n",
    "elapsed_func_direct_symbol = end - start\n",
    "print(f'Elapsed: {elapsed_func_direct_symbol}')"
   ]
  },
  {
   "cell_type": "code",
   "execution_count": 49,
   "metadata": {},
   "outputs": [
    {
     "data": {
      "text/plain": [
       "Timings(timing_1=3.3, timing_2=2.8, abs_diff=-0.47, rel_diff_perc=-14.25)"
      ]
     },
     "execution_count": 49,
     "metadata": {},
     "output_type": "execute_result"
    }
   ],
   "source": [
    "compare_timings(elapsed_func_fully_qualified, elapsed_func_direct_symbol)"
   ]
  },
  {
   "cell_type": "markdown",
   "metadata": {},
   "source": [
    "Slower, but again not by much in absolute terms considering this was for `10,000,000` iterations."
   ]
  },
  {
   "cell_type": "markdown",
   "metadata": {},
   "source": [
    "##### Timing using a nested import (fully qualified symbol)"
   ]
  },
  {
   "cell_type": "code",
   "execution_count": 50,
   "metadata": {},
   "outputs": [
    {
     "name": "stdout",
     "output_type": "stream",
     "text": [
      "Elapsed: 5.041648347331877\n"
     ]
    }
   ],
   "source": [
    "def func():\n",
    "    import math\n",
    "    math.sqrt(2)\n",
    "    \n",
    "start = perf_counter()\n",
    "for _ in range(test_repeats):\n",
    "    func()\n",
    "end = perf_counter()\n",
    "elapsed_nested_fully_qualified = end - start\n",
    "print(f'Elapsed: {elapsed_nested_fully_qualified}')"
   ]
  },
  {
   "cell_type": "code",
   "execution_count": 51,
   "metadata": {},
   "outputs": [
    {
     "data": {
      "text/plain": [
       "Timings(timing_1=3.3, timing_2=5.0, abs_diff=1.77, rel_diff_perc=54.33)"
      ]
     },
     "execution_count": 51,
     "metadata": {},
     "output_type": "execute_result"
    }
   ],
   "source": [
    "compare_timings(elapsed_func_fully_qualified, elapsed_nested_fully_qualified)"
   ]
  },
  {
   "cell_type": "markdown",
   "metadata": {},
   "source": [
    "So definitely slower. But in absolute terms, for `10,000,000` iterations?"
   ]
  },
  {
   "cell_type": "markdown",
   "metadata": {},
   "source": [
    "##### Timing using a nested import (direct symbol)"
   ]
  },
  {
   "cell_type": "code",
   "execution_count": 52,
   "metadata": {},
   "outputs": [
    {
     "name": "stdout",
     "output_type": "stream",
     "text": [
      "Elapsed: 14.60262281403945\n"
     ]
    }
   ],
   "source": [
    "def func():\n",
    "    from math import sqrt\n",
    "    sqrt(2)\n",
    "    \n",
    "start = perf_counter()\n",
    "for _ in range(test_repeats):\n",
    "    func()\n",
    "end = perf_counter()\n",
    "elapsed_nested_direct_symbol = end - start\n",
    "print(f'Elapsed: {elapsed_nested_direct_symbol}')"
   ]
  },
  {
   "cell_type": "code",
   "execution_count": 53,
   "metadata": {},
   "outputs": [
    {
     "data": {
      "text/plain": [
       "Timings(timing_1=5.0, timing_2=14.6, abs_diff=9.56, rel_diff_perc=189.64)"
      ]
     },
     "execution_count": 53,
     "metadata": {},
     "output_type": "execute_result"
    }
   ],
   "source": [
    "compare_timings(elapsed_nested_fully_qualified, elapsed_nested_direct_symbol)"
   ]
  },
  {
   "cell_type": "markdown",
   "metadata": {},
   "source": [
    "That was significantly slower! Even in absolute terms this is starting to get sloooow."
   ]
  },
  {
   "cell_type": "markdown",
   "metadata": {},
   "source": [
    "So does this mean you should put imports inside functions?\n",
    "\n",
    "No, of course not - follow the convention, it makes code far more readable, and of course optimize your code only once you have identified the bottlenecks. \n",
    "\n",
    "Does this mean you shouldn't care at all about the performance of your code based on the import variants?\n",
    "\n",
    "Again, of course not - you absolutely should.\n",
    "\n",
    "But, there is absolutely no reason to re-write your code from \n",
    "\n",
    "`import math\n",
    "math.sqrt(2)`\n",
    "\n",
    "to \n",
    "\n",
    "`from math import sqrt\n",
    "sqrt(2)\n",
    "`\n",
    "\n",
    "for **speed** reasons if during the entire lifetime of your application you only call that function `100` times... or `10,000,000` times.\n",
    "\n",
    "Really depends on your circumstance - be aware of it, but don't try to optimize code until you know **where** you **need** to optimize!\n",
    "\n",
    "*[I've seen people refactor parts of their code for sub-second improvements, when, in fact, the largest bottleneck was that they were opening and closing database connections at every read and write instead of pooling connections or something like that]*"
   ]
  },
  {
   "cell_type": "markdown",
   "metadata": {},
   "source": [
    "And\n",
    "\n",
    "`from module import *`\n",
    "\n",
    "has its uses as we'll see later when we discuss packages.\n",
    "\n",
    "It's not evil, just not very safe - again depends on your circumstance."
   ]
  }
 ],
 "metadata": {
  "kernelspec": {
   "display_name": "Python 3",
   "language": "python",
   "name": "python3"
  },
  "language_info": {
   "codemirror_mode": {
    "name": "ipython",
    "version": 3
   },
   "file_extension": ".py",
   "mimetype": "text/x-python",
   "name": "python",
   "nbconvert_exporter": "python",
   "pygments_lexer": "ipython3",
   "version": "3.6.1"
  }
 },
 "nbformat": 4,
 "nbformat_minor": 2
}
