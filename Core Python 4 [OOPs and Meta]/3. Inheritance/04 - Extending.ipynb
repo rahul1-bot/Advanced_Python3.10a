{
 "cells": [
  {
   "cell_type": "markdown",
   "metadata": {},
   "source": [
    "### Extending"
   ]
  },
  {
   "cell_type": "markdown",
   "metadata": {},
   "source": [
    "So far we have seen inheriting and overriding methods from a parent class.\n",
    "\n",
    "We can also provide additional functionality in child classes. This is very straightforward, we simply define methods (or attributes) in the child class.\n",
    "\n",
    "In fact we have already done this multiple times - whenever we create a class and define attributes and methods, we are essentially extending the functionality of the `object` class!"
   ]
  },
  {
   "cell_type": "code",
   "execution_count": 1,
   "metadata": {},
   "outputs": [],
   "source": [
    "class Person:\n",
    "    pass"
   ]
  },
  {
   "cell_type": "code",
   "execution_count": 2,
   "metadata": {},
   "outputs": [],
   "source": [
    "class Student(Person):\n",
    "    def study(self):\n",
    "        return 'study... study... study...'"
   ]
  },
  {
   "cell_type": "code",
   "execution_count": 3,
   "metadata": {},
   "outputs": [],
   "source": [
    "p = Person()"
   ]
  },
  {
   "cell_type": "code",
   "execution_count": 4,
   "metadata": {},
   "outputs": [
    {
     "name": "stdout",
     "output_type": "stream",
     "text": [
      "'Person' object has no attribute 'study'\n"
     ]
    }
   ],
   "source": [
    "try:\n",
    "    p.study()\n",
    "except AttributeError as ex:\n",
    "    print(ex)"
   ]
  },
  {
   "cell_type": "code",
   "execution_count": 5,
   "metadata": {},
   "outputs": [],
   "source": [
    "s = Student()"
   ]
  },
  {
   "cell_type": "code",
   "execution_count": 6,
   "metadata": {},
   "outputs": [
    {
     "data": {
      "text/plain": [
       "True"
      ]
     },
     "execution_count": 6,
     "metadata": {},
     "output_type": "execute_result"
    }
   ],
   "source": [
    "isinstance(s, Person)"
   ]
  },
  {
   "cell_type": "code",
   "execution_count": 7,
   "metadata": {},
   "outputs": [
    {
     "data": {
      "text/plain": [
       "'study... study... study...'"
      ]
     },
     "execution_count": 7,
     "metadata": {},
     "output_type": "execute_result"
    }
   ],
   "source": [
    "s.study()"
   ]
  },
  {
   "cell_type": "markdown",
   "metadata": {},
   "source": [
    "Now, think back to what happened when we provided an override in a child class and called the method from inside a method in the parent class.\n",
    "\n",
    "Since the method being called was bound to an instance of the child class we ended up calling the override method in the child class.\n",
    "\n",
    "The same thing happens here:"
   ]
  },
  {
   "cell_type": "code",
   "execution_count": 8,
   "metadata": {},
   "outputs": [],
   "source": [
    "class Person:\n",
    "    def routine(self):\n",
    "        return self.eat() + self.study() + self.sleep()\n",
    "        \n",
    "    def eat(self):\n",
    "        return 'Person eats...'\n",
    "    \n",
    "    def sleep(self):\n",
    "        return 'Person sleeps...'\n",
    "        "
   ]
  },
  {
   "cell_type": "markdown",
   "metadata": {},
   "source": [
    "Now we have a problem here! We call `self.study()` in the `routine` method of `Person`, but of course that method does not exist."
   ]
  },
  {
   "cell_type": "markdown",
   "metadata": {},
   "source": [
    "We get this exception if we try to call `routine`:"
   ]
  },
  {
   "cell_type": "code",
   "execution_count": 9,
   "metadata": {},
   "outputs": [
    {
     "name": "stdout",
     "output_type": "stream",
     "text": [
      "'Person' object has no attribute 'study'\n"
     ]
    }
   ],
   "source": [
    "p = Person()\n",
    "\n",
    "try:\n",
    "    p.routine()\n",
    "except AttributeError as ex:\n",
    "    print(ex)"
   ]
  },
  {
   "cell_type": "markdown",
   "metadata": {},
   "source": [
    "But watch what happens if we create a `Student` class that inherits from `Person` and extends that class by implementing a `study` method:"
   ]
  },
  {
   "cell_type": "code",
   "execution_count": 10,
   "metadata": {},
   "outputs": [],
   "source": [
    "class Student(Person):\n",
    "    def study(self):\n",
    "        return 'Student studies...'"
   ]
  },
  {
   "cell_type": "code",
   "execution_count": 11,
   "metadata": {},
   "outputs": [],
   "source": [
    "s = Student()"
   ]
  },
  {
   "cell_type": "code",
   "execution_count": 12,
   "metadata": {},
   "outputs": [
    {
     "data": {
      "text/plain": [
       "'Person eats...Student studies...Person sleeps...'"
      ]
     },
     "execution_count": 12,
     "metadata": {},
     "output_type": "execute_result"
    }
   ],
   "source": [
    "s.routine()"
   ]
  },
  {
   "cell_type": "markdown",
   "metadata": {},
   "source": [
    "So, `Person` does not implement `sleep`, but `Student` does. In this case, since we are directly calling `sleep` from the `Person` class we really want that method to exist. Or we could check if the instance has that method before we call it.\n",
    "\n",
    "Let's do the latter first:"
   ]
  },
  {
   "cell_type": "code",
   "execution_count": 13,
   "metadata": {},
   "outputs": [],
   "source": [
    "class Person:\n",
    "    def routine(self):\n",
    "        result = self.eat()\n",
    "        if hasattr(self, 'study'):\n",
    "            result += self.study()\n",
    "        result += self.sleep()\n",
    "        return result\n",
    "    \n",
    "    def eat(self):\n",
    "        return 'Person eats...'\n",
    "    \n",
    "    def sleep(self):\n",
    "        return 'Person sleeps...'"
   ]
  },
  {
   "cell_type": "code",
   "execution_count": 14,
   "metadata": {},
   "outputs": [],
   "source": [
    "p = Person()"
   ]
  },
  {
   "cell_type": "code",
   "execution_count": 15,
   "metadata": {},
   "outputs": [
    {
     "data": {
      "text/plain": [
       "'Person eats...Person sleeps...'"
      ]
     },
     "execution_count": 15,
     "metadata": {},
     "output_type": "execute_result"
    }
   ],
   "source": [
    "p.routine()"
   ]
  },
  {
   "cell_type": "markdown",
   "metadata": {},
   "source": [
    "So that works, and if our child class implements the `study` method:"
   ]
  },
  {
   "cell_type": "code",
   "execution_count": 16,
   "metadata": {},
   "outputs": [],
   "source": [
    "class Student(Person):\n",
    "    def study(self):\n",
    "        return 'Student studies...'"
   ]
  },
  {
   "cell_type": "code",
   "execution_count": 17,
   "metadata": {},
   "outputs": [],
   "source": [
    "s = Student()"
   ]
  },
  {
   "cell_type": "code",
   "execution_count": 18,
   "metadata": {},
   "outputs": [
    {
     "data": {
      "text/plain": [
       "'Person eats...Student studies...Person sleeps...'"
      ]
     },
     "execution_count": 18,
     "metadata": {},
     "output_type": "execute_result"
    }
   ],
   "source": [
    "s.routine()"
   ]
  },
  {
   "cell_type": "markdown",
   "metadata": {},
   "source": [
    "There are times when we want our base class to be used as a base class only, and not really directly. This starts getting into abstract classes, so I won't cover it now beyond a few basics."
   ]
  },
  {
   "cell_type": "markdown",
   "metadata": {},
   "source": [
    "Suppose we want our \"base\" class to be something that is used via inheritance, and not really directly. If you've studied Java OOP, you probably are aware of this coconcept alreads: **abstract** classes.\n",
    "\n",
    "Abstract classes are basically classes that are not meant to be instantiated directly, but instead used in some inheritance chain.\n",
    "\n",
    "For now, we can achieve this quite simply in Python by actually implementing the method in the \"base\" class, but returning a `NotImplemented` value, letting the users of our class know that they need to implement the functionality by overriding the method."
   ]
  },
  {
   "cell_type": "markdown",
   "metadata": {},
   "source": [
    "We could do it this way:"
   ]
  },
  {
   "cell_type": "code",
   "execution_count": 19,
   "metadata": {},
   "outputs": [],
   "source": [
    "class Person:\n",
    "    def __init__(self, name):\n",
    "        self.name = name\n",
    "        \n",
    "    def routine(self):\n",
    "        return NotImplemented"
   ]
  },
  {
   "cell_type": "code",
   "execution_count": 20,
   "metadata": {},
   "outputs": [],
   "source": [
    "p = Person('Alex')"
   ]
  },
  {
   "cell_type": "code",
   "execution_count": 21,
   "metadata": {},
   "outputs": [
    {
     "data": {
      "text/plain": [
       "NotImplemented"
      ]
     },
     "execution_count": 21,
     "metadata": {},
     "output_type": "execute_result"
    }
   ],
   "source": [
    "p.routine()"
   ]
  },
  {
   "cell_type": "markdown",
   "metadata": {},
   "source": [
    "And now we can extend this class, providing an override for that method:"
   ]
  },
  {
   "cell_type": "code",
   "execution_count": 22,
   "metadata": {},
   "outputs": [],
   "source": [
    "class Student(Person):\n",
    "    def routine(self):\n",
    "        return 'Eat...Study...Sleep'"
   ]
  },
  {
   "cell_type": "code",
   "execution_count": 23,
   "metadata": {},
   "outputs": [],
   "source": [
    "class Teacher(Person):\n",
    "    def routine(self):\n",
    "        return 'Eat...Teach...Sleep'"
   ]
  },
  {
   "cell_type": "code",
   "execution_count": 24,
   "metadata": {},
   "outputs": [],
   "source": [
    "s = Student('Alex')"
   ]
  },
  {
   "cell_type": "code",
   "execution_count": 25,
   "metadata": {},
   "outputs": [],
   "source": [
    "t = Teacher('Fred')"
   ]
  },
  {
   "cell_type": "code",
   "execution_count": 26,
   "metadata": {},
   "outputs": [
    {
     "data": {
      "text/plain": [
       "'Eat...Study...Sleep'"
      ]
     },
     "execution_count": 26,
     "metadata": {},
     "output_type": "execute_result"
    }
   ],
   "source": [
    "s.routine()"
   ]
  },
  {
   "cell_type": "code",
   "execution_count": 27,
   "metadata": {},
   "outputs": [
    {
     "data": {
      "text/plain": [
       "'Eat...Teach...Sleep'"
      ]
     },
     "execution_count": 27,
     "metadata": {},
     "output_type": "execute_result"
    }
   ],
   "source": [
    "t.routine()"
   ]
  },
  {
   "cell_type": "markdown",
   "metadata": {},
   "source": [
    "The drawback of our current approach is that we can still create instances of the `Person` class - but doing so does not make much sense since we really need the `routine` method to be defined.\n",
    "\n",
    "To address this properly we will need to look at the framework Python provides for abstract base classes (*ABC*), but is beyond our current scope."
   ]
  },
  {
   "cell_type": "markdown",
   "metadata": {},
   "source": [
    "Everything I have explained concerning the method being always bound to the instance applies equally well to any instance or class attribute.\n",
    "\n",
    "Let's look at an example of this:"
   ]
  },
  {
   "cell_type": "code",
   "execution_count": 28,
   "metadata": {},
   "outputs": [],
   "source": [
    "class Account:\n",
    "    apr = 3.0\n",
    "    \n",
    "    def __init__(self, account_number, balance):\n",
    "        self.account_number = account_number\n",
    "        self.balance = balance\n",
    "        self.account_type = 'Generic Account'\n",
    "        \n",
    "    def calc_interest(self):\n",
    "        return f'Calc interest on {self.account_type} with APR = {self.apr}'\n",
    "        "
   ]
  },
  {
   "cell_type": "code",
   "execution_count": 29,
   "metadata": {},
   "outputs": [],
   "source": [
    "a = Account(123, 100)"
   ]
  },
  {
   "cell_type": "code",
   "execution_count": 30,
   "metadata": {},
   "outputs": [
    {
     "data": {
      "text/plain": [
       "(3.0, 'Generic Account', 'Calc interest on Generic Account with APR = 3.0')"
      ]
     },
     "execution_count": 30,
     "metadata": {},
     "output_type": "execute_result"
    }
   ],
   "source": [
    "a.apr, a.account_type, a.calc_interest()"
   ]
  },
  {
   "cell_type": "code",
   "execution_count": 31,
   "metadata": {},
   "outputs": [],
   "source": [
    "class Savings(Account):\n",
    "    apr = 5.0\n",
    "    \n",
    "    def __init__(self, account_number, balance):\n",
    "        self.account_number = account_number  # We'll revisit this later - this is clumsy\n",
    "        self.balance = balance\n",
    "        self.account_type = 'Savings Account'"
   ]
  },
  {
   "cell_type": "code",
   "execution_count": 32,
   "metadata": {},
   "outputs": [],
   "source": [
    "s = Savings(234, 200)"
   ]
  },
  {
   "cell_type": "code",
   "execution_count": 33,
   "metadata": {},
   "outputs": [
    {
     "data": {
      "text/plain": [
       "(5.0, 'Savings Account', 'Calc interest on Savings Account with APR = 5.0')"
      ]
     },
     "execution_count": 33,
     "metadata": {},
     "output_type": "execute_result"
    }
   ],
   "source": [
    "s.apr, s.account_type, s.calc_interest()"
   ]
  },
  {
   "cell_type": "markdown",
   "metadata": {},
   "source": [
    "Notice how the `calc_interest` method defined in the `Account` class used the correct instance value for `account_type` as well as the class level variable `apr`."
   ]
  },
  {
   "cell_type": "markdown",
   "metadata": {},
   "source": [
    "Now let's look at the class variable a bit closer.\n",
    "\n",
    "You'll notice that I referenced it by using `self.apr`."
   ]
  },
  {
   "cell_type": "markdown",
   "metadata": {},
   "source": [
    "Now as we know, we can also access class attributes directly from the class, not just from the instance:"
   ]
  },
  {
   "cell_type": "code",
   "execution_count": 34,
   "metadata": {},
   "outputs": [
    {
     "data": {
      "text/plain": [
       "(3.0, 5.0)"
      ]
     },
     "execution_count": 34,
     "metadata": {},
     "output_type": "execute_result"
    }
   ],
   "source": [
    "Account.apr, Savings.apr"
   ]
  },
  {
   "cell_type": "markdown",
   "metadata": {},
   "source": [
    "But we have to be careful here when we use it in the `calc_interest` method:"
   ]
  },
  {
   "cell_type": "code",
   "execution_count": 35,
   "metadata": {},
   "outputs": [],
   "source": [
    "class Account:\n",
    "    apr = 3.0\n",
    "    \n",
    "    def __init__(self, account_number, balance):\n",
    "        self.account_number = account_number\n",
    "        self.balance = balance\n",
    "        self.account_type = 'Generic Account'\n",
    "        \n",
    "    def calc_interest(self):\n",
    "        return f'Calc interest on {self.account_type} with APR = {Account.apr}'\n",
    "        \n",
    "        \n",
    "class Savings(Account):\n",
    "    apr = 5.0\n",
    "    \n",
    "    def __init__(self, account_number, balance):\n",
    "        self.account_number = account_number  # We'll revisit this later - this is clumsy\n",
    "        self.balance = balance\n",
    "        self.account_type = 'Savings Account' "
   ]
  },
  {
   "cell_type": "code",
   "execution_count": 36,
   "metadata": {},
   "outputs": [
    {
     "data": {
      "text/plain": [
       "'Calc interest on Savings Account with APR = 3.0'"
      ]
     },
     "execution_count": 36,
     "metadata": {},
     "output_type": "execute_result"
    }
   ],
   "source": [
    "s = Savings(123, 100)\n",
    "s.calc_interest()"
   ]
  },
  {
   "cell_type": "markdown",
   "metadata": {},
   "source": [
    "Notice how even though this was a `Savings` account, we still used the `apr` defined in the `Account` class. That's because we explicitly used `Account.apr`.\n",
    "\n",
    "This is why I chose to use `self.apr` in the first example. We can also use the `__class__` method to recover the actual class of the specific instance:"
   ]
  },
  {
   "cell_type": "code",
   "execution_count": 37,
   "metadata": {},
   "outputs": [],
   "source": [
    "a = Account(123, 100)\n",
    "s = Savings(234, 200)"
   ]
  },
  {
   "cell_type": "code",
   "execution_count": 38,
   "metadata": {},
   "outputs": [
    {
     "data": {
      "text/plain": [
       "__main__.Account"
      ]
     },
     "execution_count": 38,
     "metadata": {},
     "output_type": "execute_result"
    }
   ],
   "source": [
    "a.__class__"
   ]
  },
  {
   "cell_type": "code",
   "execution_count": 39,
   "metadata": {},
   "outputs": [
    {
     "data": {
      "text/plain": [
       "__main__.Savings"
      ]
     },
     "execution_count": 39,
     "metadata": {},
     "output_type": "execute_result"
    }
   ],
   "source": [
    "s.__class__"
   ]
  },
  {
   "cell_type": "markdown",
   "metadata": {},
   "source": [
    "Fairly often we need to get a handle on the class of the instance, but we cannot assume it is necessarily the class our code is *defined* in, as was the case in his example. Even though `calc_interest` is defined in the `Account` class, it is actually bound to an instance of the `Savings` class when we call `s.calc_interest()`.\n",
    "\n",
    "So we can also do it this way:"
   ]
  },
  {
   "cell_type": "code",
   "execution_count": 40,
   "metadata": {},
   "outputs": [],
   "source": [
    "class Account:\n",
    "    apr = 3.0\n",
    "    \n",
    "    def __init__(self, account_number, balance):\n",
    "        self.account_number = account_number\n",
    "        self.balance = balance\n",
    "        self.account_type = 'Generic Account'\n",
    "        \n",
    "    def calc_interest(self):\n",
    "        return f'Calc interest on {self.account_type} with APR = {self.__class__.apr}'\n",
    "        \n",
    "        \n",
    "class Savings(Account):\n",
    "    apr = 5.0\n",
    "    \n",
    "    def __init__(self, account_number, balance):\n",
    "        self.account_number = account_number  # We'll revisit this later - this is clumsy\n",
    "        self.balance = balance\n",
    "        self.account_type = 'Savings Account' "
   ]
  },
  {
   "cell_type": "code",
   "execution_count": 41,
   "metadata": {},
   "outputs": [],
   "source": [
    "a = Account(123, 100)\n",
    "s = Savings(234, 200)"
   ]
  },
  {
   "cell_type": "code",
   "execution_count": 42,
   "metadata": {},
   "outputs": [
    {
     "data": {
      "text/plain": [
       "('Calc interest on Generic Account with APR = 3.0',\n",
       " 'Calc interest on Savings Account with APR = 5.0')"
      ]
     },
     "execution_count": 42,
     "metadata": {},
     "output_type": "execute_result"
    }
   ],
   "source": [
    "a.calc_interest(), s.calc_interest()"
   ]
  },
  {
   "cell_type": "markdown",
   "metadata": {},
   "source": [
    "So why use this `self.__class__.apr` technique instead of using `self.apr`? Basically if we want to protect from someone shadowing the `apr` class attribute with an instance attribute:"
   ]
  },
  {
   "cell_type": "markdown",
   "metadata": {},
   "source": [
    "Remember that instances can define instance attributes that can shadow class attributes:"
   ]
  },
  {
   "cell_type": "code",
   "execution_count": 43,
   "metadata": {},
   "outputs": [],
   "source": [
    "s1 = Savings(123, 100)"
   ]
  },
  {
   "cell_type": "code",
   "execution_count": 44,
   "metadata": {},
   "outputs": [
    {
     "data": {
      "text/plain": [
       "{'account_number': 123, 'balance': 100, 'account_type': 'Savings Account'}"
      ]
     },
     "execution_count": 44,
     "metadata": {},
     "output_type": "execute_result"
    }
   ],
   "source": [
    "s1.__dict__"
   ]
  },
  {
   "cell_type": "code",
   "execution_count": 45,
   "metadata": {},
   "outputs": [
    {
     "data": {
      "text/plain": [
       "5.0"
      ]
     },
     "execution_count": 45,
     "metadata": {},
     "output_type": "execute_result"
    }
   ],
   "source": [
    "s1.apr"
   ]
  },
  {
   "cell_type": "code",
   "execution_count": 46,
   "metadata": {},
   "outputs": [],
   "source": [
    "s2 = Savings(234, 200)\n",
    "s2.apr = 10"
   ]
  },
  {
   "cell_type": "code",
   "execution_count": 47,
   "metadata": {},
   "outputs": [
    {
     "data": {
      "text/plain": [
       "{'account_number': 234,\n",
       " 'balance': 200,\n",
       " 'account_type': 'Savings Account',\n",
       " 'apr': 10}"
      ]
     },
     "execution_count": 47,
     "metadata": {},
     "output_type": "execute_result"
    }
   ],
   "source": [
    "s2.__dict__"
   ]
  },
  {
   "cell_type": "code",
   "execution_count": 48,
   "metadata": {},
   "outputs": [
    {
     "data": {
      "text/plain": [
       "10"
      ]
     },
     "execution_count": 48,
     "metadata": {},
     "output_type": "execute_result"
    }
   ],
   "source": [
    "s2.apr"
   ]
  },
  {
   "cell_type": "markdown",
   "metadata": {},
   "source": [
    "So now watch what happens when we use the `self.apr`:"
   ]
  },
  {
   "cell_type": "code",
   "execution_count": 49,
   "metadata": {},
   "outputs": [],
   "source": [
    "class Account:\n",
    "    apr = 3.0\n",
    "    \n",
    "    def __init__(self, account_number, balance):\n",
    "        self.account_number = account_number\n",
    "        self.balance = balance\n",
    "        self.account_type = 'Generic Account'\n",
    "        \n",
    "    def calc_interest(self):\n",
    "        return f'Calc interest on {self.account_type} with APR = {self.apr}'\n",
    "        \n",
    "        \n",
    "class Savings(Account):\n",
    "    apr = 5.0\n",
    "    \n",
    "    def __init__(self, account_number, balance):\n",
    "        self.account_number = account_number  # We'll revisit this later - this is clumsy\n",
    "        self.balance = balance\n",
    "        self.account_type = 'Savings Account' "
   ]
  },
  {
   "cell_type": "code",
   "execution_count": 50,
   "metadata": {},
   "outputs": [],
   "source": [
    "s1 = Savings(123, 100)\n",
    "s2 = Savings(234, 200)\n",
    "s1.apr = 10"
   ]
  },
  {
   "cell_type": "code",
   "execution_count": 51,
   "metadata": {},
   "outputs": [
    {
     "data": {
      "text/plain": [
       "('Calc interest on Savings Account with APR = 10',\n",
       " 'Calc interest on Savings Account with APR = 5.0')"
      ]
     },
     "execution_count": 51,
     "metadata": {},
     "output_type": "execute_result"
    }
   ],
   "source": [
    "s1.calc_interest(), s2.calc_interest()"
   ]
  },
  {
   "cell_type": "markdown",
   "metadata": {},
   "source": [
    "As you can see `self.apr` used the \"overriding\" instance attribute for the class attribute `apr`."
   ]
  },
  {
   "cell_type": "markdown",
   "metadata": {},
   "source": [
    "If instead we use `self.__class__.apr`:"
   ]
  },
  {
   "cell_type": "code",
   "execution_count": 52,
   "metadata": {},
   "outputs": [],
   "source": [
    "class Account:\n",
    "    apr = 3.0\n",
    "    \n",
    "    def __init__(self, account_number, balance):\n",
    "        self.account_number = account_number\n",
    "        self.balance = balance\n",
    "        self.account_type = 'Generic Account'\n",
    "        \n",
    "    def calc_interest(self):\n",
    "        return f'Calc interest on {self.account_type} with APR = {self.__class__.apr}'\n",
    "        \n",
    "        \n",
    "class Savings(Account):\n",
    "    apr = 5.0\n",
    "    \n",
    "    def __init__(self, account_number, balance):\n",
    "        self.account_number = account_number  # We'll revisit this later - this is clumsy\n",
    "        self.balance = balance\n",
    "        self.account_type = 'Savings Account' "
   ]
  },
  {
   "cell_type": "code",
   "execution_count": 53,
   "metadata": {},
   "outputs": [],
   "source": [
    "s1 = Savings(123, 100)\n",
    "s2 = Savings(234, 200)\n",
    "s1.apr = 10"
   ]
  },
  {
   "cell_type": "code",
   "execution_count": 54,
   "metadata": {},
   "outputs": [
    {
     "data": {
      "text/plain": [
       "('Calc interest on Savings Account with APR = 5.0',\n",
       " 'Calc interest on Savings Account with APR = 5.0')"
      ]
     },
     "execution_count": 54,
     "metadata": {},
     "output_type": "execute_result"
    }
   ],
   "source": [
    "s1.calc_interest(), s2.calc_interest()"
   ]
  },
  {
   "cell_type": "markdown",
   "metadata": {},
   "source": [
    "As you can see we forced our code to use the **class** attribute. Depending on what you are designing, you may want to choose one or the other."
   ]
  },
  {
   "cell_type": "markdown",
   "metadata": {},
   "source": [
    "More often, we use `type(a)` instead of `a.__class__`, like so:"
   ]
  },
  {
   "cell_type": "code",
   "execution_count": 55,
   "metadata": {},
   "outputs": [],
   "source": [
    "class Account:\n",
    "    apr = 3.0\n",
    "    \n",
    "    def __init__(self, account_number, balance):\n",
    "        self.account_number = account_number\n",
    "        self.balance = balance\n",
    "        self.account_type = 'Generic Account'\n",
    "        \n",
    "    def calc_interest(self):\n",
    "        return f'Calc interest on {self.account_type} with APR = {type(self).apr}'\n",
    "        \n",
    "        \n",
    "class Savings(Account):\n",
    "    apr = 5.0\n",
    "    \n",
    "    def __init__(self, account_number, balance):\n",
    "        self.account_number = account_number  # We'll revisit this later - this is clumsy\n",
    "        self.balance = balance\n",
    "        self.account_type = 'Savings Account' "
   ]
  },
  {
   "cell_type": "markdown",
   "metadata": {},
   "source": [
    "And it works exactly the same way:"
   ]
  },
  {
   "cell_type": "code",
   "execution_count": 56,
   "metadata": {},
   "outputs": [],
   "source": [
    "a = Account(100, 100)\n",
    "s1 = Savings(101, 100)\n",
    "s2 = Savings(102, 100)"
   ]
  },
  {
   "cell_type": "code",
   "execution_count": 57,
   "metadata": {},
   "outputs": [],
   "source": [
    "s2.apr = 10"
   ]
  },
  {
   "cell_type": "code",
   "execution_count": 58,
   "metadata": {},
   "outputs": [
    {
     "data": {
      "text/plain": [
       "'Calc interest on Generic Account with APR = 3.0'"
      ]
     },
     "execution_count": 58,
     "metadata": {},
     "output_type": "execute_result"
    }
   ],
   "source": [
    "a.calc_interest()"
   ]
  },
  {
   "cell_type": "code",
   "execution_count": 59,
   "metadata": {},
   "outputs": [
    {
     "data": {
      "text/plain": [
       "'Calc interest on Savings Account with APR = 5.0'"
      ]
     },
     "execution_count": 59,
     "metadata": {},
     "output_type": "execute_result"
    }
   ],
   "source": [
    "s1.calc_interest()"
   ]
  },
  {
   "cell_type": "code",
   "execution_count": 60,
   "metadata": {},
   "outputs": [
    {
     "data": {
      "text/plain": [
       "'Calc interest on Savings Account with APR = 5.0'"
      ]
     },
     "execution_count": 60,
     "metadata": {},
     "output_type": "execute_result"
    }
   ],
   "source": [
    "s2.calc_interest()"
   ]
  },
  {
   "cell_type": "code",
   "execution_count": null,
   "metadata": {},
   "outputs": [],
   "source": []
  }
 ],
 "metadata": {
  "kernelspec": {
   "display_name": "Python 3",
   "language": "python",
   "name": "python3"
  },
  "language_info": {
   "codemirror_mode": {
    "name": "ipython",
    "version": 3
   },
   "file_extension": ".py",
   "mimetype": "text/x-python",
   "name": "python",
   "nbconvert_exporter": "python",
   "pygments_lexer": "ipython3",
   "version": "3.6.7"
  }
 },
 "nbformat": 4,
 "nbformat_minor": 2
}
