{
 "metadata": {
  "language_info": {
   "codemirror_mode": {
    "name": "ipython",
    "version": 3
   },
   "file_extension": ".py",
   "mimetype": "text/x-python",
   "name": "python",
   "nbconvert_exporter": "python",
   "pygments_lexer": "ipython3",
   "version": "3.9.0-final"
  },
  "orig_nbformat": 2,
  "kernelspec": {
   "name": "python3",
   "display_name": "Python 3",
   "language": "python"
  }
 },
 "nbformat": 4,
 "nbformat_minor": 2,
 "cells": [
  {
   "source": [
    "# Dictionaries"
   ],
   "cell_type": "markdown",
   "metadata": {}
  },
  {
   "source": [
    "### Creating dictionaries"
   ],
   "cell_type": "markdown",
   "metadata": {}
  },
  {
   "cell_type": "code",
   "execution_count": 22,
   "metadata": {},
   "outputs": [
    {
     "output_type": "stream",
     "name": "stdout",
     "text": [
      "{'1': 1, '3': 27}\n"
     ]
    }
   ],
   "source": [
    "from typing import Dict, Any\n",
    "d: Dict[Any, Any] = {\n",
    "    str(i): i**3\n",
    "    for i in range(5)\n",
    "    if i % 2\n",
    "}\n",
    "print(d)"
   ]
  },
  {
   "cell_type": "code",
   "execution_count": 26,
   "metadata": {},
   "outputs": [
    {
     "output_type": "execute_result",
     "data": {
      "text/plain": [
       "['1']"
      ]
     },
     "metadata": {},
     "execution_count": 26
    }
   ],
   "source": [
    "arr = [key for key in d.keys()]\n",
    "arr[:1]"
   ]
  },
  {
   "source": [
    "insert, delete, search, get, "
   ],
   "cell_type": "markdown",
   "metadata": {}
  },
  {
   "cell_type": "code",
   "execution_count": null,
   "metadata": {},
   "outputs": [],
   "source": [
    "# insert\n",
    "d[\"val\"] = 12\n",
    "print(d)\n",
    "\n",
    "# remove\n",
    "d.pop(\"val\")\n",
    "print(d)\n",
    "\n",
    "# search\n",
    "print(\"1\" in d)\n",
    "\n",
    "# get\n",
    "print(d.get(\"3\"))\n",
    "\n",
    "# traverse both\n",
    "for key, value in d.items():\n",
    "    print(f\"key = {key}, value = {value}\")\n",
    "\n",
    "# traverse keys\n",
    "for key in d.keys():\n",
    "    print(f\"key = {key}\")\n",
    "# travserse values\n",
    "for value in d.values():\n",
    "    print(f\"value = {value}\")\n",
    "# traverse index and keys and values\n",
    "for index, key in enumerate(d):\n",
    "    print(f\"index = {index}, key = {key}, value = {d[key]}\")\n",
    "\n",
    "# merge dicts\n",
    "d2: Dict[Any, Any] = {\n",
    "    i: i*10\n",
    "    for i in range(4, 7)\n",
    "    if i % 2 == 0\n",
    "}\n",
    "print(d2)\n",
    "\n",
    "d.update(d2)\n",
    "print(d)\n",
    "\n",
    "# And\n",
    "print(d|d2)\n",
    "\n",
    "# copy\n",
    "dic: Dict[Any, Any] = d.copy()\n",
    "print(dic)"
   ]
  },
  {
   "cell_type": "code",
   "execution_count": null,
   "metadata": {},
   "outputs": [],
   "source": [
    "import collections"
   ]
  },
  {
   "cell_type": "code",
   "execution_count": null,
   "metadata": {},
   "outputs": [],
   "source": [
    "defaultd: Dict[Any, Any] = collections.defaultdict()\n",
    "print(defaultd)"
   ]
  },
  {
   "cell_type": "code",
   "execution_count": null,
   "metadata": {},
   "outputs": [],
   "source": [
    "a = (\"Hello my name is Rahul\")\n",
    "len(a.split(\" \"))\n",
    "val: Dict[Any, Any] = {\n",
    "    index+1: value\n",
    "    for index, value in enumerate(a.split(\" \")) \n",
    "}\n",
    "print(val)"
   ]
  },
  {
   "cell_type": "code",
   "execution_count": null,
   "metadata": {},
   "outputs": [],
   "source": [
    "a: Dict[Any, Any] = collections.defaultdict(lambda: 0)\n",
    "a: Dict[Any, Any] = {\n",
    "    str(i): i**3\n",
    "    for i in range(5)\n",
    "    if i % 2==0\n",
    "}\n"
   ]
  },
  {
   "cell_type": "code",
   "execution_count": 4,
   "metadata": {},
   "outputs": [],
   "source": [
    "## Counters"
   ]
  },
  {
   "cell_type": "code",
   "execution_count": 6,
   "metadata": {},
   "outputs": [],
   "source": [
    "import collections"
   ]
  },
  {
   "cell_type": "code",
   "execution_count": 8,
   "metadata": {},
   "outputs": [
    {
     "output_type": "stream",
     "name": "stdout",
     "text": [
      "Counter()\n"
     ]
    }
   ],
   "source": [
    "c = collections.Counter()\n",
    "print(c)"
   ]
  },
  {
   "cell_type": "code",
   "execution_count": 21,
   "metadata": {},
   "outputs": [
    {
     "output_type": "stream",
     "name": "stdout",
     "text": [
      "deque([0, 2, 4, 6, 8, 10])\ndeque([1, 0, 2, 4, 6, 8, 10])\ndeque(['Bye', 'Hello', 1, 0, 2, 4, 6, 8, 10])\ndeque([8, 10, 'Bye', 'Hello', 1, 0, 2, 4, 6])\n"
     ]
    }
   ],
   "source": [
    "from typing import List\n",
    "val: List = collections.deque(\n",
    "    [i for i in range(12)\n",
    "     if i % 2 == 0]\n",
    ")\n",
    "print(val)\n",
    "val.appendleft(1)\n",
    "print(val)\n",
    "val.extendleft([\"Hello\", \"Bye\"])\n",
    "print(val)\n",
    "val.rotate(val[4])\n",
    "print(val)"
   ]
  },
  {
   "cell_type": "code",
   "execution_count": 28,
   "metadata": {},
   "outputs": [],
   "source": [
    "from typing import List, Dict, Any\n",
    "def count(row: List[int]) -> int:\n",
    "    var: int = 0\n",
    "    for item in row:\n",
    "        if item == 1:\n",
    "            var += 1\n",
    "    return var"
   ]
  },
  {
   "cell_type": "code",
   "execution_count": 29,
   "metadata": {},
   "outputs": [],
   "source": [
    "def kweakestRows(mat: List[List[int]], k: int) -> List[int]:\n",
    "    dic: Dict[Any, Any] = {\n",
    "        int(row_index): count(row)\n",
    "        for row_index, row in enumerate(mat)\n",
    "    }\n",
    "    # sort values [:k]\n",
    "    k_sorted_val = sorted([value for value in dic.values()])[:k] \n",
    "    result: List = []\n",
    "    # key-> row_index: value-> count(row)\n",
    "    for key, value in dic.items():\n",
    "        if value in k_sorted_val:\n",
    "            result.append(key)\n",
    "    return result"
   ]
  },
  {
   "cell_type": "code",
   "execution_count": 30,
   "metadata": {},
   "outputs": [
    {
     "output_type": "execute_result",
     "data": {
      "text/plain": [
       "[0, 2, 3]"
      ]
     },
     "metadata": {},
     "execution_count": 30
    }
   ],
   "source": [
    "kweakestRows([[1,1,0,0,0],[1,1,1,1,0],[1,0,0,0,0],[1,1,0,0,0],[1,1,1,1,1]], 3)"
   ]
  },
  {
   "cell_type": "code",
   "execution_count": 32,
   "metadata": {},
   "outputs": [
    {
     "output_type": "execute_result",
     "data": {
      "text/plain": [
       "423"
      ]
     },
     "metadata": {},
     "execution_count": 32
    }
   ],
   "source": [
    "22+ 141+38+48+20+69+85\n"
   ]
  },
  {
   "cell_type": "code",
   "execution_count": null,
   "metadata": {},
   "outputs": [],
   "source": []
  }
 ]
}