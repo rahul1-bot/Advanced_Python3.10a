{
 "cells": [
  {
   "cell_type": "markdown",
   "metadata": {},
   "source": [
    "### Custom Exceptions"
   ]
  },
  {
   "cell_type": "markdown",
   "metadata": {},
   "source": [
    "We can create our own exception types, by simply inheriting from `Exception`. (Usually, we want to inherit from `Exception`, not `BaseException` since `BaseException` includes exceptions such as `SystemExit`, `KeyboardInterrupt` and a few others - our custom exceptions mostly do not fall under the same *base* type of exceptions, but rather under `Exception`. "
   ]
  },
  {
   "cell_type": "markdown",
   "metadata": {},
   "source": [
    "Plus, it is usually expected that custom exceptions inherit from `Exception`, and people will think that trapping `Exception` will trap your exceptions as well."
   ]
  },
  {
   "cell_type": "markdown",
   "metadata": {},
   "source": [
    "So, to create a custom exception we simply inherit from `Exception`, or any subclass thereof."
   ]
  },
  {
   "cell_type": "code",
   "execution_count": 1,
   "metadata": {},
   "outputs": [],
   "source": [
    "class TimeoutError(Exception):\n",
    "    \"\"\"Timeout exception\"\"\""
   ]
  },
  {
   "cell_type": "markdown",
   "metadata": {},
   "source": [
    "Note: we should really always provide a docstring for any class or function we create. If we do so, a docstring **is** a valid Python statement, and it is enough for an \"empty\" class - we do not need to use `pass`."
   ]
  },
  {
   "cell_type": "markdown",
   "metadata": {},
   "source": [
    "Now we can trap an instance of `TimeoutError` with `TimeoutError`, `Exception`, or even `BaseException`."
   ]
  },
  {
   "cell_type": "code",
   "execution_count": 2,
   "metadata": {},
   "outputs": [
    {
     "name": "stdout",
     "output_type": "stream",
     "text": [
      "timeout occurred\n"
     ]
    }
   ],
   "source": [
    "try:\n",
    "    raise TimeoutError('timeout occurred')\n",
    "except TimeoutError as ex:\n",
    "    print(ex)"
   ]
  },
  {
   "cell_type": "markdown",
   "metadata": {},
   "source": [
    "Note that we do now need to provide an `__init__` since that is inherited from `BaseException`, and we get the variable number of arguments functionality, as well as `args` and the traceback. It works just like any standard Python exception."
   ]
  },
  {
   "cell_type": "markdown",
   "metadata": {},
   "source": [
    "We don't have to inherit from `Exception`, we can inherit from any exception type, including our own custom exceptions."
   ]
  },
  {
   "cell_type": "code",
   "execution_count": 3,
   "metadata": {},
   "outputs": [],
   "source": [
    "class ReadOnlyError(AttributeError):\n",
    "    \"\"\"Indicates an attribute is read-only\"\"\""
   ]
  },
  {
   "cell_type": "code",
   "execution_count": 4,
   "metadata": {},
   "outputs": [
    {
     "name": "stdout",
     "output_type": "stream",
     "text": [
      "ReadOnlyError('Account number is read-only', 'BA10001')\n"
     ]
    }
   ],
   "source": [
    "try:\n",
    "    raise ReadOnlyError('Account number is read-only', 'BA10001')\n",
    "except ReadOnlyError as ex:\n",
    "    print(repr(ex))"
   ]
  },
  {
   "cell_type": "markdown",
   "metadata": {},
   "source": [
    "Often when we have a relatively complex application, we create our own hierarchy of exceptions, where we use some base exception for our application, and every other exception is a subclass of that exception."
   ]
  },
  {
   "cell_type": "markdown",
   "metadata": {},
   "source": [
    "For example, suppose we are writing a library that is used to scrape some web sites and extract product information and pricing."
   ]
  },
  {
   "cell_type": "markdown",
   "metadata": {},
   "source": [
    "Let's say our library's name is *WebScraper*."
   ]
  },
  {
   "cell_type": "markdown",
   "metadata": {},
   "source": [
    "We might first create a base exception for our library:"
   ]
  },
  {
   "cell_type": "code",
   "execution_count": 5,
   "metadata": {},
   "outputs": [],
   "source": [
    "class WebScraperException(Exception):\n",
    "    \"\"\"Base exception for WebScraper\"\"\""
   ]
  },
  {
   "cell_type": "code",
   "execution_count": 6,
   "metadata": {},
   "outputs": [],
   "source": [
    "class HTTPException(WebScraperException):\n",
    "    \"\"\"General HTTP exception for WebScraper\"\"\"\n",
    "    \n",
    "class InvalidUrlException(HTTPException):\n",
    "    \"\"\"Indicates the url is invalid (dns lookup fails)\"\"\"\n",
    "    \n",
    "class TimeoutException(HTTPException):\n",
    "    \"\"\"Indicates a general timeout exception in http connectivity\"\"\"\n",
    "    \n",
    "class PingTimeoutException(TimeoutException):\n",
    "    \"\"\"Ping time out\"\"\"\n",
    "    \n",
    "class LoadTimeoutException(TimeoutException):\n",
    "    \"\"\"Page load time out\"\"\"\n",
    "    \n",
    "class ParserException(WebScraperException):\n",
    "    \"\"\"General page parsing exception\"\"\""
   ]
  },
  {
   "cell_type": "markdown",
   "metadata": {},
   "source": [
    "As you can see we have this hierarchy:"
   ]
  },
  {
   "cell_type": "markdown",
   "metadata": {},
   "source": [
    "```\n",
    "WebScraperException\n",
    "   - HTTPException\n",
    "       - InvalidUrlException\n",
    "       - TimeoutException\n",
    "           - PingTimeoutException\n",
    "           - LoadTimeoutException\n",
    "    - ParserException\n",
    "```"
   ]
  },
  {
   "cell_type": "markdown",
   "metadata": {},
   "source": [
    "Now someone using our library can expect to trap **any** exception we raise by catching the `WebScraperException` type, or anything more specific if they prefer:"
   ]
  },
  {
   "cell_type": "code",
   "execution_count": 7,
   "metadata": {},
   "outputs": [
    {
     "name": "stdout",
     "output_type": "stream",
     "text": [
      "PingTimeoutException('Ping to www.... timed out',)\n"
     ]
    }
   ],
   "source": [
    "try:\n",
    "    raise PingTimeoutException('Ping to www.... timed out')\n",
    "except HTTPException as ex:\n",
    "    print(repr(ex))"
   ]
  },
  {
   "cell_type": "markdown",
   "metadata": {},
   "source": [
    "or more broadly:"
   ]
  },
  {
   "cell_type": "code",
   "execution_count": 8,
   "metadata": {},
   "outputs": [
    {
     "name": "stdout",
     "output_type": "stream",
     "text": [
      "PingTimeoutException('Ping time out',)\n"
     ]
    }
   ],
   "source": [
    "try:\n",
    "    raise PingTimeoutException('Ping time out')\n",
    "except WebScraperException as ex:\n",
    "    print(repr(ex))"
   ]
  },
  {
   "cell_type": "markdown",
   "metadata": {},
   "source": [
    "So this is very useful when we write modules or packages and want to keep our exception hierarchy neatly contained with some base exception class. This way, users of our class are not forced to use `except Exception` to trap exceptions we might raise from inside our library."
   ]
  },
  {
   "cell_type": "markdown",
   "metadata": {},
   "source": [
    "Custom exception classes are like any custom class, which means we can add custom attributes, properties and methods to the class."
   ]
  },
  {
   "cell_type": "markdown",
   "metadata": {},
   "source": [
    "This might be useful to provide additional context and functionality to our exceptions."
   ]
  },
  {
   "cell_type": "markdown",
   "metadata": {},
   "source": [
    "For example, suppose we are writing a REST API. When we raise a custom exception, we'll also want to return an HTTP exception response to the API caller. We could write code like this in our API calls:"
   ]
  },
  {
   "cell_type": "markdown",
   "metadata": {},
   "source": [
    "Suppose we need to retrieve an account (by ID) from a database. Here I'm just going to mock this:"
   ]
  },
  {
   "cell_type": "code",
   "execution_count": 9,
   "metadata": {},
   "outputs": [],
   "source": [
    "class APIException(Exception):\n",
    "    \"\"\"Base API exception\"\"\""
   ]
  },
  {
   "cell_type": "code",
   "execution_count": 10,
   "metadata": {},
   "outputs": [],
   "source": [
    "class ApplicationException(APIException):\n",
    "    \"\"\"Indicates an application error (not user caused) - 5xx HTTP type errors\"\"\"\n",
    "    \n",
    "class DBException(ApplicationException):\n",
    "    \"\"\"General database exception\"\"\"\n",
    "    \n",
    "class DBConnectionError(DBException):\n",
    "    \"\"\"Indicates an error connecting to database\"\"\"\n",
    "    \n",
    "class ClientException(APIException):\n",
    "    \"\"\"Indicates exception that was caused by user, not an internal error\"\"\"\n",
    "    \n",
    "class NotFoundError(ClientException):\n",
    "    \"\"\"Indicates resource was not found\"\"\"\n",
    "\n",
    "class NotAuthorizedError(ClientException):\n",
    "    \"\"\"User is not authorized to perform requested action on resource\"\"\"\n",
    "    \n",
    "    \n",
    "class Account:\n",
    "    def __init__(self, account_id, account_type):\n",
    "        self.account_id = account_id\n",
    "        self.account_type = account_type"
   ]
  },
  {
   "cell_type": "markdown",
   "metadata": {},
   "source": [
    "So we have this exception hierarchy:\n",
    "\n",
    "```\n",
    "APIException\n",
    "   - ApplicationException (5xx errors)\n",
    "       - DBException\n",
    "           - DBConnectionError\n",
    "   - ClientException\n",
    "       - NotFoundError\n",
    "       - NotAuthorizedError\n",
    "```"
   ]
  },
  {
   "cell_type": "code",
   "execution_count": 11,
   "metadata": {},
   "outputs": [],
   "source": [
    "def lookup_account_by_id(account_id):\n",
    "    # mock of various exceptions that could be raised getting an account from database\n",
    "    if not isinstance(account_id, int) or account_id <= 0:\n",
    "        raise ClientException(f'Account number {account_id} is invalid.')\n",
    "        \n",
    "    if account_id < 100:\n",
    "        raise DBConnectionError('Permanent failure connecting to database.')\n",
    "    elif account_id < 200:\n",
    "        raise NotAuthorizedError('User does not have permissions to read this account')\n",
    "    elif account_id < 300:\n",
    "        raise NotFoundError(f'Account not found.')\n",
    "    else:\n",
    "        return Account(account_id, 'Savings')"
   ]
  },
  {
   "cell_type": "markdown",
   "metadata": {},
   "source": [
    "Now suppose we have this endpoint for a **GET** on the **Account** resource, and we need to return the appropriate HTTP exception, and message to the user."
   ]
  },
  {
   "cell_type": "markdown",
   "metadata": {},
   "source": [
    "We're going to make use of the `HTTPStatus` enumeration we have seen before."
   ]
  },
  {
   "cell_type": "code",
   "execution_count": 12,
   "metadata": {},
   "outputs": [],
   "source": [
    "from http import HTTPStatus"
   ]
  },
  {
   "cell_type": "code",
   "execution_count": 13,
   "metadata": {},
   "outputs": [],
   "source": [
    "def get_account(account_id):\n",
    "    try:\n",
    "        account = lookup_account_by_id(account_id)\n",
    "    except ApplicationException as ex:\n",
    "        return HTTPStatus.INTERNAL_SERVER_ERROR, str(ex)\n",
    "    except NotFoundError as ex:\n",
    "        return HTTPStatus.NOT_FOUND, 'The account {} does not exist.'.format(account_id)\n",
    "    except NotAuthorizedError as ex:\n",
    "        return HTTPStatus.UNAUTHORIZED, 'You do not have the proper authorization.'\n",
    "    except ClientException as ex:\n",
    "        return HTTPStatus.BAD_REQUEST, str(ex)\n",
    "    else:\n",
    "        return HTTPStatus.OK, {\"id\": account.account_id, \"type\": account.account_type}"
   ]
  },
  {
   "cell_type": "markdown",
   "metadata": {},
   "source": [
    "Now when we call our end point with different account numbers:"
   ]
  },
  {
   "cell_type": "code",
   "execution_count": 14,
   "metadata": {},
   "outputs": [
    {
     "data": {
      "text/plain": [
       "(<HTTPStatus.BAD_REQUEST: 400>, 'Account number abc is invalid.')"
      ]
     },
     "execution_count": 14,
     "metadata": {},
     "output_type": "execute_result"
    }
   ],
   "source": [
    "get_account('abc')"
   ]
  },
  {
   "cell_type": "code",
   "execution_count": 15,
   "metadata": {},
   "outputs": [
    {
     "data": {
      "text/plain": [
       "(<HTTPStatus.INTERNAL_SERVER_ERROR: 500>,\n",
       " 'Permanent failure connecting to database.')"
      ]
     },
     "execution_count": 15,
     "metadata": {},
     "output_type": "execute_result"
    }
   ],
   "source": [
    "get_account(50)"
   ]
  },
  {
   "cell_type": "code",
   "execution_count": 16,
   "metadata": {},
   "outputs": [
    {
     "data": {
      "text/plain": [
       "(<HTTPStatus.UNAUTHORIZED: 401>, 'You do not have the proper authorization.')"
      ]
     },
     "execution_count": 16,
     "metadata": {},
     "output_type": "execute_result"
    }
   ],
   "source": [
    "get_account(150)"
   ]
  },
  {
   "cell_type": "code",
   "execution_count": 17,
   "metadata": {},
   "outputs": [
    {
     "data": {
      "text/plain": [
       "(<HTTPStatus.NOT_FOUND: 404>, 'The account 250 does not exist.')"
      ]
     },
     "execution_count": 17,
     "metadata": {},
     "output_type": "execute_result"
    }
   ],
   "source": [
    "get_account(250)"
   ]
  },
  {
   "cell_type": "code",
   "execution_count": 18,
   "metadata": {},
   "outputs": [
    {
     "data": {
      "text/plain": [
       "(<HTTPStatus.OK: 200>, {'id': 350, 'type': 'Savings'})"
      ]
     },
     "execution_count": 18,
     "metadata": {},
     "output_type": "execute_result"
    }
   ],
   "source": [
    "get_account(350)"
   ]
  },
  {
   "cell_type": "markdown",
   "metadata": {},
   "source": [
    "As you can see this was quite a lot of exception handling we had to do. And really, the HTTP status and message shoudl remain consistent with any exception type."
   ]
  },
  {
   "cell_type": "markdown",
   "metadata": {},
   "source": [
    "So instead of dealing with it the way we did, we are going to do the work in the exception classes themselves."
   ]
  },
  {
   "cell_type": "markdown",
   "metadata": {},
   "source": [
    "First we know we need an `HTTPStatus` for each exception, as well as an error message to present to our user that may need to be different from the internal error message we would want to log for example."
   ]
  },
  {
   "cell_type": "code",
   "execution_count": 19,
   "metadata": {},
   "outputs": [],
   "source": [
    "class APIException(Exception):\n",
    "    \"\"\"Base API exception\"\"\"\n",
    "    http_status = HTTPStatus.INTERNAL_SERVER_ERROR\n",
    "    internal_err_msg = 'API exception occurred.'\n",
    "    user_err_msg = \"We are sorry. An unexpected error occurred on our end.\""
   ]
  },
  {
   "cell_type": "markdown",
   "metadata": {},
   "source": [
    "Now having the default `internal_err_msg` and `user_err_msg` is great, but what if we ever wanted to override it for some reason?"
   ]
  },
  {
   "cell_type": "markdown",
   "metadata": {},
   "source": [
    "Let's create an `__init__` to take care of that:"
   ]
  },
  {
   "cell_type": "code",
   "execution_count": 20,
   "metadata": {},
   "outputs": [],
   "source": [
    "class APIException(Exception):\n",
    "    \"\"\"Base API exception\"\"\"\n",
    "    \n",
    "    http_status = HTTPStatus.INTERNAL_SERVER_ERROR\n",
    "    internal_err_msg = 'API exception occurred.'\n",
    "    user_err_msg = \"We are sorry. An unexpected error occurred on our end.\"\n",
    "    \n",
    "    def __init__(self, *args, user_err_msg = None):\n",
    "        if args:\n",
    "            self.internal_err_msg = args[0]\n",
    "            super().__init__(*args)\n",
    "        else:\n",
    "            super().__init__(self.internal_err_msg)\n",
    "            \n",
    "        if user_err_msg is not None:\n",
    "            self.user_err_msg = user_err_msg"
   ]
  },
  {
   "cell_type": "markdown",
   "metadata": {},
   "source": [
    "And we can use this exception quite easily:"
   ]
  },
  {
   "cell_type": "code",
   "execution_count": 21,
   "metadata": {},
   "outputs": [
    {
     "name": "stdout",
     "output_type": "stream",
     "text": [
      "APIException('API exception occurred.',)\n",
      "We are sorry. An unexpected error occurred on our end.\n"
     ]
    }
   ],
   "source": [
    "try:\n",
    "    raise APIException()\n",
    "except APIException as ex:\n",
    "    print(repr(ex))\n",
    "    print(ex.user_err_msg)"
   ]
  },
  {
   "cell_type": "markdown",
   "metadata": {},
   "source": [
    "Or with a custom (internal) message:"
   ]
  },
  {
   "cell_type": "code",
   "execution_count": 22,
   "metadata": {},
   "outputs": [
    {
     "name": "stdout",
     "output_type": "stream",
     "text": [
      "APIException('custom message...', 10, 20)\n"
     ]
    }
   ],
   "source": [
    "try:\n",
    "    raise APIException('custom message...', 10, 20)\n",
    "except APIException as ex:\n",
    "    print(repr(ex))"
   ]
  },
  {
   "cell_type": "markdown",
   "metadata": {},
   "source": [
    "And of course, the user message can be customized too:"
   ]
  },
  {
   "cell_type": "code",
   "execution_count": 23,
   "metadata": {},
   "outputs": [
    {
     "name": "stdout",
     "output_type": "stream",
     "text": [
      "APIException('custom message...', 10, 20)\n",
      "custom user message\n"
     ]
    }
   ],
   "source": [
    "try:\n",
    "    raise APIException('custom message...', 10, 20, user_err_msg='custom user message')\n",
    "except APIException as ex:\n",
    "    print(repr(ex))\n",
    "    print(ex.user_err_msg)"
   ]
  },
  {
   "cell_type": "markdown",
   "metadata": {},
   "source": [
    "While we're at it, we know that we'll need to return the same JSON format when an exception occurs - so let's write it into our base exception class:"
   ]
  },
  {
   "cell_type": "code",
   "execution_count": 24,
   "metadata": {},
   "outputs": [],
   "source": [
    "import json\n",
    "\n",
    "class APIException(Exception):\n",
    "    \"\"\"Base API exception\"\"\"\n",
    "    \n",
    "    http_status = HTTPStatus.INTERNAL_SERVER_ERROR\n",
    "    internal_err_msg = 'API exception occurred.'\n",
    "    user_err_msg = \"We are sorry. An unexpected error occurred on our end.\"\n",
    "    \n",
    "    def __init__(self, *args, user_err_msg = None):\n",
    "        if args:\n",
    "            self.internal_err_msg = args[0]\n",
    "            super().__init__(*args)\n",
    "        else:\n",
    "            super().__init__(self.internal_err_msg)\n",
    "            \n",
    "        if user_err_msg is not None:\n",
    "            self.user_err_msg = user_err_msg\n",
    "            \n",
    "    def to_json(self):\n",
    "        err_object = {'status': self.http_status, 'message': self.user_err_msg}\n",
    "        return json.dumps(err_object)"
   ]
  },
  {
   "cell_type": "markdown",
   "metadata": {},
   "source": [
    "Now we can easily use this base class, and get consistent results:"
   ]
  },
  {
   "cell_type": "code",
   "execution_count": 25,
   "metadata": {},
   "outputs": [
    {
     "name": "stdout",
     "output_type": "stream",
     "text": [
      "APIException('API exception occurred.',) {\"status\": 500, \"message\": \"We are sorry. An unexpected error occurred on our end.\"}\n"
     ]
    }
   ],
   "source": [
    "try:\n",
    "    raise APIException()\n",
    "except APIException as ex:\n",
    "    print(repr(ex), ex.to_json())"
   ]
  },
  {
   "cell_type": "markdown",
   "metadata": {},
   "source": [
    "And because we'll want to log exceptions, let's also write a logger directly into our base class:"
   ]
  },
  {
   "cell_type": "code",
   "execution_count": 26,
   "metadata": {},
   "outputs": [],
   "source": [
    "from datetime import datetime\n",
    "\n",
    "class APIException(Exception):\n",
    "    \"\"\"Base API exception\"\"\"\n",
    "    \n",
    "    http_status = HTTPStatus.INTERNAL_SERVER_ERROR\n",
    "    internal_err_msg = 'API exception occurred.'\n",
    "    user_err_msg = \"We are sorry. An unexpected error occurred on our end.\"\n",
    "    \n",
    "    def __init__(self, *args, user_err_msg = None):\n",
    "        if args:\n",
    "            self.internal_err_msg = args[0]\n",
    "            super().__init__(*args)\n",
    "        else:\n",
    "            super().__init__(self.internal_err_msg)\n",
    "            \n",
    "        if user_err_msg is not None:\n",
    "            self.user_err_msg = user_err_msg\n",
    "    \n",
    "    def to_json(self):\n",
    "        err_object = {'status': self.http_status, 'message': self.user_err_msg}\n",
    "        return json.dumps(err_object)\n",
    "    \n",
    "    def log_exception(self):\n",
    "        exception = {\n",
    "            \"type\": type(self).__name__,\n",
    "            \"http_status\": self.http_status,\n",
    "            \"message\": self.args[0] if self.args else self.internal_err_msg,\n",
    "            \"args\": self.args[1:]\n",
    "        }\n",
    "        print(f'EXCEPTION: {datetime.utcnow().isoformat()}: {exception}')"
   ]
  },
  {
   "cell_type": "code",
   "execution_count": 27,
   "metadata": {},
   "outputs": [
    {
     "name": "stdout",
     "output_type": "stream",
     "text": [
      "EXCEPTION: 2019-08-09T23:53:42.088051: {'type': 'APIException', 'http_status': <HTTPStatus.INTERNAL_SERVER_ERROR: 500>, 'message': 'API exception occurred.', 'args': ()}\n",
      "{\"status\": 500, \"message\": \"We are sorry. An unexpected error occurred on our end.\"}\n"
     ]
    }
   ],
   "source": [
    "try:\n",
    "    raise APIException()\n",
    "except APIException as ex:\n",
    "    ex.log_exception()\n",
    "    print(ex.to_json())"
   ]
  },
  {
   "cell_type": "markdown",
   "metadata": {},
   "source": [
    "Now let's finish up our hierarchy:"
   ]
  },
  {
   "cell_type": "code",
   "execution_count": 28,
   "metadata": {},
   "outputs": [],
   "source": [
    "class ApplicationException(APIException):\n",
    "    \"\"\"Indicates an application error (not user caused) - 5xx HTTP type errors\"\"\"\n",
    "    http_status = HTTPStatus.INTERNAL_SERVER_ERROR\n",
    "    internal_err_msg = \"Generic server side exception.\"\n",
    "    user_err_msg = \"We are sorry. An unexpected error occurred on our end.\"\n",
    "    \n",
    "class DBException(ApplicationException):\n",
    "    \"\"\"General database exception\"\"\"\n",
    "    http_status = HTTPStatus.INTERNAL_SERVER_ERROR\n",
    "    internal_err_msg = \"Database exception.\"\n",
    "    user_err_msg = \"We are sorry. An unexpected error occurred on our end.\"\n",
    "    \n",
    "class DBConnectionError(DBException):\n",
    "    \"\"\"Indicates an error connecting to database\"\"\"\n",
    "    http_status = HTTPStatus.INTERNAL_SERVER_ERROR\n",
    "    internal_err_msg = \"DB connection error.\"\n",
    "    user_err_msg = \"We are sorry. An unexpected error occurred on our end.\"\n",
    "    \n",
    "class ClientException(APIException):\n",
    "    \"\"\"Indicates exception that was caused by user, not an internal error\"\"\"\n",
    "    http_status = HTTPStatus.BAD_REQUEST\n",
    "    internal_err_msg = \"Client submitted bad request.\"\n",
    "    user_err_msg = \"A bad request was received.\"\n",
    "    \n",
    "class NotFoundError(ClientException):\n",
    "    \"\"\"Indicates resource was not found\"\"\"\n",
    "    http_status = HTTPStatus.NOT_FOUND\n",
    "    internal_err_msg = \"Resource was not found.\"\n",
    "    user_err_msg = \"Requested resource was not found.\"\n",
    "\n",
    "class NotAuthorizedError(ClientException):\n",
    "    \"\"\"User is not authorized to perform requested action on resource\"\"\"\n",
    "    http_status = HTTPStatus.UNAUTHORIZED\n",
    "    internal_err_msg = \"Client not authorized to perform operation.\"\n",
    "    user_err_msg = \"You are not authorized to perform this request.\""
   ]
  },
  {
   "cell_type": "markdown",
   "metadata": {},
   "source": [
    "Also, since we have a but more functionality available to us with our exceptions, let's refine the function that raises these exceptions:"
   ]
  },
  {
   "cell_type": "code",
   "execution_count": 29,
   "metadata": {},
   "outputs": [],
   "source": [
    "def lookup_account_by_id(account_id):\n",
    "    # mock of various exceptions that could be raised getting an account from database\n",
    "    if not isinstance(account_id, int) or account_id <= 0:\n",
    "        raise ClientException(f'Account number {account_id} is invalid.', \n",
    "                              f'account_id = {account_id}',\n",
    "                              'type error - account number not an integer')\n",
    "        \n",
    "    if account_id < 100:\n",
    "        raise DBConnectionError('Permanent failure connecting to database.', 'db=db01')\n",
    "    elif account_id < 200:\n",
    "        raise NotAuthorizedError('User does not have permissions to read this account', f'account_id={account_id}')\n",
    "    elif account_id < 300:\n",
    "        raise NotFoundError(f'Account not found.', f'account_id={account_id}')\n",
    "    else:\n",
    "        return Account(account_id, 'Savings')"
   ]
  },
  {
   "cell_type": "markdown",
   "metadata": {},
   "source": [
    "Now we can re-write our API endpoint and very easily handle those exceptions:"
   ]
  },
  {
   "cell_type": "code",
   "execution_count": 30,
   "metadata": {},
   "outputs": [],
   "source": [
    "def get_account(account_id):\n",
    "    try:\n",
    "        account = lookup_account_by_id(account_id)\n",
    "    except APIException as ex:\n",
    "        ex.log_exception()\n",
    "        return ex.to_json()\n",
    "    else:\n",
    "        return HTTPStatus.OK, {\"id\": account.account_id, \"type\": account.account_type}"
   ]
  },
  {
   "cell_type": "code",
   "execution_count": 31,
   "metadata": {},
   "outputs": [
    {
     "name": "stdout",
     "output_type": "stream",
     "text": [
      "EXCEPTION: 2019-08-09T23:53:43.380819: {'type': 'ClientException', 'http_status': <HTTPStatus.BAD_REQUEST: 400>, 'message': 'Account number ABC is invalid.', 'args': ('account_id = ABC', 'type error - account number not an integer')}\n"
     ]
    },
    {
     "data": {
      "text/plain": [
       "'{\"status\": 400, \"message\": \"A bad request was received.\"}'"
      ]
     },
     "execution_count": 31,
     "metadata": {},
     "output_type": "execute_result"
    }
   ],
   "source": [
    "get_account('ABC')"
   ]
  },
  {
   "cell_type": "code",
   "execution_count": 32,
   "metadata": {},
   "outputs": [
    {
     "name": "stdout",
     "output_type": "stream",
     "text": [
      "EXCEPTION: 2019-08-09T23:53:43.569481: {'type': 'DBConnectionError', 'http_status': <HTTPStatus.INTERNAL_SERVER_ERROR: 500>, 'message': 'Permanent failure connecting to database.', 'args': ('db=db01',)}\n"
     ]
    },
    {
     "data": {
      "text/plain": [
       "'{\"status\": 500, \"message\": \"We are sorry. An unexpected error occurred on our end.\"}'"
      ]
     },
     "execution_count": 32,
     "metadata": {},
     "output_type": "execute_result"
    }
   ],
   "source": [
    "get_account(50)"
   ]
  },
  {
   "cell_type": "code",
   "execution_count": 33,
   "metadata": {},
   "outputs": [
    {
     "name": "stdout",
     "output_type": "stream",
     "text": [
      "EXCEPTION: 2019-08-09T23:53:43.738034: {'type': 'NotAuthorizedError', 'http_status': <HTTPStatus.UNAUTHORIZED: 401>, 'message': 'User does not have permissions to read this account', 'args': ('account_id=150',)}\n"
     ]
    },
    {
     "data": {
      "text/plain": [
       "'{\"status\": 401, \"message\": \"You are not authorized to perform this request.\"}'"
      ]
     },
     "execution_count": 33,
     "metadata": {},
     "output_type": "execute_result"
    }
   ],
   "source": [
    "get_account(150)"
   ]
  },
  {
   "cell_type": "code",
   "execution_count": 34,
   "metadata": {},
   "outputs": [
    {
     "name": "stdout",
     "output_type": "stream",
     "text": [
      "EXCEPTION: 2019-08-09T23:53:43.934897: {'type': 'NotFoundError', 'http_status': <HTTPStatus.NOT_FOUND: 404>, 'message': 'Account not found.', 'args': ('account_id=250',)}\n"
     ]
    },
    {
     "data": {
      "text/plain": [
       "'{\"status\": 404, \"message\": \"Requested resource was not found.\"}'"
      ]
     },
     "execution_count": 34,
     "metadata": {},
     "output_type": "execute_result"
    }
   ],
   "source": [
    "get_account(250)"
   ]
  },
  {
   "cell_type": "code",
   "execution_count": 35,
   "metadata": {},
   "outputs": [
    {
     "data": {
      "text/plain": [
       "(<HTTPStatus.OK: 200>, {'id': 350, 'type': 'Savings'})"
      ]
     },
     "execution_count": 35,
     "metadata": {},
     "output_type": "execute_result"
    }
   ],
   "source": [
    "get_account(350)"
   ]
  },
  {
   "cell_type": "markdown",
   "metadata": {},
   "source": [
    "#### Inheriting from Multiple Exceptions"
   ]
  },
  {
   "cell_type": "markdown",
   "metadata": {},
   "source": [
    "We haven't covered multiple inheritance yet, but Python supports it, and it is very easy to use to solve a specific problem we may encounter with exceptions, so i want to mention it here."
   ]
  },
  {
   "cell_type": "markdown",
   "metadata": {},
   "source": [
    "Although we may want to raise a custom exception for some specific error, sometimes we may be wondering whether to raise a built-in exception that would work just as well, or raise a custom exception."
   ]
  },
  {
   "cell_type": "markdown",
   "metadata": {},
   "source": [
    "Here's an example of where this might occur:"
   ]
  },
  {
   "cell_type": "markdown",
   "metadata": {},
   "source": [
    "Suppose we have a custom exception we use to tell a user of our function/library that the value they provided to some function is not the right value - maybe it needs to be a integer greater than or equal to 0."
   ]
  },
  {
   "cell_type": "markdown",
   "metadata": {},
   "source": [
    "We might have a custom exception just for that - remember what we discussed earlier, we might want our application to raise custom exceptions for everything, based off some application base exception our users could broadly trap."
   ]
  },
  {
   "cell_type": "code",
   "execution_count": 36,
   "metadata": {},
   "outputs": [],
   "source": [
    "class AppException(Exception):\n",
    "    \"\"\"generic application exception\"\"\"\n",
    "    \n",
    "class NegativeIntegerError(AppException):\n",
    "    \"\"\"Used to indicate an error when an integer is negative.\"\"\""
   ]
  },
  {
   "cell_type": "code",
   "execution_count": 37,
   "metadata": {},
   "outputs": [],
   "source": [
    "def set_age(age):\n",
    "    if age < 0:\n",
    "        raise NegativeIntegerError('age cannot be negative')"
   ]
  },
  {
   "cell_type": "code",
   "execution_count": 38,
   "metadata": {},
   "outputs": [
    {
     "name": "stdout",
     "output_type": "stream",
     "text": [
      "NegativeIntegerError('age cannot be negative',)\n"
     ]
    }
   ],
   "source": [
    "try:\n",
    "    set_age(-10)\n",
    "except NegativeIntegerError as ex:\n",
    "    print(repr(ex))"
   ]
  },
  {
   "cell_type": "markdown",
   "metadata": {},
   "source": [
    "But the problem is that this is also a `ValueError`, and our users may want to trap it as a `ValueError` for some reason, not a `NegativeIntegerError` (or `AppException` as is possible here)."
   ]
  },
  {
   "cell_type": "markdown",
   "metadata": {},
   "source": [
    "The beauty of multiple inheritance is that we can have our custom exception inherit from **more than one** exception."
   ]
  },
  {
   "cell_type": "markdown",
   "metadata": {},
   "source": [
    "All we need to understand here, is that if we inherit from more than one class, then our subclass is considered a subclass of **both** parents."
   ]
  },
  {
   "cell_type": "code",
   "execution_count": 39,
   "metadata": {},
   "outputs": [],
   "source": [
    "class BaseClass1:\n",
    "    pass\n",
    "\n",
    "class BaseClass2:\n",
    "    pass\n",
    "\n",
    "class MyClass(BaseClass1, BaseClass2):\n",
    "    pass"
   ]
  },
  {
   "cell_type": "code",
   "execution_count": 40,
   "metadata": {},
   "outputs": [
    {
     "data": {
      "text/plain": [
       "True"
      ]
     },
     "execution_count": 40,
     "metadata": {},
     "output_type": "execute_result"
    }
   ],
   "source": [
    "issubclass(MyClass, BaseClass1)"
   ]
  },
  {
   "cell_type": "code",
   "execution_count": 41,
   "metadata": {},
   "outputs": [
    {
     "data": {
      "text/plain": [
       "True"
      ]
     },
     "execution_count": 41,
     "metadata": {},
     "output_type": "execute_result"
    }
   ],
   "source": [
    "issubclass(MyClass, BaseClass2)"
   ]
  },
  {
   "cell_type": "markdown",
   "metadata": {},
   "source": [
    "So, we can do the same thing with our exception:"
   ]
  },
  {
   "cell_type": "code",
   "execution_count": 42,
   "metadata": {},
   "outputs": [],
   "source": [
    "class NegativeIntegerError(AppException, ValueError):\n",
    "    \"\"\"Used to indicate an error when an integer is negative.\"\"\""
   ]
  },
  {
   "cell_type": "markdown",
   "metadata": {},
   "source": [
    "Now this exception is a subclass of **both** `AppException` and `ValueError`:"
   ]
  },
  {
   "cell_type": "code",
   "execution_count": 43,
   "metadata": {},
   "outputs": [
    {
     "data": {
      "text/plain": [
       "True"
      ]
     },
     "execution_count": 43,
     "metadata": {},
     "output_type": "execute_result"
    }
   ],
   "source": [
    "issubclass(NegativeIntegerError, AppException)"
   ]
  },
  {
   "cell_type": "code",
   "execution_count": 44,
   "metadata": {},
   "outputs": [
    {
     "data": {
      "text/plain": [
       "True"
      ]
     },
     "execution_count": 44,
     "metadata": {},
     "output_type": "execute_result"
    }
   ],
   "source": [
    "issubclass(NegativeIntegerError, ValueError)"
   ]
  },
  {
   "cell_type": "markdown",
   "metadata": {},
   "source": [
    "And we can trap it with either of those exception types:"
   ]
  },
  {
   "cell_type": "code",
   "execution_count": 45,
   "metadata": {},
   "outputs": [],
   "source": [
    "def set_age(age):\n",
    "    if age < 0:\n",
    "        raise NegativeIntegerError('age cannot be negative')"
   ]
  },
  {
   "cell_type": "code",
   "execution_count": 46,
   "metadata": {},
   "outputs": [
    {
     "name": "stdout",
     "output_type": "stream",
     "text": [
      "NegativeIntegerError('age cannot be negative',)\n"
     ]
    }
   ],
   "source": [
    "try:\n",
    "    set_age(-10)\n",
    "except NegativeIntegerError as ex:\n",
    "    print(repr(ex))"
   ]
  },
  {
   "cell_type": "code",
   "execution_count": 47,
   "metadata": {},
   "outputs": [
    {
     "name": "stdout",
     "output_type": "stream",
     "text": [
      "NegativeIntegerError('age cannot be negative',)\n"
     ]
    }
   ],
   "source": [
    "try:\n",
    "    set_age(-10)\n",
    "except ValueError as ex:\n",
    "    print(repr(ex))"
   ]
  },
  {
   "cell_type": "markdown",
   "metadata": {},
   "source": [
    "So this solves the problem - deciding between a custom exception vs a standard exception - we can just use both (or more!)"
   ]
  }
 ],
 "metadata": {
  "kernelspec": {
   "display_name": "Python 3",
   "language": "python",
   "name": "python3"
  },
  "language_info": {
   "codemirror_mode": {
    "name": "ipython",
    "version": 3
   },
   "file_extension": ".py",
   "mimetype": "text/x-python",
   "name": "python",
   "nbconvert_exporter": "python",
   "pygments_lexer": "ipython3",
   "version": "3.6.7"
  }
 },
 "nbformat": 4,
 "nbformat_minor": 2
}
