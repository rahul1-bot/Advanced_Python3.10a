{
 "cells": [
  {
   "cell_type": "markdown",
   "metadata": {},
   "source": [
    "### Custom JSON Decoding"
   ]
  },
  {
   "cell_type": "markdown",
   "metadata": {},
   "source": [
    "So far we have looked at how to encode (serialize) Python objects to JSON, using the standard as well as custom object serializers.\n",
    "\n",
    "Now we need to turn our attention to teh reverse process - deserializing (decoding) JSON data.\n",
    "\n",
    "Once again, the standard simple types such as strings, numbers (ints and floats), arrays, and objects with key/value pairs.\n",
    "JSON does not differentiate between mutable and immutable lists - so everything that is an array (`[...]`) in JSON will get decoded into a list object."
   ]
  },
  {
   "cell_type": "markdown",
   "metadata": {},
   "source": [
    "Let's see a quick example of how to do this:"
   ]
  },
  {
   "cell_type": "code",
   "execution_count": 1,
   "metadata": {},
   "outputs": [],
   "source": [
    "j = '''\n",
    "    {\n",
    "        \"name\": \"Python\",\n",
    "        \"age\": 27,\n",
    "        \"versions\": [\"2.x\", \"3.x\"]\n",
    "    }\n",
    "'''"
   ]
  },
  {
   "cell_type": "code",
   "execution_count": 2,
   "metadata": {},
   "outputs": [],
   "source": [
    "import json"
   ]
  },
  {
   "cell_type": "code",
   "execution_count": 3,
   "metadata": {},
   "outputs": [
    {
     "data": {
      "text/plain": [
       "{'name': 'Python', 'age': 27, 'versions': ['2.x', '3.x']}"
      ]
     },
     "execution_count": 3,
     "metadata": {},
     "output_type": "execute_result"
    }
   ],
   "source": [
    "json.loads(j)"
   ]
  },
  {
   "cell_type": "markdown",
   "metadata": {},
   "source": [
    "But what about other data types, such as a date for example. How can we handle that?"
   ]
  },
  {
   "cell_type": "code",
   "execution_count": 4,
   "metadata": {},
   "outputs": [],
   "source": [
    "p = '''\n",
    "    {\n",
    "        \"time\": \"2018-10-21T09:14:00\",\n",
    "        \"message\": \"created this json string\"\n",
    "    }\n",
    "'''"
   ]
  },
  {
   "cell_type": "code",
   "execution_count": 5,
   "metadata": {},
   "outputs": [
    {
     "data": {
      "text/plain": [
       "{'time': '2018-10-21T09:14:00', 'message': 'created this json string'}"
      ]
     },
     "execution_count": 5,
     "metadata": {},
     "output_type": "execute_result"
    }
   ],
   "source": [
    "json.loads(p)"
   ]
  },
  {
   "cell_type": "markdown",
   "metadata": {},
   "source": [
    "The deserialization worked just fine, but you'll notice that the dictionary entry for `time` contains a string, not a date. "
   ]
  },
  {
   "cell_type": "markdown",
   "metadata": {},
   "source": [
    "This is not a trivial problem, and many 3rd party libraries have been written to deserialize specialized JSON structures into custom Python objects. It basically boils down to having a specific structure (schema) in the JSON and manually loading up some custom (or standard) Python object by specifically looking for certain elements and objects in the JSON object. Remember that JSON only supports a few basic types, so anything beyond that is really a custom **interpretation** of the data in the JSON object."
   ]
  },
  {
   "cell_type": "markdown",
   "metadata": {},
   "source": [
    "For example, suppose we have a JSON object where any object that contains the key/value pair `\"objecttype\": \"datetime\"` is guaranteed to contain another key called `\"value\"` containing a date time in the format %Y-%m-%dT%H:%M:%S. \n",
    "We could easily do the following:"
   ]
  },
  {
   "cell_type": "code",
   "execution_count": 6,
   "metadata": {},
   "outputs": [],
   "source": [
    "p = '''\n",
    "    {\n",
    "        \"time\": {\n",
    "            \"objecttype\": \"datetime\",\n",
    "            \"value\": \"2018-10-21T09:14:15\"\n",
    "            },\n",
    "        \"message\": \"created this json string\"\n",
    "    }\n",
    "'''"
   ]
  },
  {
   "cell_type": "code",
   "execution_count": 7,
   "metadata": {},
   "outputs": [],
   "source": [
    "d = json.loads(p)"
   ]
  },
  {
   "cell_type": "code",
   "execution_count": 8,
   "metadata": {},
   "outputs": [
    {
     "data": {
      "text/plain": [
       "{'time': {'objecttype': 'datetime', 'value': '2018-10-21T09:14:15'},\n",
       " 'message': 'created this json string'}"
      ]
     },
     "execution_count": 8,
     "metadata": {},
     "output_type": "execute_result"
    }
   ],
   "source": [
    "d"
   ]
  },
  {
   "cell_type": "markdown",
   "metadata": {},
   "source": [
    "We could now run through our dictionary (top level only, we'll come back to that), and convert any datetime structures (schema) into actual datetime objects:"
   ]
  },
  {
   "cell_type": "code",
   "execution_count": 9,
   "metadata": {},
   "outputs": [],
   "source": [
    "from datetime import datetime\n",
    "\n",
    "for key, value in d.items():\n",
    "    if (isinstance(value, dict) and \n",
    "        'objecttype' in value and \n",
    "        value['objecttype'] == 'datetime'):\n",
    "        d[key] = datetime.strptime(value['value'], '%Y-%m-%dT%H:%M:%S')"
   ]
  },
  {
   "cell_type": "code",
   "execution_count": 10,
   "metadata": {},
   "outputs": [
    {
     "data": {
      "text/plain": [
       "{'time': datetime.datetime(2018, 10, 21, 9, 14, 15),\n",
       " 'message': 'created this json string'}"
      ]
     },
     "execution_count": 10,
     "metadata": {},
     "output_type": "execute_result"
    }
   ],
   "source": [
    "d"
   ]
  },
  {
   "cell_type": "markdown",
   "metadata": {},
   "source": [
    "As you can see that worked just fine.\n",
    "We can do this with other \"custom\" JSON schemas as well.\n",
    "\n",
    "Let's say we have a JSON schema that will encode fractions using a `fraction` type indicator and associated keys `numerator` and `denominator` with integer values, such as:\n",
    "\n",
    "```\n",
    "\"pieSlice\": {\n",
    "    \"objecttype\": \"fraction\",\n",
    "    \"numerator\": 1,\n",
    "    \"denominator\": 3\n",
    "    }\n",
    "```"
   ]
  },
  {
   "cell_type": "markdown",
   "metadata": {},
   "source": [
    "We can deal with this in the same way as before:"
   ]
  },
  {
   "cell_type": "code",
   "execution_count": 11,
   "metadata": {},
   "outputs": [],
   "source": [
    "j = '''\n",
    "    {\n",
    "        \"cake\": \"yummy chocolate cake\",\n",
    "        \"myShare\": {\n",
    "            \"objecttype\": \"fraction\",\n",
    "            \"numerator\": 1,\n",
    "            \"denominator\": 8\n",
    "        }\n",
    "    }\n",
    "'''"
   ]
  },
  {
   "cell_type": "code",
   "execution_count": 12,
   "metadata": {},
   "outputs": [],
   "source": [
    "d = json.loads(j)"
   ]
  },
  {
   "cell_type": "code",
   "execution_count": 13,
   "metadata": {},
   "outputs": [
    {
     "data": {
      "text/plain": [
       "{'cake': 'yummy chocolate cake',\n",
       " 'myShare': {'objecttype': 'fraction', 'numerator': 1, 'denominator': 8}}"
      ]
     },
     "execution_count": 13,
     "metadata": {},
     "output_type": "execute_result"
    }
   ],
   "source": [
    "d"
   ]
  },
  {
   "cell_type": "code",
   "execution_count": 14,
   "metadata": {},
   "outputs": [],
   "source": [
    "from fractions import Fraction\n",
    "\n",
    "for key, value in d.items():\n",
    "    if (isinstance(value, dict) and\n",
    "        'objecttype' in value and\n",
    "        value['objecttype'] == 'fraction'):\n",
    "        numerator = value['numerator']\n",
    "        denominator = value['denominator']\n",
    "        d[key] = Fraction(numerator, denominator)"
   ]
  },
  {
   "cell_type": "code",
   "execution_count": 15,
   "metadata": {},
   "outputs": [
    {
     "data": {
      "text/plain": [
       "{'cake': 'yummy chocolate cake', 'myShare': Fraction(1, 8)}"
      ]
     },
     "execution_count": 15,
     "metadata": {},
     "output_type": "execute_result"
    }
   ],
   "source": [
    "d"
   ]
  },
  {
   "cell_type": "markdown",
   "metadata": {},
   "source": [
    "We can extend this to even custom objects as long as they follow a specific structure (schema). We could put all this code into a function, even one that can handle multiple types and clean it up quite a bit.\n",
    "But..."
   ]
  },
  {
   "cell_type": "markdown",
   "metadata": {},
   "source": [
    "A few things:\n",
    "1. It's a real pain having to go through the dictionary after the fact and convert the objects\n",
    "2. Our conversion code only considered top-level objects - what if they are nested deeper in the JSON object - we would need to deal with that possibility.\n",
    "\n",
    "There has to be a better way!"
   ]
  },
  {
   "cell_type": "raw",
   "metadata": {},
   "source": [
    "And indeed, there is - but all in all it's still relatively clunky in some respects.\n",
    "\n",
    "Let's look at the `load`/`loads` functions first. They have an optional argument named `object_hook` that can reference a callable. This is very similar to the `default` argument we saw in the `dump`/`dumps` functions - but works for decoding instead of encoding. That callable, if specified, will be called for every value in the JSON object that is itself an object (including the root object). That dictionary will then be replaced by whatever that decoder returns.\n",
    "\n",
    "Let's first write a dummy decoder, just to see how and when it gets called:"
   ]
  },
  {
   "cell_type": "code",
   "execution_count": 16,
   "metadata": {},
   "outputs": [],
   "source": [
    "def custom_decoder(arg):\n",
    "    print('decoding: ', arg)\n",
    "    return arg"
   ]
  },
  {
   "cell_type": "code",
   "execution_count": 17,
   "metadata": {},
   "outputs": [],
   "source": [
    "j = '''\n",
    "    {\n",
    "        \"a\": 1,\n",
    "        \"b\": 2, \n",
    "        \"c\": {\n",
    "            \"c.1\": 1,\n",
    "            \"c.2\": 2,\n",
    "            \"c.3\": {\n",
    "                \"c.3.1\": 1,\n",
    "                \"c.3.2\": 2\n",
    "            }\n",
    "        }\n",
    "    }\n",
    "'''"
   ]
  },
  {
   "cell_type": "code",
   "execution_count": 18,
   "metadata": {},
   "outputs": [
    {
     "name": "stdout",
     "output_type": "stream",
     "text": [
      "decoding:  {'c.3.1': 1, 'c.3.2': 2}\n",
      "decoding:  {'c.1': 1, 'c.2': 2, 'c.3': {'c.3.1': 1, 'c.3.2': 2}}\n",
      "decoding:  {'a': 1, 'b': 2, 'c': {'c.1': 1, 'c.2': 2, 'c.3': {'c.3.1': 1, 'c.3.2': 2}}}\n"
     ]
    }
   ],
   "source": [
    "d = json.loads(j, object_hook=custom_decoder)"
   ]
  },
  {
   "cell_type": "markdown",
   "metadata": {},
   "source": [
    "As you can see it called our decoder three times, the value for the key `c.3`, the value for the key `c` and the root object itself."
   ]
  },
  {
   "cell_type": "markdown",
   "metadata": {},
   "source": [
    "Now, let's write a decoder that will handle the datetime JSON we worked with earlier:"
   ]
  },
  {
   "cell_type": "code",
   "execution_count": 19,
   "metadata": {},
   "outputs": [],
   "source": [
    "j = '''\n",
    "    {\n",
    "        \"time\": {\n",
    "            \"objecttype\": \"datetime\",\n",
    "            \"value\": \"2018-10-21T09:14:15\"\n",
    "            },\n",
    "        \"message\": \"created this json string\"\n",
    "    }\n",
    "'''"
   ]
  },
  {
   "cell_type": "code",
   "execution_count": 20,
   "metadata": {},
   "outputs": [],
   "source": [
    "def custom_decoder(arg):\n",
    "    if 'objecttype' in arg and arg['objecttype'] == 'datetime':\n",
    "        return datetime.strptime(arg['value'], '%Y-%m-%dT%H:%M:%S')\n",
    "    else:\n",
    "        return arg  # important, otherwise we lose anything that's not a date!"
   ]
  },
  {
   "cell_type": "markdown",
   "metadata": {},
   "source": [
    "Let's just see how it works as a plain function first:"
   ]
  },
  {
   "cell_type": "code",
   "execution_count": 21,
   "metadata": {},
   "outputs": [
    {
     "data": {
      "text/plain": [
       "datetime.datetime(2018, 10, 21, 9, 14, 15)"
      ]
     },
     "execution_count": 21,
     "metadata": {},
     "output_type": "execute_result"
    }
   ],
   "source": [
    "custom_decoder(dict(objecttype='datetime', value='2018-10-21T09:14:15'))"
   ]
  },
  {
   "cell_type": "code",
   "execution_count": 22,
   "metadata": {},
   "outputs": [
    {
     "data": {
      "text/plain": [
       "{'a': 1}"
      ]
     },
     "execution_count": 22,
     "metadata": {},
     "output_type": "execute_result"
    }
   ],
   "source": [
    "custom_decoder((dict(a=1)))"
   ]
  },
  {
   "cell_type": "code",
   "execution_count": 23,
   "metadata": {},
   "outputs": [],
   "source": [
    "d = json.loads(j, object_hook=custom_decoder)"
   ]
  },
  {
   "cell_type": "code",
   "execution_count": 24,
   "metadata": {},
   "outputs": [
    {
     "data": {
      "text/plain": [
       "{'time': datetime.datetime(2018, 10, 21, 9, 14, 15),\n",
       " 'message': 'created this json string'}"
      ]
     },
     "execution_count": 24,
     "metadata": {},
     "output_type": "execute_result"
    }
   ],
   "source": [
    "d"
   ]
  },
  {
   "cell_type": "markdown",
   "metadata": {},
   "source": [
    "The nice thing about this approach, is our code is simpler, and this works for nested items too:"
   ]
  },
  {
   "cell_type": "code",
   "execution_count": 25,
   "metadata": {},
   "outputs": [],
   "source": [
    "j = '''\n",
    "    {\n",
    "        \"times\": {\n",
    "            \"created\": {\n",
    "                \"objecttype\": \"datetime\",\n",
    "                \"value\": \"2018-10-21T09:14:15\"\n",
    "                },\n",
    "            \"updated\": {\n",
    "                \"objecttype\": \"datetime\",\n",
    "                \"value\": \"2018-10-22T10:00:05\"\n",
    "                }\n",
    "            },\n",
    "        \"message\": \"log message here...\"\n",
    "    }\n",
    "'''"
   ]
  },
  {
   "cell_type": "code",
   "execution_count": 26,
   "metadata": {},
   "outputs": [],
   "source": [
    "d = json.loads(j, object_hook=custom_decoder)"
   ]
  },
  {
   "cell_type": "code",
   "execution_count": 27,
   "metadata": {},
   "outputs": [
    {
     "data": {
      "text/plain": [
       "{'times': {'created': datetime.datetime(2018, 10, 21, 9, 14, 15),\n",
       "  'updated': datetime.datetime(2018, 10, 22, 10, 0, 5)},\n",
       " 'message': 'log message here...'}"
      ]
     },
     "execution_count": 27,
     "metadata": {},
     "output_type": "execute_result"
    }
   ],
   "source": [
    "d"
   ]
  },
  {
   "cell_type": "markdown",
   "metadata": {},
   "source": [
    "We can also extend this custom decoder to include other structures (schemas). Let's add in our fraction decoder:"
   ]
  },
  {
   "cell_type": "code",
   "execution_count": 28,
   "metadata": {},
   "outputs": [],
   "source": [
    "def custom_decoder(arg):\n",
    "    ret_value = arg\n",
    "    if 'objecttype' in arg:\n",
    "        if arg['objecttype'] == 'datetime':\n",
    "            ret_value = datetime.strptime(arg['value'], '%Y-%m-%dT%H:%M:%S')\n",
    "        elif arg['objecttype'] == 'fraction':\n",
    "            ret_value = Fraction(arg['numerator'], arg['denominator'])\n",
    "    return ret_value"
   ]
  },
  {
   "cell_type": "code",
   "execution_count": 29,
   "metadata": {},
   "outputs": [],
   "source": [
    "j = '''\n",
    "    {\n",
    "        \"cake\": \"yummy chocolate cake\",\n",
    "        \"myShare\": {\n",
    "            \"objecttype\": \"fraction\",\n",
    "            \"numerator\": 1,\n",
    "            \"denominator\": 8\n",
    "        },\n",
    "        \"eaten\": {\n",
    "            \"at\": {\n",
    "                \"objecttype\": \"datetime\",\n",
    "                \"value\": \"2018-10-21T21:30:00\"\n",
    "                },\n",
    "            \"time_taken\": \"30 seconds\"\n",
    "        }\n",
    "    }\n",
    "'''"
   ]
  },
  {
   "cell_type": "code",
   "execution_count": 30,
   "metadata": {},
   "outputs": [],
   "source": [
    "d = json.loads(j, object_hook=custom_decoder)"
   ]
  },
  {
   "cell_type": "code",
   "execution_count": 31,
   "metadata": {},
   "outputs": [
    {
     "name": "stdout",
     "output_type": "stream",
     "text": [
      "{'cake': 'yummy chocolate cake', 'myShare': Fraction(1, 8), 'eaten': {'at': datetime.datetime(2018, 10, 21, 21, 30), 'time_taken': '30 seconds'}}\n"
     ]
    }
   ],
   "source": [
    "print(d)"
   ]
  },
  {
   "cell_type": "markdown",
   "metadata": {},
   "source": [
    "We can't really use a generic single dispatch approach we took with the encoder though - the decoder always receives a dictionary, so we can't build it that way.\n",
    "\n",
    "We still have the issue of custom objects and classes - how do we handle those?\n",
    "\n",
    "Well, in pretty much the same way as before - the content of the JSON has to indicate that the object is of a certain \"type\", and we can then decode it ourselves.\n",
    "\n",
    "Let's see a simple example:"
   ]
  },
  {
   "cell_type": "code",
   "execution_count": 32,
   "metadata": {},
   "outputs": [],
   "source": [
    "class Person:\n",
    "    def __init__(self, name, ssn):\n",
    "        self.name = name\n",
    "        self.ssn = ssn\n",
    "        \n",
    "    def __repr__(self):\n",
    "        return f'Person(name={self.name}, ssn={self.ssn})'"
   ]
  },
  {
   "cell_type": "code",
   "execution_count": 33,
   "metadata": {},
   "outputs": [],
   "source": [
    "j = '''\n",
    "    {\n",
    "        \"accountHolder\": {\n",
    "            \"objecttype\": \"person\",\n",
    "            \"name\": \"Eric Idle\",\n",
    "            \"ssn\": 100\n",
    "        },\n",
    "        \"created\": {\n",
    "            \"objecttype\": \"datetime\",\n",
    "            \"value\": \"2018-10-21T03:00:00\"\n",
    "        }\n",
    "    }\n",
    "'''"
   ]
  },
  {
   "cell_type": "code",
   "execution_count": 34,
   "metadata": {},
   "outputs": [],
   "source": [
    "def custom_decoder(arg):\n",
    "    ret_value = arg\n",
    "    if 'objecttype' in arg:\n",
    "        if arg['objecttype'] == 'datetime':\n",
    "            ret_value = datetime.strptime(arg['value'], '%Y-%m-%dT%H:%M:%S')\n",
    "        elif arg['objecttype'] == 'fraction':\n",
    "            ret_value = Fraction(arg['numerator'], arg['denominator'])\n",
    "        elif arg['objecttype'] == 'person':\n",
    "            ret_value = Person(arg['name'], arg['ssn'])\n",
    "    return ret_value"
   ]
  },
  {
   "cell_type": "code",
   "execution_count": 35,
   "metadata": {},
   "outputs": [],
   "source": [
    "d = json.loads(j, object_hook=custom_decoder)"
   ]
  },
  {
   "cell_type": "code",
   "execution_count": 36,
   "metadata": {},
   "outputs": [
    {
     "data": {
      "text/plain": [
       "{'accountHolder': Person(name=Eric Idle, ssn=100),\n",
       " 'created': datetime.datetime(2018, 10, 21, 3, 0)}"
      ]
     },
     "execution_count": 36,
     "metadata": {},
     "output_type": "execute_result"
    }
   ],
   "source": [
    "d"
   ]
  },
  {
   "cell_type": "markdown",
   "metadata": {},
   "source": [
    "We could also provide our custom JSON encoder in the person class to serialize that class in the way we expect when deserializing, as we saw in an earlier video:"
   ]
  },
  {
   "cell_type": "code",
   "execution_count": 37,
   "metadata": {},
   "outputs": [],
   "source": [
    "class Person:\n",
    "    def __init__(self, name, ssn):\n",
    "        self.name = name\n",
    "        self.ssn = ssn\n",
    "        \n",
    "    def __repr__(self):\n",
    "        return f'Person(name={self.name}, ssn={self.ssn})'\n",
    "    \n",
    "    def toJSON(self):\n",
    "        return dict(objecttype='person', name=self.name, ssn=self.ssn)"
   ]
  },
  {
   "cell_type": "markdown",
   "metadata": {},
   "source": [
    "We can then encode using the techniques we have seen before, and decode using the technique we learned in this video."
   ]
  },
  {
   "cell_type": "markdown",
   "metadata": {
    "collapsed": true
   },
   "source": [
    "There are also a few customized hooks for integers, floats and certain special strings (`-Infinity`, `Infinity` and `NaN`).\n",
    "\n",
    "For example, we may want to encode floats using a Decimal instead of the standard float.\n",
    "\n",
    "We could do this by using the `parse_float` argument as follows:"
   ]
  },
  {
   "cell_type": "code",
   "execution_count": 38,
   "metadata": {},
   "outputs": [],
   "source": [
    "from decimal import Decimal\n",
    "def make_decimal(arg):\n",
    "    print('Received:', type(arg), arg)\n",
    "    return Decimal(arg)"
   ]
  },
  {
   "cell_type": "code",
   "execution_count": 39,
   "metadata": {},
   "outputs": [],
   "source": [
    "j = '''\n",
    "    {\n",
    "        \"a\": 100,\n",
    "        \"b\": 0.2,\n",
    "        \"c\": 0.5\n",
    "    }\n",
    "'''"
   ]
  },
  {
   "cell_type": "code",
   "execution_count": 40,
   "metadata": {},
   "outputs": [
    {
     "name": "stdout",
     "output_type": "stream",
     "text": [
      "Received: <class 'str'> 0.2\n",
      "Received: <class 'str'> 0.5\n"
     ]
    }
   ],
   "source": [
    "d = json.loads(j, parse_float=make_decimal)"
   ]
  },
  {
   "cell_type": "code",
   "execution_count": 41,
   "metadata": {},
   "outputs": [
    {
     "data": {
      "text/plain": [
       "{'a': 100, 'b': Decimal('0.2'), 'c': Decimal('0.5')}"
      ]
     },
     "execution_count": 41,
     "metadata": {},
     "output_type": "execute_result"
    }
   ],
   "source": [
    "d"
   ]
  },
  {
   "cell_type": "markdown",
   "metadata": {},
   "source": [
    "As you can see we have decimals in our dictionary, instead of floats. Note also that the argument we receive is a string - it would make little sense for us to receive a float since our function is the one that wants to specifically handle converting a JSON string to some particular type.\n",
    "\n",
    "We can also intercept handling of integers and those constant values I mentioned."
   ]
  },
  {
   "cell_type": "code",
   "execution_count": 42,
   "metadata": {},
   "outputs": [],
   "source": [
    "j = '''\n",
    "    {\n",
    "        \"a\": 100,\n",
    "        \"b\": Infinity\n",
    "    }\n",
    "'''"
   ]
  },
  {
   "cell_type": "code",
   "execution_count": 43,
   "metadata": {},
   "outputs": [
    {
     "data": {
      "text/plain": [
       "{'a': 100, 'b': inf}"
      ]
     },
     "execution_count": 43,
     "metadata": {},
     "output_type": "execute_result"
    }
   ],
   "source": [
    "json.loads(j)"
   ]
  },
  {
   "cell_type": "code",
   "execution_count": 44,
   "metadata": {},
   "outputs": [],
   "source": [
    "def make_int_binary(arg):\n",
    "    print('Received:', type(arg), arg)\n",
    "    return bin(int(arg))"
   ]
  },
  {
   "cell_type": "code",
   "execution_count": 45,
   "metadata": {},
   "outputs": [],
   "source": [
    "def make_const_none(arg):\n",
    "    print('Received:', type(arg), arg)\n",
    "    return None"
   ]
  },
  {
   "cell_type": "code",
   "execution_count": 46,
   "metadata": {},
   "outputs": [
    {
     "name": "stdout",
     "output_type": "stream",
     "text": [
      "Received: <class 'str'> 100\n",
      "Received: <class 'str'> Infinity\n"
     ]
    },
    {
     "data": {
      "text/plain": [
       "{'a': '0b1100100', 'b': None}"
      ]
     },
     "execution_count": 46,
     "metadata": {},
     "output_type": "execute_result"
    }
   ],
   "source": [
    "json.loads(j, \n",
    "           parse_int=make_int_binary, \n",
    "           parse_constant=make_const_none)"
   ]
  },
  {
   "cell_type": "markdown",
   "metadata": {},
   "source": [
    "Again note that in all cases, the received argument is the **string** read from the json string."
   ]
  },
  {
   "cell_type": "markdown",
   "metadata": {},
   "source": [
    "Finally we have the `object_pairs_hook` argument. It works similarly to the `object_hook` with two differences:\n",
    "1. the argument is a `list` of 2-tuples - the first value is the key, the second is the value\n",
    "2. the list is ordered in the same order as the keys in the json document.\n",
    "\n",
    "Remember that the dictionary is not **guaranteed** to be ordered in the same order as the keys in the json document - given Python 3.6+ has guaranteed dictionary order, this is likely to be true, but the documents do not mention this specifically, so at this point it should be considered an implementation detail and not relied on - if you **must** have gauranteed key order, then you will have to use the `object_pairs_hook`.\n",
    "\n",
    "Also, you should not specify both `object_hook` and `object_pairs_hook` - if you do, then the `object_pairs_hook` will be used and `object_hook` will be ignored."
   ]
  },
  {
   "cell_type": "code",
   "execution_count": 47,
   "metadata": {},
   "outputs": [],
   "source": [
    "j = '''\n",
    "    {\n",
    "        \"a\": [1, 2, 3, 4, 5],\n",
    "        \"b\": 100,\n",
    "        \"c\": 10.5,\n",
    "        \"d\": NaN,\n",
    "        \"e\": null,\n",
    "        \"f\": \"python\"\n",
    "    }\n",
    "'''"
   ]
  },
  {
   "cell_type": "code",
   "execution_count": 48,
   "metadata": {},
   "outputs": [],
   "source": [
    "def float_handler(arg):\n",
    "    print('float handler', type(arg), arg)\n",
    "    return float(arg)"
   ]
  },
  {
   "cell_type": "code",
   "execution_count": 49,
   "metadata": {},
   "outputs": [],
   "source": [
    "def int_handler(arg):\n",
    "    print('int handler', type(arg), arg)\n",
    "    return int(arg)"
   ]
  },
  {
   "cell_type": "code",
   "execution_count": 50,
   "metadata": {},
   "outputs": [],
   "source": [
    "def const_handler(arg):\n",
    "    print('const handler', type(arg), arg)\n",
    "    return None"
   ]
  },
  {
   "cell_type": "code",
   "execution_count": 51,
   "metadata": {},
   "outputs": [],
   "source": [
    "def obj_hook(arg):\n",
    "    print('obj hook', type(arg), arg)\n",
    "    return arg"
   ]
  },
  {
   "cell_type": "code",
   "execution_count": 52,
   "metadata": {},
   "outputs": [],
   "source": [
    "def obj_pairs_hook(arg):\n",
    "    print('obj pairs hook', type(arg), arg)\n",
    "    return arg"
   ]
  },
  {
   "cell_type": "code",
   "execution_count": 53,
   "metadata": {},
   "outputs": [
    {
     "data": {
      "text/plain": [
       "{'a': [1, 2, 3, 4, 5], 'b': 100, 'c': 10.5, 'd': nan, 'e': None, 'f': 'python'}"
      ]
     },
     "execution_count": 53,
     "metadata": {},
     "output_type": "execute_result"
    }
   ],
   "source": [
    "json.loads(j)"
   ]
  },
  {
   "cell_type": "code",
   "execution_count": 54,
   "metadata": {},
   "outputs": [
    {
     "name": "stdout",
     "output_type": "stream",
     "text": [
      "int handler <class 'str'> 1\n",
      "int handler <class 'str'> 2\n",
      "int handler <class 'str'> 3\n",
      "int handler <class 'str'> 4\n",
      "int handler <class 'str'> 5\n",
      "int handler <class 'str'> 100\n",
      "float handler <class 'str'> 10.5\n",
      "const handler <class 'str'> NaN\n",
      "obj hook <class 'dict'> {'a': [1, 2, 3, 4, 5], 'b': 100, 'c': 10.5, 'd': None, 'e': None, 'f': 'python'}\n"
     ]
    },
    {
     "data": {
      "text/plain": [
       "{'a': [1, 2, 3, 4, 5],\n",
       " 'b': 100,\n",
       " 'c': 10.5,\n",
       " 'd': None,\n",
       " 'e': None,\n",
       " 'f': 'python'}"
      ]
     },
     "execution_count": 54,
     "metadata": {},
     "output_type": "execute_result"
    }
   ],
   "source": [
    "json.loads(j, \n",
    "           object_hook=obj_hook,\n",
    "           parse_float=float_handler,\n",
    "           parse_int=int_handler,\n",
    "           parse_constant=const_handler\n",
    "          )"
   ]
  },
  {
   "cell_type": "code",
   "execution_count": 55,
   "metadata": {},
   "outputs": [
    {
     "name": "stdout",
     "output_type": "stream",
     "text": [
      "int handler <class 'str'> 1\n",
      "int handler <class 'str'> 2\n",
      "int handler <class 'str'> 3\n",
      "int handler <class 'str'> 4\n",
      "int handler <class 'str'> 5\n",
      "int handler <class 'str'> 100\n",
      "float handler <class 'str'> 10.5\n",
      "const handler <class 'str'> NaN\n",
      "obj pairs hook <class 'list'> [('a', [1, 2, 3, 4, 5]), ('b', 100), ('c', 10.5), ('d', None), ('e', None), ('f', 'python')]\n"
     ]
    },
    {
     "data": {
      "text/plain": [
       "[('a', [1, 2, 3, 4, 5]),\n",
       " ('b', 100),\n",
       " ('c', 10.5),\n",
       " ('d', None),\n",
       " ('e', None),\n",
       " ('f', 'python')]"
      ]
     },
     "execution_count": 55,
     "metadata": {},
     "output_type": "execute_result"
    }
   ],
   "source": [
    "json.loads(j, \n",
    "           object_pairs_hook=obj_pairs_hook,\n",
    "           parse_float=float_handler,\n",
    "           parse_int=int_handler,\n",
    "           parse_constant=const_handler\n",
    "          )"
   ]
  },
  {
   "cell_type": "markdown",
   "metadata": {},
   "source": [
    "And if we specify both object hooks, then `object_hook` is basically ignored:"
   ]
  },
  {
   "cell_type": "code",
   "execution_count": 56,
   "metadata": {},
   "outputs": [
    {
     "name": "stdout",
     "output_type": "stream",
     "text": [
      "int handler <class 'str'> 1\n",
      "int handler <class 'str'> 2\n",
      "int handler <class 'str'> 3\n",
      "int handler <class 'str'> 4\n",
      "int handler <class 'str'> 5\n",
      "int handler <class 'str'> 100\n",
      "float handler <class 'str'> 10.5\n",
      "const handler <class 'str'> NaN\n",
      "obj pairs hook <class 'list'> [('a', [1, 2, 3, 4, 5]), ('b', 100), ('c', 10.5), ('d', None), ('e', None), ('f', 'python')]\n"
     ]
    },
    {
     "data": {
      "text/plain": [
       "[('a', [1, 2, 3, 4, 5]),\n",
       " ('b', 100),\n",
       " ('c', 10.5),\n",
       " ('d', None),\n",
       " ('e', None),\n",
       " ('f', 'python')]"
      ]
     },
     "execution_count": 56,
     "metadata": {},
     "output_type": "execute_result"
    }
   ],
   "source": [
    "json.loads(j, \n",
    "           object_hook=obj_hook,\n",
    "           object_pairs_hook=obj_pairs_hook,\n",
    "           parse_float=float_handler,\n",
    "           parse_int=int_handler,\n",
    "           parse_constant=const_handler\n",
    "          )"
   ]
  },
  {
   "cell_type": "markdown",
   "metadata": {},
   "source": [
    "As we saw in the decoding videos, we can also subclass the `JSONDecoder` class (just like we subclassed the `JSONEncoder` - we'll look at this next."
   ]
  }
 ],
 "metadata": {
  "kernelspec": {
   "display_name": "Python 3",
   "language": "python",
   "name": "python3"
  },
  "language_info": {
   "codemirror_mode": {
    "name": "ipython",
    "version": 3
   },
   "file_extension": ".py",
   "mimetype": "text/x-python",
   "name": "python",
   "nbconvert_exporter": "python",
   "pygments_lexer": "ipython3",
   "version": "3.6.7"
  }
 },
 "nbformat": 4,
 "nbformat_minor": 2
}
