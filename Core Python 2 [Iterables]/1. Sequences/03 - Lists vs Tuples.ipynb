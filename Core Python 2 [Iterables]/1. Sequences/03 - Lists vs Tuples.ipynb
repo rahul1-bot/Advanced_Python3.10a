{
 "cells": [
  {
   "cell_type": "markdown",
   "metadata": {},
   "source": [
    "### Lists vs Tuples"
   ]
  },
  {
   "cell_type": "markdown",
   "metadata": {},
   "source": [
    "Remember that both lists and tuples are considered **sequence** types.\n",
    "\n",
    "Remember also that we should consider tuples as data structures (position has meaning) as we saw in an earlier section on named tuples.\n",
    "\n",
    "However, in this context we are going to view tuples as \"immutable lists\"."
   ]
  },
  {
   "cell_type": "markdown",
   "metadata": {},
   "source": [
    "Generally, tuples are more efficient that lists, so, unless you need mutability of the container, prefer using a tuple over a list."
   ]
  },
  {
   "cell_type": "markdown",
   "metadata": {},
   "source": [
    "#### Creating Tuples"
   ]
  },
  {
   "cell_type": "markdown",
   "metadata": {},
   "source": [
    "We saw some of this already in the first section of this course when we looked at some of the optimizations Python implements, but let's revisit it in this context."
   ]
  },
  {
   "cell_type": "markdown",
   "metadata": {},
   "source": [
    "Here is Wikipedia's definition of constant folding:\n",
    "\n",
    "`\n",
    "Constant folding is the process of recognizing and evaluating constant expressions at compile time rather than computing them at runtime.\n",
    "`"
   ]
  },
  {
   "cell_type": "markdown",
   "metadata": {},
   "source": [
    "To see how this works, we are going to use the `dis` module which allows to see the disassembled Python bytecode - not for the faint of heart, but can be really useful!"
   ]
  },
  {
   "cell_type": "code",
   "execution_count": 1,
   "metadata": {
    "collapsed": true
   },
   "outputs": [],
   "source": [
    "from dis import dis"
   ]
  },
  {
   "cell_type": "markdown",
   "metadata": {},
   "source": [
    "We want to understand what Python does when it compiles statements such as:"
   ]
  },
  {
   "cell_type": "code",
   "execution_count": 2,
   "metadata": {},
   "outputs": [
    {
     "data": {
      "text/plain": [
       "[1, 2, 3]"
      ]
     },
     "execution_count": 2,
     "metadata": {},
     "output_type": "execute_result"
    }
   ],
   "source": [
    "(1, 2, 3)\n",
    "[1, 2, 3]"
   ]
  },
  {
   "cell_type": "code",
   "execution_count": 3,
   "metadata": {},
   "outputs": [
    {
     "name": "stdout",
     "output_type": "stream",
     "text": [
      "  1           0 LOAD_CONST               4 ((1, 2, 3, 'a'))\n",
      "              2 RETURN_VALUE\n"
     ]
    }
   ],
   "source": [
    "dis(compile('(1,2,3, \"a\")', 'string', 'eval'))"
   ]
  },
  {
   "cell_type": "code",
   "execution_count": 4,
   "metadata": {},
   "outputs": [
    {
     "name": "stdout",
     "output_type": "stream",
     "text": [
      "  1           0 LOAD_CONST               0 (1)\n",
      "              2 LOAD_CONST               1 (2)\n",
      "              4 LOAD_CONST               2 (3)\n",
      "              6 LOAD_CONST               3 ('a')\n",
      "              8 BUILD_LIST               4\n",
      "             10 RETURN_VALUE\n"
     ]
    }
   ],
   "source": [
    "dis(compile('[1,2,3, \"a\"]', 'string', 'eval'))"
   ]
  },
  {
   "cell_type": "markdown",
   "metadata": {},
   "source": [
    "Notice how for a tuple containing constants (such as ints and strings in this case), the values are loaded in one step, a single constant value essentially. \n",
    "\n",
    "Lists, on the other hand are built-up one element at a time."
   ]
  },
  {
   "cell_type": "markdown",
   "metadata": {},
   "source": [
    "So, that's one reason why tuples can \"load\" faster than a list."
   ]
  },
  {
   "cell_type": "markdown",
   "metadata": {},
   "source": [
    "In fact, we can easily time this:"
   ]
  },
  {
   "cell_type": "code",
   "execution_count": 5,
   "metadata": {
    "collapsed": true
   },
   "outputs": [],
   "source": [
    "from timeit import timeit"
   ]
  },
  {
   "cell_type": "code",
   "execution_count": 6,
   "metadata": {},
   "outputs": [
    {
     "data": {
      "text/plain": [
       "0.10997921960979677"
      ]
     },
     "execution_count": 6,
     "metadata": {},
     "output_type": "execute_result"
    }
   ],
   "source": [
    "timeit(\"(1,2,3,4,5,6,7,8,9)\", number=10_000_000)"
   ]
  },
  {
   "cell_type": "code",
   "execution_count": 7,
   "metadata": {},
   "outputs": [
    {
     "data": {
      "text/plain": [
       "0.8128158471672868"
      ]
     },
     "execution_count": 7,
     "metadata": {},
     "output_type": "execute_result"
    }
   ],
   "source": [
    "timeit(\"[1,2,3,4,5,6,7,8,9]\", number=10_000_000)"
   ]
  },
  {
   "cell_type": "markdown",
   "metadata": {},
   "source": [
    "As you can see creating a tuple was faster."
   ]
  },
  {
   "cell_type": "markdown",
   "metadata": {},
   "source": [
    "Now this changes if the tuple elements are not constants, such as lists or functions for example"
   ]
  },
  {
   "cell_type": "code",
   "execution_count": 8,
   "metadata": {
    "collapsed": true
   },
   "outputs": [],
   "source": [
    "def fn1():\n",
    "    pass"
   ]
  },
  {
   "cell_type": "code",
   "execution_count": 9,
   "metadata": {},
   "outputs": [
    {
     "name": "stdout",
     "output_type": "stream",
     "text": [
      "  1           0 LOAD_NAME                0 (fn1)\n",
      "              2 LOAD_CONST               0 (10)\n",
      "              4 LOAD_CONST               1 (20)\n",
      "              6 BUILD_TUPLE              3\n",
      "              8 RETURN_VALUE\n"
     ]
    }
   ],
   "source": [
    "dis(compile('(fn1, 10, 20)', 'string', 'eval'))"
   ]
  },
  {
   "cell_type": "code",
   "execution_count": 10,
   "metadata": {},
   "outputs": [
    {
     "name": "stdout",
     "output_type": "stream",
     "text": [
      "  1           0 LOAD_NAME                0 (fn1)\n",
      "              2 LOAD_CONST               0 (10)\n",
      "              4 LOAD_CONST               1 (20)\n",
      "              6 BUILD_LIST               3\n",
      "              8 RETURN_VALUE\n"
     ]
    }
   ],
   "source": [
    "dis(compile('[fn1, 10, 20]', 'string', 'eval'))"
   ]
  },
  {
   "cell_type": "markdown",
   "metadata": {},
   "source": [
    "or"
   ]
  },
  {
   "cell_type": "code",
   "execution_count": 11,
   "metadata": {},
   "outputs": [
    {
     "name": "stdout",
     "output_type": "stream",
     "text": [
      "  1           0 LOAD_CONST               0 (1)\n",
      "              2 LOAD_CONST               1 (2)\n",
      "              4 BUILD_LIST               2\n",
      "              6 LOAD_CONST               2 (10)\n",
      "              8 LOAD_CONST               3 (20)\n",
      "             10 BUILD_TUPLE              3\n",
      "             12 RETURN_VALUE\n"
     ]
    }
   ],
   "source": [
    "dis(compile('([1,2], 10, 20)', 'string', 'eval'))"
   ]
  },
  {
   "cell_type": "code",
   "execution_count": 12,
   "metadata": {},
   "outputs": [
    {
     "name": "stdout",
     "output_type": "stream",
     "text": [
      "  1           0 LOAD_CONST               0 (1)\n",
      "              2 LOAD_CONST               1 (2)\n",
      "              4 BUILD_LIST               2\n",
      "              6 LOAD_CONST               2 (10)\n",
      "              8 LOAD_CONST               3 (20)\n",
      "             10 BUILD_LIST               3\n",
      "             12 RETURN_VALUE\n"
     ]
    }
   ],
   "source": [
    "dis(compile('[[1,2], 10, 20]', 'string', 'eval'))"
   ]
  },
  {
   "cell_type": "markdown",
   "metadata": {},
   "source": [
    "And of course this is reflected in the timings too:"
   ]
  },
  {
   "cell_type": "code",
   "execution_count": 13,
   "metadata": {},
   "outputs": [
    {
     "data": {
      "text/plain": [
       "0.0702705514158215"
      ]
     },
     "execution_count": 13,
     "metadata": {},
     "output_type": "execute_result"
    }
   ],
   "source": [
    "timeit(\"([1, 2], 10, 20)\", number=1_000_000)"
   ]
  },
  {
   "cell_type": "code",
   "execution_count": 14,
   "metadata": {},
   "outputs": [
    {
     "data": {
      "text/plain": [
       "0.06704527015184514"
      ]
     },
     "execution_count": 14,
     "metadata": {},
     "output_type": "execute_result"
    }
   ],
   "source": [
    "timeit(\"[[1, 2], 10, 20]\", number=1_000_000)"
   ]
  },
  {
   "cell_type": "markdown",
   "metadata": {},
   "source": [
    "#### Copying Lists and Tuples"
   ]
  },
  {
   "cell_type": "markdown",
   "metadata": {},
   "source": [
    "Let's look at creating a copy of both a list and a tuple:"
   ]
  },
  {
   "cell_type": "code",
   "execution_count": 15,
   "metadata": {
    "collapsed": true
   },
   "outputs": [],
   "source": [
    "l1 = [1, 2, 3, 4, 5, 6, 7, 8, 9]\n",
    "t1 = (1, 2, 3, 4, 5, 6, 7, 8, 9)"
   ]
  },
  {
   "cell_type": "code",
   "execution_count": 16,
   "metadata": {},
   "outputs": [
    {
     "data": {
      "text/plain": [
       "(1636690847432, 1636690312912)"
      ]
     },
     "execution_count": 16,
     "metadata": {},
     "output_type": "execute_result"
    }
   ],
   "source": [
    "id(l1), id(t1)"
   ]
  },
  {
   "cell_type": "code",
   "execution_count": 17,
   "metadata": {
    "collapsed": true
   },
   "outputs": [],
   "source": [
    "l2 = list(l1)\n",
    "t2 = tuple(t1)"
   ]
  },
  {
   "cell_type": "markdown",
   "metadata": {},
   "source": [
    "Let's time this:"
   ]
  },
  {
   "cell_type": "code",
   "execution_count": 18,
   "metadata": {},
   "outputs": [
    {
     "data": {
      "text/plain": [
       "0.1410398213607027"
      ]
     },
     "execution_count": 18,
     "metadata": {},
     "output_type": "execute_result"
    }
   ],
   "source": [
    "timeit('tuple((1,2,3,4,5,6,7,8,9))', number=1_000_000)"
   ]
  },
  {
   "cell_type": "code",
   "execution_count": 19,
   "metadata": {},
   "outputs": [
    {
     "data": {
      "text/plain": [
       "0.2807509005242097"
      ]
     },
     "execution_count": 19,
     "metadata": {},
     "output_type": "execute_result"
    }
   ],
   "source": [
    "timeit('list([1,2,3,4,5,6,7,8,9])', number=1_000_000)"
   ]
  },
  {
   "cell_type": "markdown",
   "metadata": {},
   "source": [
    "That's another win for tuples. But why?"
   ]
  },
  {
   "cell_type": "markdown",
   "metadata": {},
   "source": [
    "Let's look at the id's of the copies:"
   ]
  },
  {
   "cell_type": "code",
   "execution_count": 20,
   "metadata": {},
   "outputs": [
    {
     "data": {
      "text/plain": [
       "(1636690847432, 1636690849096, 1636690312912, 1636690312912)"
      ]
     },
     "execution_count": 20,
     "metadata": {},
     "output_type": "execute_result"
    }
   ],
   "source": [
    "id(l1), id(l2), id(t1), id(t2)"
   ]
  },
  {
   "cell_type": "markdown",
   "metadata": {},
   "source": [
    "in other words:"
   ]
  },
  {
   "cell_type": "code",
   "execution_count": 21,
   "metadata": {},
   "outputs": [
    {
     "data": {
      "text/plain": [
       "(False, True)"
      ]
     },
     "execution_count": 21,
     "metadata": {},
     "output_type": "execute_result"
    }
   ],
   "source": [
    "l1 is l2, t1 is t2"
   ]
  },
  {
   "cell_type": "markdown",
   "metadata": {},
   "source": [
    "Notice how the `l1` and `l2` are **not** the same objects, whereas as `t1` and `t2` are!\n",
    "\n",
    "So for lists, the elements had to be copied (shallow copy, more on this later), but for tuples it did not."
   ]
  },
  {
   "cell_type": "markdown",
   "metadata": {},
   "source": [
    "Note that this is the case even if the tuple contains non constant elements:"
   ]
  },
  {
   "cell_type": "code",
   "execution_count": 22,
   "metadata": {},
   "outputs": [
    {
     "data": {
      "text/plain": [
       "True"
      ]
     },
     "execution_count": 22,
     "metadata": {},
     "output_type": "execute_result"
    }
   ],
   "source": [
    "t1 = ([1,2], fn1, 3)\n",
    "t2 = tuple(t1)\n",
    "t1 is t2"
   ]
  },
  {
   "cell_type": "markdown",
   "metadata": {},
   "source": [
    "#### Storage Efficiency"
   ]
  },
  {
   "cell_type": "markdown",
   "metadata": {},
   "source": [
    "When mutable container objects such as lists, sets, dictionaries, etc are  created, and during their lifetime, the allocated capacity of these containers (the number of items they can contain) is greater than the number of elements in the container. This is done to make adding elements to the collection more efficient, and is called over-allocating."
   ]
  },
  {
   "cell_type": "markdown",
   "metadata": {},
   "source": [
    "Immutable containers on the other hand, since their item count is fixed once they have been created, do not need this overallocation - so their storage efficiency is greater."
   ]
  },
  {
   "cell_type": "markdown",
   "metadata": {},
   "source": [
    "Let's look at the size (memory) of lists and tuples as they get larger:"
   ]
  },
  {
   "cell_type": "code",
   "execution_count": 23,
   "metadata": {
    "collapsed": true
   },
   "outputs": [],
   "source": [
    "import sys"
   ]
  },
  {
   "cell_type": "code",
   "execution_count": 24,
   "metadata": {},
   "outputs": [
    {
     "name": "stdout",
     "output_type": "stream",
     "text": [
      "1 items: 56, delta=56\n",
      "2 items: 64, delta=8\n",
      "3 items: 72, delta=8\n",
      "4 items: 80, delta=8\n",
      "5 items: 88, delta=8\n",
      "6 items: 96, delta=8\n",
      "7 items: 104, delta=8\n",
      "8 items: 112, delta=8\n",
      "9 items: 120, delta=8\n",
      "10 items: 128, delta=8\n"
     ]
    }
   ],
   "source": [
    "prev = 0\n",
    "for i in range(10):\n",
    "    c = tuple(range(i+1))\n",
    "    size_c = sys.getsizeof(c)\n",
    "    delta, prev = size_c - prev, size_c\n",
    "    print(f'{i+1} items: {size_c}, delta={delta}')"
   ]
  },
  {
   "cell_type": "code",
   "execution_count": 25,
   "metadata": {},
   "outputs": [
    {
     "name": "stdout",
     "output_type": "stream",
     "text": [
      "1 items: 96, delta=96\n",
      "2 items: 104, delta=8\n",
      "3 items: 112, delta=8\n",
      "4 items: 120, delta=8\n",
      "5 items: 128, delta=8\n",
      "6 items: 136, delta=8\n",
      "7 items: 144, delta=8\n",
      "8 items: 160, delta=16\n",
      "9 items: 192, delta=32\n",
      "10 items: 200, delta=8\n"
     ]
    }
   ],
   "source": [
    "prev = 0\n",
    "for i in range(10):\n",
    "    c = list(range(i+1))\n",
    "    size_c = sys.getsizeof(c)\n",
    "    delta, prev = size_c - prev, size_c\n",
    "    print(f'{i+1} items: {size_c}, delta={delta}')"
   ]
  },
  {
   "cell_type": "markdown",
   "metadata": {},
   "source": [
    "As you can see the size delta for tuples as they get larger, remains a constant 8 bytes (the pointer to the element), but not so for lists which will over-allocate space (this is done to achieve better performance when appending elements to a list).\n",
    "\n",
    "Let's see what happens to the same list when we keep appending elements to it:"
   ]
  },
  {
   "cell_type": "code",
   "execution_count": 26,
   "metadata": {},
   "outputs": [
    {
     "name": "stdout",
     "output_type": "stream",
     "text": [
      "0 items: 64\n",
      "1 items: 96, delta=32\n",
      "2 items: 96, delta=0\n",
      "3 items: 96, delta=0\n",
      "4 items: 96, delta=0\n",
      "5 items: 128, delta=32\n",
      "6 items: 128, delta=0\n",
      "7 items: 128, delta=0\n",
      "8 items: 128, delta=0\n",
      "9 items: 192, delta=64\n",
      "10 items: 192, delta=0\n",
      "11 items: 192, delta=0\n",
      "12 items: 192, delta=0\n",
      "13 items: 192, delta=0\n",
      "14 items: 192, delta=0\n",
      "15 items: 192, delta=0\n",
      "16 items: 192, delta=0\n",
      "17 items: 264, delta=72\n",
      "18 items: 264, delta=0\n",
      "19 items: 264, delta=0\n",
      "20 items: 264, delta=0\n",
      "21 items: 264, delta=0\n",
      "22 items: 264, delta=0\n",
      "23 items: 264, delta=0\n",
      "24 items: 264, delta=0\n",
      "25 items: 264, delta=0\n",
      "26 items: 344, delta=80\n",
      "27 items: 344, delta=0\n",
      "28 items: 344, delta=0\n",
      "29 items: 344, delta=0\n",
      "30 items: 344, delta=0\n",
      "31 items: 344, delta=0\n",
      "32 items: 344, delta=0\n",
      "33 items: 344, delta=0\n",
      "34 items: 344, delta=0\n",
      "35 items: 344, delta=0\n",
      "36 items: 432, delta=88\n",
      "37 items: 432, delta=0\n",
      "38 items: 432, delta=0\n",
      "39 items: 432, delta=0\n",
      "40 items: 432, delta=0\n",
      "41 items: 432, delta=0\n",
      "42 items: 432, delta=0\n",
      "43 items: 432, delta=0\n",
      "44 items: 432, delta=0\n",
      "45 items: 432, delta=0\n",
      "46 items: 432, delta=0\n",
      "47 items: 528, delta=96\n",
      "48 items: 528, delta=0\n",
      "49 items: 528, delta=0\n",
      "50 items: 528, delta=0\n",
      "51 items: 528, delta=0\n",
      "52 items: 528, delta=0\n",
      "53 items: 528, delta=0\n",
      "54 items: 528, delta=0\n",
      "55 items: 528, delta=0\n",
      "56 items: 528, delta=0\n",
      "57 items: 528, delta=0\n",
      "58 items: 528, delta=0\n",
      "59 items: 640, delta=112\n",
      "60 items: 640, delta=0\n",
      "61 items: 640, delta=0\n",
      "62 items: 640, delta=0\n",
      "63 items: 640, delta=0\n",
      "64 items: 640, delta=0\n",
      "65 items: 640, delta=0\n",
      "66 items: 640, delta=0\n",
      "67 items: 640, delta=0\n",
      "68 items: 640, delta=0\n",
      "69 items: 640, delta=0\n",
      "70 items: 640, delta=0\n",
      "71 items: 640, delta=0\n",
      "72 items: 640, delta=0\n",
      "73 items: 768, delta=128\n",
      "74 items: 768, delta=0\n",
      "75 items: 768, delta=0\n",
      "76 items: 768, delta=0\n",
      "77 items: 768, delta=0\n",
      "78 items: 768, delta=0\n",
      "79 items: 768, delta=0\n",
      "80 items: 768, delta=0\n",
      "81 items: 768, delta=0\n",
      "82 items: 768, delta=0\n",
      "83 items: 768, delta=0\n",
      "84 items: 768, delta=0\n",
      "85 items: 768, delta=0\n",
      "86 items: 768, delta=0\n",
      "87 items: 768, delta=0\n",
      "88 items: 768, delta=0\n",
      "89 items: 912, delta=144\n",
      "90 items: 912, delta=0\n",
      "91 items: 912, delta=0\n",
      "92 items: 912, delta=0\n",
      "93 items: 912, delta=0\n",
      "94 items: 912, delta=0\n",
      "95 items: 912, delta=0\n",
      "96 items: 912, delta=0\n",
      "97 items: 912, delta=0\n",
      "98 items: 912, delta=0\n",
      "99 items: 912, delta=0\n",
      "100 items: 912, delta=0\n",
      "101 items: 912, delta=0\n",
      "102 items: 912, delta=0\n",
      "103 items: 912, delta=0\n",
      "104 items: 912, delta=0\n",
      "105 items: 912, delta=0\n",
      "106 items: 912, delta=0\n",
      "107 items: 1072, delta=160\n",
      "108 items: 1072, delta=0\n",
      "109 items: 1072, delta=0\n",
      "110 items: 1072, delta=0\n",
      "111 items: 1072, delta=0\n",
      "112 items: 1072, delta=0\n",
      "113 items: 1072, delta=0\n",
      "114 items: 1072, delta=0\n",
      "115 items: 1072, delta=0\n",
      "116 items: 1072, delta=0\n",
      "117 items: 1072, delta=0\n",
      "118 items: 1072, delta=0\n",
      "119 items: 1072, delta=0\n",
      "120 items: 1072, delta=0\n",
      "121 items: 1072, delta=0\n",
      "122 items: 1072, delta=0\n",
      "123 items: 1072, delta=0\n",
      "124 items: 1072, delta=0\n",
      "125 items: 1072, delta=0\n",
      "126 items: 1072, delta=0\n",
      "127 items: 1248, delta=176\n",
      "128 items: 1248, delta=0\n",
      "129 items: 1248, delta=0\n",
      "130 items: 1248, delta=0\n",
      "131 items: 1248, delta=0\n",
      "132 items: 1248, delta=0\n",
      "133 items: 1248, delta=0\n",
      "134 items: 1248, delta=0\n",
      "135 items: 1248, delta=0\n",
      "136 items: 1248, delta=0\n",
      "137 items: 1248, delta=0\n",
      "138 items: 1248, delta=0\n",
      "139 items: 1248, delta=0\n",
      "140 items: 1248, delta=0\n",
      "141 items: 1248, delta=0\n",
      "142 items: 1248, delta=0\n",
      "143 items: 1248, delta=0\n",
      "144 items: 1248, delta=0\n",
      "145 items: 1248, delta=0\n",
      "146 items: 1248, delta=0\n",
      "147 items: 1248, delta=0\n",
      "148 items: 1248, delta=0\n",
      "149 items: 1448, delta=200\n",
      "150 items: 1448, delta=0\n",
      "151 items: 1448, delta=0\n",
      "152 items: 1448, delta=0\n",
      "153 items: 1448, delta=0\n",
      "154 items: 1448, delta=0\n",
      "155 items: 1448, delta=0\n",
      "156 items: 1448, delta=0\n",
      "157 items: 1448, delta=0\n",
      "158 items: 1448, delta=0\n",
      "159 items: 1448, delta=0\n",
      "160 items: 1448, delta=0\n",
      "161 items: 1448, delta=0\n",
      "162 items: 1448, delta=0\n",
      "163 items: 1448, delta=0\n",
      "164 items: 1448, delta=0\n",
      "165 items: 1448, delta=0\n",
      "166 items: 1448, delta=0\n",
      "167 items: 1448, delta=0\n",
      "168 items: 1448, delta=0\n",
      "169 items: 1448, delta=0\n",
      "170 items: 1448, delta=0\n",
      "171 items: 1448, delta=0\n",
      "172 items: 1448, delta=0\n",
      "173 items: 1448, delta=0\n",
      "174 items: 1672, delta=224\n",
      "175 items: 1672, delta=0\n",
      "176 items: 1672, delta=0\n",
      "177 items: 1672, delta=0\n",
      "178 items: 1672, delta=0\n",
      "179 items: 1672, delta=0\n",
      "180 items: 1672, delta=0\n",
      "181 items: 1672, delta=0\n",
      "182 items: 1672, delta=0\n",
      "183 items: 1672, delta=0\n",
      "184 items: 1672, delta=0\n",
      "185 items: 1672, delta=0\n",
      "186 items: 1672, delta=0\n",
      "187 items: 1672, delta=0\n",
      "188 items: 1672, delta=0\n",
      "189 items: 1672, delta=0\n",
      "190 items: 1672, delta=0\n",
      "191 items: 1672, delta=0\n",
      "192 items: 1672, delta=0\n",
      "193 items: 1672, delta=0\n",
      "194 items: 1672, delta=0\n",
      "195 items: 1672, delta=0\n",
      "196 items: 1672, delta=0\n",
      "197 items: 1672, delta=0\n",
      "198 items: 1672, delta=0\n",
      "199 items: 1672, delta=0\n",
      "200 items: 1672, delta=0\n",
      "201 items: 1672, delta=0\n",
      "202 items: 1928, delta=256\n",
      "203 items: 1928, delta=0\n",
      "204 items: 1928, delta=0\n",
      "205 items: 1928, delta=0\n",
      "206 items: 1928, delta=0\n",
      "207 items: 1928, delta=0\n",
      "208 items: 1928, delta=0\n",
      "209 items: 1928, delta=0\n",
      "210 items: 1928, delta=0\n",
      "211 items: 1928, delta=0\n",
      "212 items: 1928, delta=0\n",
      "213 items: 1928, delta=0\n",
      "214 items: 1928, delta=0\n",
      "215 items: 1928, delta=0\n",
      "216 items: 1928, delta=0\n",
      "217 items: 1928, delta=0\n",
      "218 items: 1928, delta=0\n",
      "219 items: 1928, delta=0\n",
      "220 items: 1928, delta=0\n",
      "221 items: 1928, delta=0\n",
      "222 items: 1928, delta=0\n",
      "223 items: 1928, delta=0\n",
      "224 items: 1928, delta=0\n",
      "225 items: 1928, delta=0\n",
      "226 items: 1928, delta=0\n",
      "227 items: 1928, delta=0\n",
      "228 items: 1928, delta=0\n",
      "229 items: 1928, delta=0\n",
      "230 items: 1928, delta=0\n",
      "231 items: 1928, delta=0\n",
      "232 items: 1928, delta=0\n",
      "233 items: 1928, delta=0\n",
      "234 items: 2216, delta=288\n",
      "235 items: 2216, delta=0\n",
      "236 items: 2216, delta=0\n",
      "237 items: 2216, delta=0\n",
      "238 items: 2216, delta=0\n",
      "239 items: 2216, delta=0\n",
      "240 items: 2216, delta=0\n",
      "241 items: 2216, delta=0\n",
      "242 items: 2216, delta=0\n",
      "243 items: 2216, delta=0\n",
      "244 items: 2216, delta=0\n",
      "245 items: 2216, delta=0\n",
      "246 items: 2216, delta=0\n",
      "247 items: 2216, delta=0\n",
      "248 items: 2216, delta=0\n",
      "249 items: 2216, delta=0\n",
      "250 items: 2216, delta=0\n",
      "251 items: 2216, delta=0\n",
      "252 items: 2216, delta=0\n",
      "253 items: 2216, delta=0\n",
      "254 items: 2216, delta=0\n",
      "255 items: 2216, delta=0\n"
     ]
    }
   ],
   "source": [
    "c = []\n",
    "prev = sys.getsizeof(c)\n",
    "print(f'0 items: {sys.getsizeof(c)}')\n",
    "for i in range(255):\n",
    "    c.append(i)\n",
    "    size_c = sys.getsizeof(c)\n",
    "    delta, prev = size_c - prev, size_c\n",
    "    print(f'{i+1} items: {size_c}, delta={delta}')"
   ]
  },
  {
   "cell_type": "markdown",
   "metadata": {},
   "source": [
    "As you can see the size of the list doesn't grow every time we append an element - it only does so occasionally. Resizing a list is expensive, so not resizing every time an item is added helps out, so this method called *overallocation* is used that creates a larger container than required is used - on the other hand you don't want to overallocate too much as this has a memory cost."
   ]
  },
  {
   "cell_type": "markdown",
   "metadata": {},
   "source": [
    "If you're interested in learning more about why over-allocating is done and how it works (amortization), Wikipedia also has an excellent article on it: https://en.wikipedia.org/wiki/Dynamic_array\n",
    "\n",
    "The book \"Introduction to Algorithms\", by \"Cormen, Leiserson, Rivest and Stein\" has a thorough discussion on it (under dynamic tables)."
   ]
  },
  {
   "cell_type": "markdown",
   "metadata": {},
   "source": [
    "#### Retrieving Elements"
   ]
  },
  {
   "cell_type": "markdown",
   "metadata": {},
   "source": [
    "Let's time retrieving an element from a tuple and a list:"
   ]
  },
  {
   "cell_type": "code",
   "execution_count": 27,
   "metadata": {
    "collapsed": true
   },
   "outputs": [],
   "source": [
    "t = tuple(range(100_000))\n",
    "l = list(t)"
   ]
  },
  {
   "cell_type": "code",
   "execution_count": 28,
   "metadata": {},
   "outputs": [
    {
     "data": {
      "text/plain": [
       "0.5068397038462553"
      ]
     },
     "execution_count": 28,
     "metadata": {},
     "output_type": "execute_result"
    }
   ],
   "source": [
    "timeit('t[99_999]', globals=globals(), number=10_000_000)"
   ]
  },
  {
   "cell_type": "code",
   "execution_count": 29,
   "metadata": {},
   "outputs": [
    {
     "data": {
      "text/plain": [
       "0.4900615230663412"
      ]
     },
     "execution_count": 29,
     "metadata": {},
     "output_type": "execute_result"
    }
   ],
   "source": [
    "timeit('l[99_999]', globals=globals(), number=10_000_000)"
   ]
  },
  {
   "cell_type": "markdown",
   "metadata": {},
   "source": [
    "As you can see, retrieving elements from a tuple is very slightly faster than from a list. But consideting how small the difference really is, I'm not sure I would worry about it too much.\n",
    "\n",
    "There is a reason why this should be true, and it has to do with how tuples and lists are implemented in CPython. Tuples have direct access (pointers) to their elements, while lists need to first access another array that contains the pointers to the elements of the list."
   ]
  }
 ],
 "metadata": {
  "kernelspec": {
   "display_name": "Python 3",
   "language": "python",
   "name": "python3"
  },
  "language_info": {
   "codemirror_mode": {
    "name": "ipython",
    "version": 3
   },
   "file_extension": ".py",
   "mimetype": "text/x-python",
   "name": "python",
   "nbconvert_exporter": "python",
   "pygments_lexer": "ipython3",
   "version": "3.6.2"
  }
 },
 "nbformat": 4,
 "nbformat_minor": 2
}
