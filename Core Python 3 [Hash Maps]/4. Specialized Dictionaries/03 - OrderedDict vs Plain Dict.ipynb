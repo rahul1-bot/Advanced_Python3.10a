{
 "cells": [
  {
   "cell_type": "markdown",
   "metadata": {},
   "source": [
    "### OrderedDict vs Python 3.6 Plain Dicts"
   ]
  },
  {
   "cell_type": "markdown",
   "metadata": {},
   "source": [
    "So, the question, if we are targeting Python 3.6+ is whether we lose anything by not using an `OrderedDict` since plain `dicts` now preserve key order.\n",
    "\n",
    "As we saw in the previous video there were a few features that `OrderedDicts` offer that `dicts` do not have:\n",
    "\n",
    "* reverse iteration\n",
    "* pop first/last item\n",
    "* move key to beginning/end of dictionary\n",
    "* equality (`==`) that takes key order into account"
   ]
  },
  {
   "cell_type": "markdown",
   "metadata": {},
   "source": [
    "We can actually achieve of these things using plain dictionaries, it's just not as straightforward as using the OrdertedDict methods - although I would not be surprised if Python dictionaries eventually get this functionality now that they have a guaranteed key order preservation."
   ]
  },
  {
   "cell_type": "code",
   "execution_count": 40,
   "metadata": {},
   "outputs": [],
   "source": [
    "from collections import OrderedDict"
   ]
  },
  {
   "cell_type": "markdown",
   "metadata": {},
   "source": [
    "#### Reverse Iteration"
   ]
  },
  {
   "cell_type": "code",
   "execution_count": 41,
   "metadata": {},
   "outputs": [],
   "source": [
    "d1 = OrderedDict(a=1, b=2, c=3, d=4)\n",
    "d2 = dict(a=1, b=2, c=3, d=4)"
   ]
  },
  {
   "cell_type": "code",
   "execution_count": 42,
   "metadata": {},
   "outputs": [
    {
     "name": "stdout",
     "output_type": "stream",
     "text": [
      "OrderedDict([('a', 1), ('b', 2), ('c', 3), ('d', 4)])\n",
      "{'a': 1, 'b': 2, 'c': 3, 'd': 4}\n"
     ]
    }
   ],
   "source": [
    "print(d1)\n",
    "print(d2)"
   ]
  },
  {
   "cell_type": "code",
   "execution_count": 43,
   "metadata": {},
   "outputs": [
    {
     "name": "stdout",
     "output_type": "stream",
     "text": [
      "d\n",
      "c\n",
      "b\n",
      "a\n"
     ]
    }
   ],
   "source": [
    "for k in reversed(d1):\n",
    "    print(k)"
   ]
  },
  {
   "cell_type": "markdown",
   "metadata": {},
   "source": [
    "This will not work with a plain dictionary, and neither will it work with the views.\n",
    "\n",
    "But, it looks like this will get implemented in Python 3.8 - https://bugs.python.org/issue33462\n",
    "\n",
    "For now, it can be done but it means making a list out of the keys, and then iterating through the reversed list:"
   ]
  },
  {
   "cell_type": "code",
   "execution_count": 44,
   "metadata": {},
   "outputs": [
    {
     "name": "stdout",
     "output_type": "stream",
     "text": [
      "d\n",
      "c\n",
      "b\n",
      "a\n"
     ]
    }
   ],
   "source": [
    "for k in reversed(list(d2.keys())):\n",
    "    print(k)"
   ]
  },
  {
   "cell_type": "markdown",
   "metadata": {},
   "source": [
    "This is of course not iteal since we have to make a copy of all the keys into a list first - not very efficient. So, we should probably wait for Python 3.8 :-)"
   ]
  },
  {
   "cell_type": "markdown",
   "metadata": {},
   "source": [
    "#### Popping Items"
   ]
  },
  {
   "cell_type": "markdown",
   "metadata": {},
   "source": [
    "Next let's look at `popitem` - we need to be able to pop either the first or the last element.\n",
    "\n",
    "To do this, we really need to be able to determine the *first* and *last* key in the dictionary - again, this is not something we currently have natively in plain dictionaries, so we need to calculate them ourselves."
   ]
  },
  {
   "cell_type": "markdown",
   "metadata": {},
   "source": [
    "Getting the first key is not difficult - we simply retrieve the first key from the keys() view for example:"
   ]
  },
  {
   "cell_type": "code",
   "execution_count": 45,
   "metadata": {},
   "outputs": [
    {
     "name": "stdout",
     "output_type": "stream",
     "text": [
      "{'a': 1, 'b': 2, 'c': 3, 'd': 4}\n",
      "a\n"
     ]
    }
   ],
   "source": [
    "first_key = next(iter(d2.keys()))\n",
    "print(d2)\n",
    "print(first_key)"
   ]
  },
  {
   "cell_type": "markdown",
   "metadata": {},
   "source": [
    "Fiding the last key is a bit more challenging, but fortunately, we can just use the `popitem` method on plain dictionaries that is guaranteed to pop the last insert item - again, this is a guarantee only in Python 3.7 and above:"
   ]
  },
  {
   "cell_type": "code",
   "execution_count": 46,
   "metadata": {},
   "outputs": [
    {
     "name": "stdout",
     "output_type": "stream",
     "text": [
      "{'a': 1, 'b': 2, 'c': 3, 'd': 4}\n",
      "('d', 4)\n",
      "{'a': 1, 'b': 2, 'c': 3}\n"
     ]
    }
   ],
   "source": [
    "d1 = OrderedDict(a=1, b=2, c=3, d=4)\n",
    "d2 = dict(a=1, b=2, c=3, d=4)\n",
    "\n",
    "print(d2)\n",
    "print(d2.popitem())\n",
    "print(d2)"
   ]
  },
  {
   "cell_type": "markdown",
   "metadata": {},
   "source": [
    "So we could combine these into a custom function as follows:"
   ]
  },
  {
   "cell_type": "code",
   "execution_count": 47,
   "metadata": {},
   "outputs": [],
   "source": [
    "def popitem(d, last=True):\n",
    "    if last:\n",
    "        return d.popitem()\n",
    "    else:\n",
    "        first_key = next(iter(d.keys()))\n",
    "        return first_key, d.pop(first_key)"
   ]
  },
  {
   "cell_type": "code",
   "execution_count": 48,
   "metadata": {},
   "outputs": [
    {
     "name": "stdout",
     "output_type": "stream",
     "text": [
      "{'a': 1, 'b': 2, 'c': 3, 'd': 4}\n",
      "('d', 4)\n",
      "{'a': 1, 'b': 2, 'c': 3}\n"
     ]
    }
   ],
   "source": [
    "d2 = dict(a=1, b=2, c=3, d=4)\n",
    "print(d2)\n",
    "print(popitem(d2))\n",
    "print(d2)"
   ]
  },
  {
   "cell_type": "code",
   "execution_count": 33,
   "metadata": {},
   "outputs": [
    {
     "name": "stdout",
     "output_type": "stream",
     "text": [
      "{'a': 1, 'b': 2, 'c': 3, 'd': 4}\n",
      "('a', 1)\n",
      "{'b': 2, 'c': 3, 'd': 4}\n"
     ]
    }
   ],
   "source": [
    "d2 = dict(a=1, b=2, c=3, d=4)\n",
    "print(d2)\n",
    "print(popitem(d2, last=False))\n",
    "print(d2)"
   ]
  },
  {
   "cell_type": "markdown",
   "metadata": {},
   "source": [
    "#### Move to End"
   ]
  },
  {
   "cell_type": "markdown",
   "metadata": {},
   "source": [
    "Next let's look at the `move_to_end` method, which can move any key to either the beginning or the end of the dictionary.\n",
    "\n",
    "Moving a key to the end of the dictionary is easy - we simply pop the item, and insert it again - because of the gauranteed insertion order, this means the key will now be placed at the end of the dictionary:"
   ]
  },
  {
   "cell_type": "code",
   "execution_count": 36,
   "metadata": {},
   "outputs": [
    {
     "name": "stdout",
     "output_type": "stream",
     "text": [
      "{'a': 1, 'b': 2, 'c': 3, 'd': 4}\n",
      "{'a': 1, 'c': 3, 'd': 4, 'b': 2}\n"
     ]
    }
   ],
   "source": [
    "d2 = dict(a=1, b=2, c=3, d=4)\n",
    "print(d2)\n",
    "key = 'b'\n",
    "d2[key] = d2.pop(key)\n",
    "print(d2)"
   ]
  },
  {
   "cell_type": "markdown",
   "metadata": {},
   "source": [
    "Moving to the beginning however is not as easy - the only way I could think of was to take the desired key and moving it to the end first. Then, take every key preceding it, and pop them off and add them back to the dictionary one by one, until, but not including the target key we wanted to move to the beginning of the dictionary.\n",
    "\n",
    "In other words something like this:\n",
    "\n",
    "```a b c d e f```\n",
    "\n",
    "To move `c` to the front, first pop it and add it to the dictionary:\n",
    "``` a b d e f c```\n",
    "\n",
    "Now we do the same thing to every key preceding `c`, essentially moving each key one by one to the end of the dictionary:\n",
    "\n",
    "```b d e f c a```\n",
    "\n",
    "```d e f c a b```\n",
    "\n",
    "```e f c a b d```\n",
    "\n",
    "```f c a b d e```\n",
    "\n",
    "```c a b d e f```"
   ]
  },
  {
   "cell_type": "markdown",
   "metadata": {},
   "source": [
    "We can code it this way:"
   ]
  },
  {
   "cell_type": "code",
   "execution_count": 50,
   "metadata": {},
   "outputs": [
    {
     "name": "stdout",
     "output_type": "stream",
     "text": [
      "dict_keys(['a', 'b', 'c', 'd', 'e', 'f'])\n",
      "dict_keys(['a', 'b', 'd', 'e', 'f', 'c'])\n",
      "dict_keys(['b', 'd', 'e', 'f', 'c', 'a'])\n",
      "dict_keys(['d', 'e', 'f', 'c', 'a', 'b'])\n",
      "dict_keys(['e', 'f', 'c', 'a', 'b', 'd'])\n",
      "dict_keys(['f', 'c', 'a', 'b', 'd', 'e'])\n",
      "dict_keys(['c', 'a', 'b', 'd', 'e', 'f'])\n",
      "{'c': 3, 'a': 1, 'b': 2, 'd': 4, 'e': 5, 'f': 6}\n"
     ]
    }
   ],
   "source": [
    "d = dict(a=1, b=2, c=3, d=4, e=5, f=6)\n",
    "key = 'c'\n",
    "\n",
    "print(d.keys())\n",
    "\n",
    "# first move desired key to end\n",
    "d[key] = d.pop(key)  \n",
    "print(d.keys())\n",
    "\n",
    "keys = list(d.keys())[:-1]\n",
    "for key in keys:\n",
    "    d[key] = d.pop(key)\n",
    "    print(d.keys())\n",
    "    \n",
    "print(d)"
   ]
  },
  {
   "cell_type": "markdown",
   "metadata": {},
   "source": [
    "We can combine both into a single function:"
   ]
  },
  {
   "cell_type": "code",
   "execution_count": 51,
   "metadata": {},
   "outputs": [],
   "source": [
    "def move_to_end(d, key, *, last=True):\n",
    "    d[key] = d.pop(key)\n",
    "    \n",
    "    if not last:\n",
    "        for key in list(d.keys())[:-1]:\n",
    "            d[key] = d.pop(key)       "
   ]
  },
  {
   "cell_type": "code",
   "execution_count": 52,
   "metadata": {},
   "outputs": [],
   "source": [
    "d = dict(a=1, b=2, c=3, d=4, e=5, f=6)"
   ]
  },
  {
   "cell_type": "code",
   "execution_count": 53,
   "metadata": {},
   "outputs": [
    {
     "name": "stdout",
     "output_type": "stream",
     "text": [
      "{'a': 1, 'b': 2, 'd': 4, 'e': 5, 'f': 6, 'c': 3}\n"
     ]
    }
   ],
   "source": [
    "move_to_end(d, 'c')\n",
    "print(d)"
   ]
  },
  {
   "cell_type": "code",
   "execution_count": 46,
   "metadata": {},
   "outputs": [
    {
     "name": "stdout",
     "output_type": "stream",
     "text": [
      "{'c': 2, 'a': 1, 'b': 2, 'd': 3, 'e': 4, 'f': 5}\n"
     ]
    }
   ],
   "source": [
    "move_to_end(d, 'c', last=False)\n",
    "print(d)"
   ]
  },
  {
   "cell_type": "markdown",
   "metadata": {},
   "source": [
    "#### Equality Comparison"
   ]
  },
  {
   "cell_type": "markdown",
   "metadata": {},
   "source": [
    "Lastly let's look at equality (`==`) comparisons.\n",
    "Even though Python 3.6+ guarantees key ordering based on the insertion order, two dictionaries with the same key/values but in different order will compare equal, but not so with `OrderedDict`.\n",
    "\n",
    "To achieve the same type of \"key-order-sensitive\" comparison we therefore need to make sure of two things:\n",
    "1. the dictionaries are equal - i.e. have the same key/value pairs\n",
    "2. the order of the keys is the same in both dictionaries\n",
    "\n",
    "We can easily achieve this comparing the dictionaries and the `keys()` views to make sure they are equal:"
   ]
  },
  {
   "cell_type": "code",
   "execution_count": 1,
   "metadata": {},
   "outputs": [],
   "source": [
    "d1 = {'a': 10, 'b': 20, 'c': 30}\n",
    "d2 = {'b': 20, 'c': 30, 'a': 10}"
   ]
  },
  {
   "cell_type": "code",
   "execution_count": 2,
   "metadata": {},
   "outputs": [
    {
     "data": {
      "text/plain": [
       "True"
      ]
     },
     "execution_count": 2,
     "metadata": {},
     "output_type": "execute_result"
    }
   ],
   "source": [
    "d1 == d2"
   ]
  },
  {
   "cell_type": "markdown",
   "metadata": {},
   "source": [
    "Now just comparing the `keys()` views will not work:"
   ]
  },
  {
   "cell_type": "code",
   "execution_count": 4,
   "metadata": {},
   "outputs": [
    {
     "data": {
      "text/plain": [
       "True"
      ]
     },
     "execution_count": 4,
     "metadata": {},
     "output_type": "execute_result"
    }
   ],
   "source": [
    "d1.keys() == d2.keys()"
   ]
  },
  {
   "cell_type": "markdown",
   "metadata": {},
   "source": [
    "Remember that the `keys()` view behaves like a `set`, so comparisons will be `True` as long as the same elements (keys) are present in both sets - but ordering does not matter."
   ]
  },
  {
   "cell_type": "markdown",
   "metadata": {},
   "source": [
    "Instead, we can materialize these views as lists, and then compare the lists:"
   ]
  },
  {
   "cell_type": "code",
   "execution_count": 5,
   "metadata": {},
   "outputs": [
    {
     "data": {
      "text/plain": [
       "False"
      ]
     },
     "execution_count": 5,
     "metadata": {},
     "output_type": "execute_result"
    }
   ],
   "source": [
    "list(d1.keys()) == list(d2.keys())"
   ]
  },
  {
   "cell_type": "markdown",
   "metadata": {},
   "source": [
    "So to test for \"key-order-sensitive\" equality, we can simply do this:"
   ]
  },
  {
   "cell_type": "code",
   "execution_count": 6,
   "metadata": {},
   "outputs": [
    {
     "data": {
      "text/plain": [
       "False"
      ]
     },
     "execution_count": 6,
     "metadata": {},
     "output_type": "execute_result"
    }
   ],
   "source": [
    "d1 == d2 and list(d1.keys()) == list(d2.keys())"
   ]
  },
  {
   "cell_type": "markdown",
   "metadata": {},
   "source": [
    "Of course, materializing the lists incurs some overhead, so instead we could use iteration through both key views and make sure each corresponding key is equal.\n",
    "\n",
    "There are a number of ways to do this, here I'm going to use `zip` to do it:"
   ]
  },
  {
   "cell_type": "code",
   "execution_count": 7,
   "metadata": {},
   "outputs": [],
   "source": [
    "def dict_equal_sensitive(d1, d2):\n",
    "    if d1 == d2:\n",
    "        for k1, k2 in zip(d1.keys(), d2.keys()):\n",
    "            if k1 != k2:\n",
    "                return False\n",
    "        return True\n",
    "    else:\n",
    "        return False"
   ]
  },
  {
   "cell_type": "code",
   "execution_count": 8,
   "metadata": {},
   "outputs": [
    {
     "data": {
      "text/plain": [
       "False"
      ]
     },
     "execution_count": 8,
     "metadata": {},
     "output_type": "execute_result"
    }
   ],
   "source": [
    "dict_equal_sensitive(d1, d2)"
   ]
  },
  {
   "cell_type": "code",
   "execution_count": 9,
   "metadata": {},
   "outputs": [
    {
     "data": {
      "text/plain": [
       "True"
      ]
     },
     "execution_count": 9,
     "metadata": {},
     "output_type": "execute_result"
    }
   ],
   "source": [
    "dict_equal_sensitive(d1, d1)"
   ]
  },
  {
   "cell_type": "markdown",
   "metadata": {},
   "source": [
    "If you want a pure functional programming approach that does not use a loop, we can do it this way too, using `all` and `map`:"
   ]
  },
  {
   "cell_type": "code",
   "execution_count": 28,
   "metadata": {},
   "outputs": [],
   "source": [
    "def dict_equal_sensitive(d1, d2):\n",
    "    if d1 == d2:\n",
    "        return all(map(lambda el: el[0] == el[1], \n",
    "                       zip(d1.keys(), d2.keys())\n",
    "                      )\n",
    "                  )\n",
    "    else:\n",
    "        return False"
   ]
  },
  {
   "cell_type": "code",
   "execution_count": 36,
   "metadata": {},
   "outputs": [
    {
     "data": {
      "text/plain": [
       "False"
      ]
     },
     "execution_count": 36,
     "metadata": {},
     "output_type": "execute_result"
    }
   ],
   "source": [
    "dict_equal_sensitive(d1, d2)"
   ]
  },
  {
   "cell_type": "code",
   "execution_count": 37,
   "metadata": {},
   "outputs": [
    {
     "data": {
      "text/plain": [
       "True"
      ]
     },
     "execution_count": 37,
     "metadata": {},
     "output_type": "execute_result"
    }
   ],
   "source": [
    "dict_equal_sensitive(d1, d1)"
   ]
  },
  {
   "cell_type": "markdown",
   "metadata": {},
   "source": [
    "So, we can perform all these operations on a standard dictionary, but it is a lot more work to do so - for now I would stick to using an `OrderedDict` when I need those specific methods beyond just a guaranteed key order. If the guaranteed key order is all I need, then a plain `dict` will work just fine."
   ]
  },
  {
   "cell_type": "markdown",
   "metadata": {},
   "source": [
    "#### Timings"
   ]
  },
  {
   "cell_type": "markdown",
   "metadata": {},
   "source": [
    "What about timings?\n",
    "\n",
    "Let's look at a few timings to see the performance difference between plain `dicts` and `OrderedDicts`."
   ]
  },
  {
   "cell_type": "code",
   "execution_count": 54,
   "metadata": {},
   "outputs": [],
   "source": [
    "from timeit import timeit"
   ]
  },
  {
   "cell_type": "code",
   "execution_count": 55,
   "metadata": {},
   "outputs": [],
   "source": [
    "def create_dict(n=100):\n",
    "    d = dict()\n",
    "    for i in range(n):\n",
    "        d[i] = i\n",
    "    return d"
   ]
  },
  {
   "cell_type": "code",
   "execution_count": 56,
   "metadata": {},
   "outputs": [],
   "source": [
    "def create_ordered_dict(n=100):\n",
    "    d = OrderedDict()\n",
    "    for i in range(n):\n",
    "        d[i] = i\n",
    "    return d"
   ]
  },
  {
   "cell_type": "code",
   "execution_count": 58,
   "metadata": {},
   "outputs": [
    {
     "data": {
      "text/plain": [
       "0.46366495298570953"
      ]
     },
     "execution_count": 58,
     "metadata": {},
     "output_type": "execute_result"
    }
   ],
   "source": [
    "timeit('create_dict(10_000)', globals=globals(), number=1_000)"
   ]
  },
  {
   "cell_type": "code",
   "execution_count": 59,
   "metadata": {},
   "outputs": [
    {
     "data": {
      "text/plain": [
       "0.718640872015385"
      ]
     },
     "execution_count": 59,
     "metadata": {},
     "output_type": "execute_result"
    }
   ],
   "source": [
    "timeit('create_ordered_dict(10_000)', globals=globals(), number=1_000)"
   ]
  },
  {
   "cell_type": "markdown",
   "metadata": {},
   "source": [
    "As you can see, creating an OrderedDict has slightly more overhead.\n",
    "\n",
    "Let's see if recovering a key from an `OrderedDict` is slower than a plain `dict`:"
   ]
  },
  {
   "cell_type": "code",
   "execution_count": 60,
   "metadata": {},
   "outputs": [
    {
     "data": {
      "text/plain": [
       "0.005689098994480446"
      ]
     },
     "execution_count": 60,
     "metadata": {},
     "output_type": "execute_result"
    }
   ],
   "source": [
    "d1 = create_dict(10_000)\n",
    "d2 = create_ordered_dict(10_000)\n",
    "\n",
    "timeit('d1[9_999]', globals=globals(), number=100_000)"
   ]
  },
  {
   "cell_type": "code",
   "execution_count": 61,
   "metadata": {},
   "outputs": [
    {
     "data": {
      "text/plain": [
       "0.005895093985600397"
      ]
     },
     "execution_count": 61,
     "metadata": {},
     "output_type": "execute_result"
    }
   ],
   "source": [
    "timeit('d2[9_999]', globals=globals(), number=100_000)"
   ]
  },
  {
   "cell_type": "markdown",
   "metadata": {},
   "source": [
    "So no significant difference between these two.\n"
   ]
  },
  {
   "cell_type": "markdown",
   "metadata": {},
   "source": [
    "Let's see how pop (first and last) differs:"
   ]
  },
  {
   "cell_type": "code",
   "execution_count": 64,
   "metadata": {},
   "outputs": [
    {
     "data": {
      "text/plain": [
       "0.06503099398105405"
      ]
     },
     "execution_count": 64,
     "metadata": {},
     "output_type": "execute_result"
    }
   ],
   "source": [
    "n = 1_000_000\n",
    "d1 = create_dict(n)\n",
    "timeit('d1.popitem()', globals = globals(), number=n)"
   ]
  },
  {
   "cell_type": "code",
   "execution_count": 66,
   "metadata": {},
   "outputs": [
    {
     "data": {
      "text/plain": [
       "0.26186515000881627"
      ]
     },
     "execution_count": 66,
     "metadata": {},
     "output_type": "execute_result"
    }
   ],
   "source": [
    "n = 1_000_000\n",
    "d2 = create_ordered_dict(n)\n",
    "timeit('d2.popitem(last=True)', globals = globals(), number=n)"
   ]
  },
  {
   "cell_type": "markdown",
   "metadata": {},
   "source": [
    "Perhaps not surprisingly, the built-in `dict` is substantially faster at popping the last item of the dictionary.\n",
    "\n",
    "What about popping the first item?"
   ]
  },
  {
   "cell_type": "code",
   "execution_count": 70,
   "metadata": {},
   "outputs": [
    {
     "data": {
      "text/plain": [
       "2.9098294480063487"
      ]
     },
     "execution_count": 70,
     "metadata": {},
     "output_type": "execute_result"
    }
   ],
   "source": [
    "n = 100_000\n",
    "d1 = create_dict(n)\n",
    "timeit('popitem(d1, last=False)', globals = globals(), number=n)"
   ]
  },
  {
   "cell_type": "code",
   "execution_count": 71,
   "metadata": {},
   "outputs": [
    {
     "data": {
      "text/plain": [
       "0.038049360999139026"
      ]
     },
     "execution_count": 71,
     "metadata": {},
     "output_type": "execute_result"
    }
   ],
   "source": [
    "n = 100_000\n",
    "d2 = create_ordered_dict(n)\n",
    "timeit('d2.popitem(last=False)', globals = globals(), number=n)"
   ]
  },
  {
   "cell_type": "markdown",
   "metadata": {},
   "source": [
    "As you can see, substantially faster in an `OrderedDict`."
   ]
  },
  {
   "cell_type": "markdown",
   "metadata": {},
   "source": [
    "You can try the other methods (`move_to_end` and equality testing) yourself - if you do, please post your results in the **Q&A** section!\n",
    "Or maybe you can come up with more efficient alternatives to what we have here for pop, move, etc."
   ]
  },
  {
   "cell_type": "code",
   "execution_count": null,
   "metadata": {},
   "outputs": [],
   "source": []
  }
 ],
 "metadata": {
  "kernelspec": {
   "display_name": "Python 3",
   "language": "python",
   "name": "python3"
  },
  "language_info": {
   "codemirror_mode": {
    "name": "ipython",
    "version": 3
   },
   "file_extension": ".py",
   "mimetype": "text/x-python",
   "name": "python",
   "nbconvert_exporter": "python",
   "pygments_lexer": "ipython3",
   "version": "3.6.7"
  }
 },
 "nbformat": 4,
 "nbformat_minor": 2
}
