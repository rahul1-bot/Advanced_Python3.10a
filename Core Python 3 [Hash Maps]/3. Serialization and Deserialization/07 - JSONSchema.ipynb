{
 "cells": [
  {
   "cell_type": "markdown",
   "metadata": {},
   "source": [
    "### JSON Schemas"
   ]
  },
  {
   "cell_type": "markdown",
   "metadata": {},
   "source": [
    "Often when we work with JSON data, the way the data is formatted is not haphazard - it often conforms to some very precise specification.\n",
    "\n",
    "For example, REST API's will conform to some specific format for JSON input and output. \n",
    "\n",
    "This is called conforming to a **schema**. It is very similar to how relational databases work - we have a schema that precisely defines the columns in tables, the relationships between tables and so on.\n",
    "\n",
    "One of the main reasons for having these schemas for JSON data is that it allows us to serialize and deserialize the data more easily - we know in advance what the JSON structure will look like, and we can therefore write code that will leverage our understanding of the JSON structure.\n",
    "\n",
    "There are many ways in which we can define a JSON schema - it could be as simple as creating a Word document that explains how the JSON needs to be structured. Although that works, there are better, standards-based approaches though.\n",
    "\n",
    "One of these is the JSON Schema standard:\n",
    "https://json-schema.org/\n",
    "\n",
    "We don't need Python, or any programming language, to define a schema - the schema definition is completely language-independent.\n",
    "\n",
    "But given a JSON schema, we can now use a consistent approach to serializing and deserializing the data.\n",
    "\n",
    "Moreover, we can also write code to serialize and deserialize specific object types - since we know exactly what to expect in the JSON string."
   ]
  },
  {
   "cell_type": "markdown",
   "metadata": {},
   "source": [
    "I am not going to cover JSON Schema in any detail here, but I will show you some simple examples of how these schemas can be defined."
   ]
  },
  {
   "cell_type": "markdown",
   "metadata": {},
   "source": [
    "Let's say we are creating an API that responds to a POST method to create some resource - let's say a Person. We want our JSON structure to look like the following:"
   ]
  },
  {
   "cell_type": "markdown",
   "metadata": {},
   "source": [
    "```\n",
    "{\n",
    "    \"firstName\": \"...\",\n",
    "    \"middleInitial\": \"...\",\n",
    "    \"lastName\": \"...\",\n",
    "    \"age\": ...\n",
    "}\n",
    "```"
   ]
  },
  {
   "cell_type": "markdown",
   "metadata": {},
   "source": [
    "We can start with a simple schema as follows:"
   ]
  },
  {
   "cell_type": "code",
   "execution_count": 1,
   "metadata": {},
   "outputs": [],
   "source": [
    "person_schema = {\n",
    "    \"type\": \"object\",\n",
    "    \"properties\": {\n",
    "        \"firstName\": {\"type\": \"string\"},\n",
    "        \"middleInitial\": {\"type\": \"string\"},\n",
    "        \"lastName\": {\"type\": \"string\"},\n",
    "        \"age\": {\"type\": \"number\"}\n",
    "    }\n",
    "}"
   ]
  },
  {
   "cell_type": "markdown",
   "metadata": {},
   "source": [
    "The question now becomes, given a JSON string, does it conform to the schema or not?"
   ]
  },
  {
   "cell_type": "markdown",
   "metadata": {},
   "source": [
    "For example, this one is OK:"
   ]
  },
  {
   "cell_type": "code",
   "execution_count": 2,
   "metadata": {},
   "outputs": [],
   "source": [
    "p1 = '''\n",
    "    {\n",
    "        \"firstName\": \"John\",\n",
    "        \"middleInitial\": \"M\",\n",
    "        \"lastName\": \"Cleese\",\n",
    "        \"age\": 79\n",
    "    }\n",
    "'''"
   ]
  },
  {
   "cell_type": "markdown",
   "metadata": {},
   "source": [
    "How about this one is does not:"
   ]
  },
  {
   "cell_type": "code",
   "execution_count": 3,
   "metadata": {},
   "outputs": [],
   "source": [
    "p2 = '''\n",
    "    {\n",
    "        \"firstName\": \"John\",\n",
    "        \"middleInitial\": 100,\n",
    "        \"lastName\": \"Cleese\",\n",
    "        \"age\": \"Unknown\"\n",
    "    }\n",
    "'''"
   ]
  },
  {
   "cell_type": "markdown",
   "metadata": {},
   "source": [
    "`p2` does not conform to our schema for two reasons:\n",
    "1. \"middleInitial\" should be a string\n",
    "2. \"age\" should be a number"
   ]
  },
  {
   "cell_type": "markdown",
   "metadata": {},
   "source": [
    "How about this one?"
   ]
  },
  {
   "cell_type": "code",
   "execution_count": 4,
   "metadata": {},
   "outputs": [],
   "source": [
    "p3 = '''\n",
    "    {\n",
    "        \"firstName\": \"John\",\n",
    "        \"age\": -10.5\n",
    "    }\n",
    "'''"
   ]
  },
  {
   "cell_type": "markdown",
   "metadata": {},
   "source": [
    "Actually this one **does** conform to our schema - unless we indicate a field as required, it is optional.\n",
    "\n",
    "The `\"age\"` field is a number, so it also conforms to our schema. But we really would want it to be an integer, and not allow negative numbers.\n",
    "\n",
    "Fortunately, JSON Schema does allow us to be more specific with our schema:"
   ]
  },
  {
   "cell_type": "code",
   "execution_count": 5,
   "metadata": {},
   "outputs": [],
   "source": [
    "person_schema = {\n",
    "    \"type\": \"object\",\n",
    "    \"properties\": {\n",
    "        \"firstName\": {\n",
    "            \"type\": \"string\",\n",
    "            \"minLength\": 1\n",
    "        },\n",
    "        \"middleInitial\": {\n",
    "            \"type\": \"string\",\n",
    "            \"minLength\": 1,\n",
    "            \"maxLength\": 1\n",
    "        },\n",
    "        \"lastName\": {\n",
    "            \"type\": \"string\",\n",
    "            \"minLength\": 1\n",
    "        },\n",
    "        \"age\": {\n",
    "            \"type\": \"integer\", \n",
    "            \"minimum\": 0\n",
    "        }\n",
    "    },\n",
    "    \"required\": [\"firstName\", \"lastName\"]\n",
    "}"
   ]
  },
  {
   "cell_type": "markdown",
   "metadata": {},
   "source": [
    "So in this schema we require that `\"firstName\"` and `\"lastName\"` be provided, and have a minimum number of characters (`1`). We do not make `\"middleInitial\"` required, but if it is provided it must be one, and exactly one, character long.\n",
    "\n",
    "The `\"age\"` field is not required, but if it is, it must be a non-negative integer."
   ]
  },
  {
   "cell_type": "markdown",
   "metadata": {},
   "source": [
    "The JSON Schema specification is actually quite intricate and can be used to specify schemas with great accuracy and specificity.\n",
    "\n",
    "For example, we may have a field `\"eyeColor\"` which must contain (if provided) one of a few specific values: `amber`, `blue`, `brown`, `gray`, `green`, `hazel`, `red`, or `violet`.\n",
    "\n",
    "We can do this as follows:"
   ]
  },
  {
   "cell_type": "code",
   "execution_count": 6,
   "metadata": {},
   "outputs": [],
   "source": [
    "person_schema = {\n",
    "    \"type\": \"object\",\n",
    "    \"properties\": {\n",
    "        \"firstName\": {\n",
    "            \"type\": \"string\",\n",
    "            \"minLength\": 1\n",
    "        },\n",
    "        \"middleInitial\": {\n",
    "            \"type\": \"string\",\n",
    "            \"minLength\": 1,\n",
    "            \"maxLength\": 1\n",
    "        },\n",
    "        \"lastName\": {\n",
    "            \"type\": \"string\",\n",
    "            \"minLength\": 1\n",
    "        },\n",
    "        \"age\": {\n",
    "            \"type\": \"integer\", \n",
    "            \"minimum\": 0\n",
    "        },\n",
    "        \"eyeColor\": {\n",
    "            \"type\": \"string\",\n",
    "            \"enum\": [\"amber\", \"blue\", \"brown\", \"gray\", \n",
    "                     \"green\", \"hazel\", \"red\", \"violet\"]\n",
    "        }\n",
    "    },\n",
    "    \"required\": [\"firstName\", \"lastName\"]\n",
    "}"
   ]
  },
  {
   "cell_type": "markdown",
   "metadata": {},
   "source": [
    "We can now go back to our original question - determining if a given JSON string conforms to a given schema. We can easily determine if the JSON is valid (we can just do a `loads` for example), but does it conform to the JSON Schema?\n",
    "\n",
    "We could write Python code to do this ourselves, but that would be really complicated!!"
   ]
  },
  {
   "cell_type": "markdown",
   "metadata": {},
   "source": [
    "Instead, I am going to use the excellent Python library linked here: https://github.com/Julian/jsonschema\n",
    "\n",
    "You will need to install it first (usually `pip install jsonschema` in whatever environment you are using - you are using a virtual environment of some sort, right?!!)"
   ]
  },
  {
   "cell_type": "code",
   "execution_count": 7,
   "metadata": {},
   "outputs": [],
   "source": [
    "from jsonschema import validate\n",
    "from jsonschema.exceptions import ValidationError\n",
    "from json import loads, dumps, JSONDecodeError"
   ]
  },
  {
   "cell_type": "markdown",
   "metadata": {},
   "source": [
    "We can use the `validate` function, but it will not work with a string - it needs to be deserialized into a Python dictionary first (which means it will have to be a valid JSON structure first)."
   ]
  },
  {
   "cell_type": "code",
   "execution_count": 8,
   "metadata": {},
   "outputs": [
    {
     "name": "stdout",
     "output_type": "stream",
     "text": [
      "\n",
      "    {\n",
      "        \"firstName\": \"John\",\n",
      "        \"middleInitial\": \"M\",\n",
      "        \"lastName\": \"Cleese\",\n",
      "        \"age\": 79\n",
      "    }\n",
      "\n",
      "JSON is valid\n"
     ]
    }
   ],
   "source": [
    "print(p1)\n",
    "\n",
    "try:\n",
    "    validate(loads(p1), person_schema)\n",
    "except JSONDecodeError as ex:\n",
    "    print(f'Invalid JSON: {ex}')\n",
    "except ValidationError as ex:\n",
    "    print(f'Validation error: {ex}')\n",
    "else:\n",
    "    print('JSON is valid')"
   ]
  },
  {
   "cell_type": "code",
   "execution_count": 9,
   "metadata": {},
   "outputs": [
    {
     "name": "stdout",
     "output_type": "stream",
     "text": [
      "\n",
      "    {\n",
      "        \"firstName\": \"John\",\n",
      "        \"middleInitial\": 100,\n",
      "        \"lastName\": \"Cleese\",\n",
      "        \"age\": \"Unknown\"\n",
      "    }\n",
      "\n",
      "Validation error: 100 is not of type 'string'\n",
      "\n",
      "Failed validating 'type' in schema['properties']['middleInitial']:\n",
      "    {'maxLength': 1, 'minLength': 1, 'type': 'string'}\n",
      "\n",
      "On instance['middleInitial']:\n",
      "    100\n"
     ]
    }
   ],
   "source": [
    "print(p2)\n",
    "\n",
    "try:\n",
    "    validate(loads(p2), person_schema)\n",
    "except JSONDecodeError as ex:\n",
    "    print(f'Invalid JSON: {ex}')\n",
    "except ValidationError as ex:\n",
    "    print(f'Validation error: {ex}')\n",
    "else:\n",
    "    print('JSON is valid')"
   ]
  },
  {
   "cell_type": "code",
   "execution_count": 10,
   "metadata": {},
   "outputs": [
    {
     "name": "stdout",
     "output_type": "stream",
     "text": [
      "\n",
      "    {\n",
      "        \"firstName\": \"John\",\n",
      "        \"age\": -10.5\n",
      "    }\n",
      "\n",
      "Validation error: -10.5 is not of type 'integer'\n",
      "\n",
      "Failed validating 'type' in schema['properties']['age']:\n",
      "    {'minimum': 0, 'type': 'integer'}\n",
      "\n",
      "On instance['age']:\n",
      "    -10.5\n"
     ]
    }
   ],
   "source": [
    "print(p3)\n",
    "try:\n",
    "    validate(loads(p3), person_schema)\n",
    "except JSONDecodeError as ex:\n",
    "    print(f'Invalid JSON: {ex}')\n",
    "except ValidationError as ex:\n",
    "    print(f'Validation error: {ex}')\n",
    "else:\n",
    "    print('JSON is valid')"
   ]
  },
  {
   "cell_type": "markdown",
   "metadata": {},
   "source": [
    "You'll notice that the validator only returns the first validation error it encounters. This can be changed to run the entire validation and return all the validation errors (if any), but utilizes a slightly different way of performing validation:"
   ]
  },
  {
   "cell_type": "code",
   "execution_count": 11,
   "metadata": {},
   "outputs": [],
   "source": [
    "from jsonschema import Draft4Validator\n",
    "\n",
    "validator = Draft4Validator(person_schema)"
   ]
  },
  {
   "cell_type": "code",
   "execution_count": 12,
   "metadata": {},
   "outputs": [
    {
     "name": "stdout",
     "output_type": "stream",
     "text": [
      "100 is not of type 'string'\n",
      "\n",
      "Failed validating 'type' in schema['properties']['middleInitial']:\n",
      "    {'maxLength': 1, 'minLength': 1, 'type': 'string'}\n",
      "\n",
      "On instance['middleInitial']:\n",
      "    100\n",
      "-----------\n",
      "'Unknown' is not of type 'integer'\n",
      "\n",
      "Failed validating 'type' in schema['properties']['age']:\n",
      "    {'minimum': 0, 'type': 'integer'}\n",
      "\n",
      "On instance['age']:\n",
      "    'Unknown'\n",
      "-----------\n"
     ]
    }
   ],
   "source": [
    "for error in validator.iter_errors(loads(p2)):\n",
    "    print(error, end='\\n-----------\\n')"
   ]
  },
  {
   "cell_type": "markdown",
   "metadata": {},
   "source": [
    "We can also test out the schema for `eyeColor`:"
   ]
  },
  {
   "cell_type": "code",
   "execution_count": 13,
   "metadata": {},
   "outputs": [],
   "source": [
    "p4 = '''\n",
    "    {\n",
    "        \"firstName\": \"John\",\n",
    "        \"middleInitial\": null,\n",
    "        \"lastName\": \"Cleese\",\n",
    "        \"eyeColor\": \"blue-gray\"\n",
    "    }\n",
    "'''"
   ]
  },
  {
   "cell_type": "code",
   "execution_count": 14,
   "metadata": {},
   "outputs": [
    {
     "name": "stdout",
     "output_type": "stream",
     "text": [
      "None is not of type 'string'\n",
      "\n",
      "Failed validating 'type' in schema['properties']['middleInitial']:\n",
      "    {'maxLength': 1, 'minLength': 1, 'type': 'string'}\n",
      "\n",
      "On instance['middleInitial']:\n",
      "    None\n",
      "-----------\n",
      "'blue-gray' is not one of ['amber', 'blue', 'brown', 'gray', 'green', 'hazel', 'red', 'violet']\n",
      "\n",
      "Failed validating 'enum' in schema['properties']['eyeColor']:\n",
      "    {'enum': ['amber',\n",
      "              'blue',\n",
      "              'brown',\n",
      "              'gray',\n",
      "              'green',\n",
      "              'hazel',\n",
      "              'red',\n",
      "              'violet'],\n",
      "     'type': 'string'}\n",
      "\n",
      "On instance['eyeColor']:\n",
      "    'blue-gray'\n",
      "-----------\n"
     ]
    }
   ],
   "source": [
    "for error in validator.iter_errors(loads(p4)):\n",
    "    print(error, end='\\n-----------\\n')    "
   ]
  },
  {
   "cell_type": "markdown",
   "metadata": {},
   "source": [
    "So JSON Schema paired with this library is a great way to ensure a JSON document conforms to some specific schema. It is useful even when you create your own JSON serializer to make sure you are conforming to your own pre-determined schema - especially useful in unit testing to make sure you did not miss something when serializing your objects to JSON.\n",
    "\n",
    "But all this does not address the other issue we have - serializing and deserializing Python objects to and from JSON strings (marshalling).\n",
    "\n",
    "Not to worry, there are also quite a few libraries out there that will help with this difficult task too.\n",
    "\n",
    "In the next video I will look at one of the more popular ones - Mashmallow - but there are others as well."
   ]
  }
 ],
 "metadata": {
  "kernelspec": {
   "display_name": "Python 3",
   "language": "python",
   "name": "python3"
  },
  "language_info": {
   "codemirror_mode": {
    "name": "ipython",
    "version": 3
   },
   "file_extension": ".py",
   "mimetype": "text/x-python",
   "name": "python",
   "nbconvert_exporter": "python",
   "pygments_lexer": "ipython3",
   "version": "3.6.7"
  }
 },
 "nbformat": 4,
 "nbformat_minor": 2
}
